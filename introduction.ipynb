{
 "cells": [
  {
   "attachments": {},
   "cell_type": "markdown",
   "metadata": {},
   "source": [
    "# Practical 1\n",
    "\n",
    "In this practical we will set up a working Python3 development environment and will start familiarizing a bit with Python.\n",
    "\n",
    "## Slides\n",
    "\n",
    "Slides of the introduction can be found here: [Intro](docs/sciprolabintro.pdf)\n",
    "\n",
    "## Setting up the environment\n",
    "\n",
    "We will need to install several pieces of software to get a working programming environment suitable for this practical. In this section we will install everything that we will need in the next few weeks. \n",
    "\n",
    "Python3 is available for Windows, Linux and Mac.\n",
    "\n",
    "### Our toolbox\n",
    "\n",
    "Basically we will need to install some software to start off with. \n",
    "\n",
    "1. The first is the Python interpreter.In this course we will use python version 3.x. A lot of information on python can be found on the [python web page](https://www.python.org/).  \n",
    "\n",
    "    If you work under linux, fire up a terminal and type in the following commands:\n",
    "\n",
    "    ```sudo apt-get update```\n",
    "    \n",
    "    ```sudo apt-get install python3```\n",
    "    \n",
    "    <div class=\"alert alert-warning\">\n",
    "\n",
    "    **Note:** If Python3.x is already installed in your system you will get a message like: \n",
    "    \n",
    "    python3 is already the newest version (3.x.y)\n",
    "\n",
    "    </div>\n",
    "\n",
    "    Install now the package manager pip, which is a very convenient tool to install python packages, with the following command:\n",
    "    \n",
    "    ```sudo apt-get install -y python3-pip```\n",
    "    \n",
    "\n",
    "    Installers for Windows and Mac can be found at the bottom of [this page](https://www.python.org/) \n",
    "\n",
    "    ![download.png](img/download.png)\n",
    "\n",
    "\n",
    "\n",
    "## The console\n",
    "\n",
    "## Visual Code Studio\n",
    "\n",
    "## The debugger\n",
    "\n",
    "## Exercises\n",
    "\n",
    "\n",
    " \n",
    "\n",
    "\n"
   ]
  }
 ],
 "metadata": {
  "kernelspec": {
   "display_name": "Python 3",
   "language": "python",
   "name": "python3"
  },
  "language_info": {
   "codemirror_mode": {
    "name": "ipython",
    "version": 3
   },
   "file_extension": ".py",
   "mimetype": "text/x-python",
   "name": "python",
   "nbconvert_exporter": "python",
   "pygments_lexer": "ipython3",
   "version": "3.5.2"
  }
 },
 "nbformat": 4,
 "nbformat_minor": 2
}
