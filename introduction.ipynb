{
 "cells": [
  {
   "cell_type": "markdown",
   "metadata": {},
   "source": [
    "# Practical 1\n",
    "\n",
    "In this practical we will set up a working Python3 development environment and will start familiarizing a bit with Python.\n",
    "\n",
    "## Slides\n",
    "\n",
    "Slides of the introduction can be found here: [Intro](docs/sciprolabintro.pdf)\n",
    "\n",
    "## Setting up the environment\n",
    "\n",
    "We will need to install several pieces of software to get a working programming environment suitable for this practical. In this section we will install everything that we will need in the next few weeks. \n",
    "\n",
    "Python3 is available for Windows, Linux and Mac.\n",
    "\n",
    "### Our toolbox\n",
    "\n",
    "Basically we will need to install some software to start off with. If you work on Windows or Mac, skip the following and go straight to the section \"Windows/Mac installation\"\n",
    "\n",
    "#### Linux installation \n",
    "\n",
    "1. The Python interpreter. In this course we will use python version 3.x. A lot of information on python can be found on the [python web page](https://www.python.org/). Open a terminal and try typing in:\n",
    "\n",
    "    ```python3```\n",
    "    \n",
    "    if you get an error like \"python3 command not found\" you need to install it, while if you get something like this:\n",
    "    \n",
    "    ![](img/console.png)\n",
    "    \n",
    "    you are already sorted, just type Ctrl-D to exit.\n",
    "\n",
    "    Installation on a debian-like linux distribution (e.g. Ubuntu) can be done by typing the following commands on a terminal:\n",
    "\n",
    "    ```sudo apt-get update```\n",
    "    ```sudo apt-get install python3```\n",
    "\n",
    "\n",
    "\n",
    "2. Install now the package manager pip, which is a very convenient tool to install python packages, with the following command:\n",
    "    \n",
    "    ```sudo apt-get install python3-pip```\n",
    "    \n",
    "    <div class=\"alert alert-warning\">\n",
    "\n",
    "    **Note:** \n",
    "    \n",
    "    If pip is already installed in your system you will get a message like: \n",
    "    python3-pip is already the newest version (3.x.y)\n",
    "\n",
    "    </div>\n",
    "    \n",
    "3. Finally, install the Integrated Development Environment (IDE) that we will be using. This is called Visual Studio Code and is available for all platforms. You can read about it [here](https://code.visualstudio.com/). Downloads for all platforms can be found [here](https://code.visualstudio.com/Download).\n",
    "\n",
    "#### Windows/Mac installation \n",
    "\n",
    "1. The python interpreter. In this course we will use python version 3.x. A lot of information on python can be found on the [python web page](https://www.python.org/). Installers for Windows and Mac can be found at [this page](https://www.python.org/). Click on Download Python 3.6.x. When executing the installer, please remember to flag \"Add Python 3.6.2 to PATH\" and then click on Install now (see picture below). \n",
    "\n",
    "    ![](img/installnow.png)\n",
    "\n",
    "2. Install now the Integrated Development Environment (IDE) that we will be using. This is called Visual Studio Code and is available for all platforms. You can read about it [here](https://code.visualstudio.com/). Downloads for all platforms can be found [here](https://code.visualstudio.com/Download).\n",
    "\n",
    "\n",
    "## The console\n",
    "\n",
    "To access the console on Linux just open a terminal and type:\n",
    "\n",
    "```python3```\n",
    "\n",
    "while in Windows you have to look for \"Python\" and run \"Python 3.6\".\n",
    "The console should look like this:\n",
    "\n",
    "   ![](img/pythonconsole.png)\n",
    "   \n",
    "\n",
    "Now we are all set to start interacting with the Python interpreter. Type in the following:"
   ]
  },
  {
   "cell_type": "code",
   "execution_count": 1,
   "metadata": {},
   "outputs": [
    {
     "data": {
      "text/plain": [
       "8"
      ]
     },
     "execution_count": 1,
     "metadata": {},
     "output_type": "execute_result"
    }
   ],
   "source": [
    "5 + 3"
   ]
  },
  {
   "cell_type": "markdown",
   "metadata": {},
   "source": [
    "All as expected, let's challenge python with some other operations:"
   ]
  },
  {
   "cell_type": "code",
   "execution_count": 3,
   "metadata": {},
   "outputs": [
    {
     "data": {
      "text/plain": [
       "0.007518796992481203"
      ]
     },
     "execution_count": 3,
     "metadata": {},
     "output_type": "execute_result"
    }
   ],
   "source": [
    "12 / 5"
   ]
  },
  {
   "cell_type": "code",
   "execution_count": 4,
   "metadata": {},
   "outputs": [
    {
     "data": {
      "text/plain": [
       "0.007518796992481203"
      ]
     },
     "execution_count": 4,
     "metadata": {},
     "output_type": "execute_result"
    }
   ],
   "source": [
    "1/133"
   ]
  },
  {
   "cell_type": "markdown",
   "metadata": {},
   "source": [
    "And some assignments:"
   ]
  },
  {
   "cell_type": "code",
   "execution_count": 6,
   "metadata": {},
   "outputs": [
    {
     "name": "stdout",
     "output_type": "stream",
     "text": [
      "sum is: 17  division is: 1.4285714285714286\n"
     ]
    }
   ],
   "source": [
    "a = 10\n",
    "b = 7\n",
    "s = a + b\n",
    "d = a / b\n",
    "\n",
    "print(\"sum is:\",s, \" division is:\",d)"
   ]
  },
  {
   "cell_type": "markdown",
   "metadata": {},
   "source": [
    "## Visual Studio Code\n",
    "\n",
    "## The debugger\n",
    "\n",
    "## Exercises"
   ]
  }
 ],
 "metadata": {
  "kernelspec": {
   "display_name": "Python 3",
   "language": "python",
   "name": "python3"
  },
  "language_info": {
   "codemirror_mode": {
    "name": "ipython",
    "version": 3
   },
   "file_extension": ".py",
   "mimetype": "text/x-python",
   "name": "python",
   "nbconvert_exporter": "python",
   "pygments_lexer": "ipython3",
   "version": "3.5.2"
  }
 },
 "nbformat": 4,
 "nbformat_minor": 2
}
