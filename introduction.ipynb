{
 "cells": [
  {
   "cell_type": "markdown",
   "metadata": {},
   "source": [
    "# Practical 1\n",
    "\n",
    "In this practical we will set up a working Python3 development environment and will start familiarizing a bit with Python.\n",
    "\n",
    "## Slides\n",
    "\n",
    "Slides of the introduction can be found here: [Intro](docs/sciprolabintro.pdf)\n",
    "\n",
    "## Setting up the environment\n",
    "\n",
    "We will need to install several pieces of software to get a working programming environment suitable for this practical. In this section we will install everything that we will need in the next few weeks. \n",
    "\n",
    "Python3 is available for Windows, Linux and Mac.\n",
    "\n",
    "### Our toolbox\n",
    "\n",
    "Basically we will need to install some software to start off with. If you work on Windows or Mac, skip the following and go straight to the section \"Windows/Mac installation\"\n",
    "\n",
    "#### Linux installation \n",
    "\n",
    "1. The Python interpreter. In this course we will use python version 3.x. A lot of information on python can be found on the [python web page](https://www.python.org/). Open a terminal and try typing in:\n",
    "\n",
    "    ```python3```\n",
    "    \n",
    "    if you get an error like \"python3 command not found\" you need to install it, while if you get something like this:\n",
    "    \n",
    "    ![](img/console.png)\n",
    "    \n",
    "    you are already sorted, just type Ctrl-D to exit.\n",
    "\n",
    "    Installation on a debian-like linux distribution (e.g. Ubuntu) can be done by typing the following commands on a terminal:\n",
    "\n",
    "    ```sudo apt-get update```\n",
    "    \n",
    "    ```sudo apt-get install python3```\n",
    "\n",
    "\n",
    "\n",
    "2. Install now the package manager pip, which is a very convenient tool to install python packages, with the following command:\n",
    "    \n",
    "    ```sudo apt-get install python3-pip```\n",
    "    \n",
    "    <div class=\"alert alert-warning\">\n",
    "\n",
    "    **Note:** \n",
    "    \n",
    "    If pip is already installed in your system you will get a message like: \n",
    "    python3-pip is already the newest version (3.x.y)\n",
    "\n",
    "    </div>\n",
    "    \n",
    "3. Finally, install the Integrated Development Environment (IDE) that we will be using. This is called Visual Studio Code and is available for all platforms. You can read about it [here](https://code.visualstudio.com/). Downloads for all platforms can be found [here](https://code.visualstudio.com/Download).\n",
    "\n",
    "#### Windows/Mac installation \n",
    "\n",
    "1. The python interpreter. In this course we will use python version 3.x. A lot of information on python can be found on the [python web page](https://www.python.org/). Installers for Windows and Mac can be found at [this page](https://www.python.org/). Click on Download Python 3.6.x. When executing the installer, please remember to flag \"Add Python 3.6.2 to PATH\" and then click on Install now (see picture below). \n",
    "\n",
    "    ![](img/installnow.png)\n",
    "\n",
    "\n",
    "2. Install now the Integrated Development Environment (IDE) that we will be using. This is called Visual Studio Code and is available for all platforms. You can read about it [here](https://code.visualstudio.com/). Downloads for all platforms can be found [here](https://code.visualstudio.com/Download).\n",
    "\n",
    "\n",
    "## The console\n",
    "\n",
    "To access the console on Linux just open a terminal and type:\n",
    "\n",
    "```python3```\n",
    "\n",
    "while in Windows you have to look for \"Python\" and run \"Python 3.6\".\n",
    "The console should look like this:\n",
    "\n",
    "   ![](img/pythonconsole.png)\n",
    "   \n",
    "\n",
    "Now we are all set to start interacting with the Python interpreter. Type in the following:"
   ]
  },
  {
   "cell_type": "code",
   "execution_count": 1,
   "metadata": {},
   "outputs": [
    {
     "data": {
      "text/plain": [
       "8"
      ]
     },
     "execution_count": 1,
     "metadata": {},
     "output_type": "execute_result"
    }
   ],
   "source": [
    "5 + 3"
   ]
  },
  {
   "cell_type": "markdown",
   "metadata": {},
   "source": [
    "All as expected. The \"In [1]\" line is the input, while the \"Out [1]\" reports the output of the interpreter. Let's challenge python with some other operations:"
   ]
  },
  {
   "cell_type": "code",
   "execution_count": 2,
   "metadata": {},
   "outputs": [
    {
     "data": {
      "text/plain": [
       "2.4"
      ]
     },
     "execution_count": 2,
     "metadata": {},
     "output_type": "execute_result"
    }
   ],
   "source": [
    "12 / 5"
   ]
  },
  {
   "cell_type": "code",
   "execution_count": 3,
   "metadata": {},
   "outputs": [
    {
     "data": {
      "text/plain": [
       "0.007518796992481203"
      ]
     },
     "execution_count": 3,
     "metadata": {},
     "output_type": "execute_result"
    }
   ],
   "source": [
    "1/133"
   ]
  },
  {
   "cell_type": "markdown",
   "metadata": {},
   "source": [
    "And some assignments:"
   ]
  },
  {
   "cell_type": "code",
   "execution_count": 4,
   "metadata": {},
   "outputs": [
    {
     "name": "stdout",
     "output_type": "stream",
     "text": [
      "sum is: 17  division is: 1.4285714285714286\n"
     ]
    }
   ],
   "source": [
    "a = 10\n",
    "b = 7\n",
    "s = a + b\n",
    "d = a / b\n",
    "\n",
    "print(\"sum is:\",s, \" division is:\",d)"
   ]
  },
  {
   "cell_type": "markdown",
   "metadata": {},
   "source": [
    "In the first four lines, values have been assigned to variables through the = operator. In the last line, the print function is used to display the output. For the time being, we will skip all the details and just notice that the print function somehow managed to get text and variables in input and coherently merged them in an output text. \n",
    "Although quite useful in some occasions, the console is quite limited therefore you can close it for now. To exit type Ctrl-D or exit()."
   ]
  },
  {
   "cell_type": "markdown",
   "metadata": {},
   "source": [
    "## Visual Studio Code\n",
    "\n",
    "Once you open the IDE Visual Studio Code you will see the welcome screen:\n",
    "\n",
    "![](img/visual_studio_code.png)\n",
    "\n",
    "You can find useful information on this tool [here](https://code.visualstudio.com/docs#vscode). Please spend some time having a look at that page.\n",
    "\n",
    "Once you are done with it you can close this window. First thing to do is to set the python interpreter to use. Click on View --> Command Palette and type \"Python\" in the text search space. Select **Python: Select Workspace Interpreter** as shown in the picture below.\n",
    "\n",
    "![](img/pythoninterpreter.png)\n",
    "\n",
    "Finally, select the python version you want to use (e.g. Python3).\n",
    "\n",
    "Now you can click on **Open Folder** to create a new folder to place all the scripts you are going to create. You can call it something like \"EXERCISES\". Next you can create a new file, *example1.py* (*.py* extension stands for python). \n",
    "\n",
    "Visual Studio Code will understand that you are writing Python code and will help you with valid syntax for your program.\n",
    "\n",
    "<div class=\"alert alert-warning\">\n",
    "\n",
    "**Warning:** \n",
    "\n",
    "If you get the following error message:\n",
    "\n",
    "![](img/pylint.png)\n",
    "\n",
    "click on **Install Pylint** which is a useful tool to help your coding experience.\n",
    "</div>\n",
    "\n",
    "\n",
    "Add the following text to your *example1.py* file."
   ]
  },
  {
   "cell_type": "code",
   "execution_count": 5,
   "metadata": {},
   "outputs": [
    {
     "name": "stdout",
     "output_type": "stream",
     "text": [
      "a: 10  b: 33  a/b= 0.30303030303030304\n"
     ]
    }
   ],
   "source": [
    "\"\"\"\n",
    "This is the first example of Python script.\n",
    "\"\"\"\n",
    "a = 10 # variable a\n",
    "b = 33 # variable b\n",
    "c = a / b # variable c holds the ratio\n",
    "\n",
    "# Let's print the result to screen.\n",
    "print(\"a:\", a, \" b:\", b, \" a/b=\", c)"
   ]
  },
  {
   "cell_type": "markdown",
   "metadata": {},
   "source": [
    "A couple of things worth nothing. The first three lines opened and closed by \"\"\" are some text describing the content of the script. Moreover, comments are proceeded by the hash key (#) and they are just ignored by the python interpreter. Please remember to comment your code, as it helps readability and will make your life easier when you have to modify or just understand the code you wrote some time in the past.  \n",
    "\n",
    "Please notice that Visual Studio Code will help you writing your Python scripts. For example, when you start writing the **print** line it will complete the code for you (**if the Pylint extension mentioned above is installed**), suggesting the functions that match the letters written. This useful feature is called *code completion* and, alongside suggesting possible matches, it also visualizes a description of the function and parameters it needs. Here is an example:\n",
    "\n",
    "![](img/codecompletion.png)\n",
    "\n",
    "Save the file (Ctrl+S as shortcut). By right-clicking in the code panel and selecting **Run Python File in Terminal** (see picture below) you can execute the code you have just written. \n",
    "\n",
    "![](img/pythonrun.png)\n",
    "\n",
    "Upon clicking on *Run Python File in Terminal* a terminal panel should pop up in the lower section of the coding panel and the result shown above should be reported.\n",
    "\n",
    "Saving script files like the *example1.py* above is also handy because they can be invoked several times (later on we will learn how to get inputs from the command line to make them more useful...). To do so, you just need to call the python intepreter passing the script file as parameter. From the folder containing the *example1.py* script:\n",
    "\n",
    "```python3 example1.py```\n",
    "\n",
    "will in fact return:\n",
    "\n",
    "a: 10  b: 33  a/b= 0.30303030303030304\n",
    "\n",
    "\n",
    "*Please take some time to familiarize with Visual Studio Code (creating files, saving files etc.) as in the next practicals we will take this ability for granted.*"
   ]
  },
  {
   "cell_type": "markdown",
   "metadata": {},
   "source": [
    "## The debugger\n",
    "\n",
    "Another important feature of advanced Integrated Development Environments (IDEs) is their debugging capabilities. Visual Studio Code comes with a debugging tool that can help you trace the execution of your code and understand where possible errors hide. \n",
    "\n",
    "Write the following code on a new file (let's call it *integer_sum.py*) and execute it to get the result."
   ]
  },
  {
   "cell_type": "code",
   "execution_count": 6,
   "metadata": {},
   "outputs": [
    {
     "name": "stdout",
     "output_type": "stream",
     "text": [
      "The sum of the first 1200 integers is:  720600\n"
     ]
    }
   ],
   "source": [
    "\"\"\" integer_sum.py is a script to\n",
    " compute the sum of the first 1200 integers. \"\"\"\n",
    "\n",
    "S = 0\n",
    "for i in range(0, 1201):\n",
    "    S = S + i\n",
    "\n",
    "print(\"The sum of the first 1200 integers is: \", S)"
   ]
  },
  {
   "cell_type": "markdown",
   "metadata": {},
   "source": [
    "Without getting into too many details, the code you just wrote starts initializing a variable S to zero, and then loops from 0 to 1200 assigning each time the value to a variable i, accumulating the sum of S + i in the variable S. **A final thing to notice is indentation.** In Python it is important to indent the code properly as this provides the right scope for variables (e.g. see that the line *S = S + 1* starts more to the right than the previous and following line -- this is because it is inside the for loop). You do not have to worry about this for the time being, we will get to this in a later practical...\n",
    "\n",
    "How does this code work? How does the value of S and i change as the code is executed? These are questions that can be answered by the debugger.\n",
    "\n",
    "To start the debugger, click on **Debug --> Start Debugging** (shortcut F5). The following small panel should pop up:\n",
    "\n",
    "![](img/debug.png)\n",
    "\n",
    "We will use it shortly, but before that, let's focus on what we want to track. On the left hand side of the main panel, a *Watch* panel appeared. This is where we need to add the things we want to monitor as the execution of the program goes. With respect to the code written above, we are interested in keeping an eye on the variables S, i and also of the expression S+i (that will give us the value of S of the next iteration). Add these three expressions in the watch panel (click on **+** to add new expressions). The watch panel should look like this:\n",
    "\n",
    "![](img/watch.png)\n",
    "\n",
    "do not worry about the message \"*name X is not defined*\", this is normal as no execution has taken place yet and the interpreter still does not know the value of these expressions.\n",
    "\n",
    "The final thing before starting to debug is to set some breakpoints, places where the execution will stop so that we can check the value of the watched expressions. This can be done by hovering with the mouse on the left of the line number. A small reddish dot should appear, place the mouse over the correct line (e.g. the line corresponding to *S = S + 1* and click to add the breakpoint (a red dot should appear once you click).  \n",
    "\n",
    "![](img/breakpoint.png)\n",
    "\n",
    "Now we are ready to start debugging the code. Click on the green triangle on the small debug panel and you will see that the yellow arrow moved to the breakpoint and that the watch panel updated the value of all our expressions.\n",
    "\n",
    "![](img/step0.png)\n",
    "\n",
    "The value of all expressions is zero because the debugger stopped **before** executing the code specified at the breakpoint line (recall that S is initialized to 0 and that i will range from 0 to 1200). If you click again on the green arrow, execution will continue until the next breakpoint (we are in a for loop, so this will be again the same line - trust me for the time being).\n",
    "\n",
    "![](img/step1.png)\n",
    "\n",
    "Now i has been increased to 1, S is still 0 (remember that the execution stopped **before** executing the code at the breakpoint) and therefore S + i is now 1. Click one more time on the green arrow and values should update accordingly (i.e. S to 1, i to 2 and S + i to 3), another round of execution should update S to 3, i to 3 and S + i to 6. Got how this works? Variable i is increased by one each time, while S increases by i. You can go on for a few more iterations and see if this makes any sense to you, once you are done with debugging you can stop the execution by pressing the red square on the debug small panel. \n",
    "\n",
    "\n",
    "*Please take some more time to familiarize with Visual Studio Code (creating files, saving files, interacting with the debugger etc.) as in the next practicals we will take this ability for granted. Once you are done you can move on and do the following exercises.*"
   ]
  },
  {
   "cell_type": "markdown",
   "metadata": {},
   "source": [
    "## Exercises\n",
    "\n",
    "1. Compute the area of a triangle having base 120 units and height 33. Assign the result to a variable named area and print it.\n",
    "\n",
    "2. Compute the area of a square having side S equal to 145 units. Assign the result to a variable named area and print it.\n",
    "\n",
    "3. If you have not done so already, put the two previous scripts in two separate files (e.g. triangle_area.py and square_area.py and execute them from the terminal).\n",
    "\n",
    "4. Write a small script (trapezoid.py) that computes the area of a trapezoid having major base (MB) equal to 30 units, minor base (mb) equal to 12 and height (H) equal to 17. Print the resulting area. Try executing the script from inside Visual Studio Code and from the terminal.\n",
    "\n",
    "5. Rewrite the example of the sum of the first 1200 integers by using the following equation: $\\sum\\limits_{i=1}^n i = \\frac{n (n+1)}{2}$\n",
    "\n",
    "\n",
    "\n"
   ]
  }
 ],
 "metadata": {
  "kernelspec": {
   "display_name": "Python 3",
   "language": "python",
   "name": "python3"
  },
  "language_info": {
   "codemirror_mode": {
    "name": "ipython",
    "version": 3
   },
   "file_extension": ".py",
   "mimetype": "text/x-python",
   "name": "python",
   "nbconvert_exporter": "python",
   "pygments_lexer": "ipython3",
   "version": "3.5.2"
  }
 },
 "nbformat": 4,
 "nbformat_minor": 2
}
