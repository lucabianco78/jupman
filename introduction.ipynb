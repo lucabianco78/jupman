{
 "cells": [
  {
   "cell_type": "markdown",
   "metadata": {},
   "source": [
    "# Practical 1\n",
    "\n",
    "In this practical we will set up a working Python3 development environment and will start familiarizing a bit with Python.\n",
    "\n",
    "## Slides\n",
    "\n",
    "Slides of the introduction can be found here: [Intro](docs/sciprolabintro.pdf)\n",
    "\n",
    "## Setting up the environment\n",
    "\n",
    "We will need to install several pieces of software to get a working programming environment suitable for this practical. In this section we will install everything that we will need in the next few weeks. \n",
    "\n",
    "Python3 is available for Windows, Linux and Mac.\n",
    "\n",
    "### Our toolbox\n",
    "\n",
    "Basically we will need to install three pieces of software to start off with. \n",
    "\n",
    "The first is the Python interpreter.In this course we will use python version 3.x. A lot of information on python can be found on the [python web page](https://www.python.org/).  \n",
    "\n",
    "Installers for Windows and Mac can be found at the bottom of [this page](https://www.python.org/) \n",
    "\n",
    "## The console\n",
    "\n",
    "## Visual Code Studio\n",
    "\n",
    "## The debugger\n",
    "\n",
    "## Exercises\n",
    "\n",
    "\n",
    " \n",
    "\n",
    "\n"
   ]
  }
 ],
 "metadata": {
  "kernelspec": {
   "display_name": "Python 3",
   "language": "python",
   "name": "python3"
  },
  "language_info": {
   "codemirror_mode": {
    "name": "ipython",
    "version": 3
   },
   "file_extension": ".py",
   "mimetype": "text/x-python",
   "name": "python",
   "nbconvert_exporter": "python",
   "pygments_lexer": "ipython3",
   "version": "3.5.2"
  }
 },
 "nbformat": 4,
 "nbformat_minor": 2
}
