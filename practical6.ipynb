{
 "cells": [
  {
   "cell_type": "code",
   "execution_count": null,
   "metadata": {
    "nbsphinx": "hidden"
   },
   "outputs": [],
   "source": [
    "import jupman\n",
    "jupman.init()"
   ]
  },
  {
   "cell_type": "markdown",
   "metadata": {},
   "source": [
    "# Practical 6\n",
    "\n",
    "In this practical we will see how to define functions to reuse code, we will talk about the scope of variables and finally will see how to deal with files in Python.\n",
    "\n",
    "## Slides\n",
    "\n",
    "The slides of the introduction can be found here: [Intro](docs/Practical6.pdf)\n",
    "\n",
    "## Functions\n",
    "\n",
    "A function is a block of code that has a name and that performs a task. A function can be thought of as a box that gets an input and returns an output. Why should we use functions? For a lot of reasons including: \n",
    "    1. *Reduce code duplication*: put in functions parts of code that are needed several times in the whole program so that you don't need to repeat the same code over and over again;\n",
    "    2. *Decompose a complex task*: make the code easier to write and understand by splitting the whole progam in several easier functions;\n",
    "\n",
    "both things improve code readability and make your code easier to understand.\n",
    "\n",
    "The basic definition of a function is:\n",
    "```\n",
    "def function_name(input) :\n",
    "    #code implementing the function\n",
    "    ...\n",
    "    ...\n",
    "    return return_value\n",
    "```\n",
    "\n",
    "Functions are defined with the **def** keyword that proceeds the *function_name* and then a list of parameters is passed in the brackets. A colon **:** is used to end the line holding the definition of the function. The code implementing the function is specified by using indentation. A function **might** or **might not** return a value. In the first case a **return** statement is used.\n",
    "\n",
    "\n",
    "**Example:** \n",
    "Define a function that implements the sum of two integer lists (note that there is no check that the two lists actually contain integers and that they have the same size)."
   ]
  },
  {
   "cell_type": "code",
   "execution_count": 5,
   "metadata": {},
   "outputs": [
    {
     "name": "stdout",
     "output_type": "stream",
     "text": [
      "L1: [1, 2, 3, 4, 5, 6, 7, 8, 9]\n",
      "L2: [20, 21, 22, 23, 24, 25, 26, 27, 28, 29]\n",
      "L1+L2: [21, 23, 25, 27, 29, 31, 33, 35, 37]\n",
      "L1+L1 [2, 4, 6, 8, 10, 12, 14, 16, 18]\n"
     ]
    }
   ],
   "source": [
    "def int_list_sum(l1,l2):\n",
    "    \"\"\"implements the sum of two lists of integers having the same size  \n",
    "    \"\"\"\n",
    "    ret =[]\n",
    "    for i in range(len(l1)):\n",
    "        ret.append(l1[i] + l2[i])\n",
    "    return ret\n",
    "\n",
    "L1 = list(range(1,10))\n",
    "L2 = list(range(20,30))\n",
    "print(\"L1:\", L1)\n",
    "print(\"L2:\", L2)\n",
    "\n",
    "res = int_list_sum(L1,L2)\n",
    "\n",
    "print(\"L1+L2:\", res)\n",
    "\n",
    "res = int_list_sum(L1,L1)\n",
    "\n",
    "print(\"L1+L1\", res)"
   ]
  },
  {
   "cell_type": "markdown",
   "metadata": {},
   "source": [
    "Note that once the function has been defined, it can be called as many times as wanted with different input parameters. Moreover, **a function does not do anything until it is actually called.**\n",
    "A function can return **0** (in this case the return value would be \"None\"), **1** or **more** results. Notice also that collecting the results of a function is **not mandatory**.\n",
    "\n",
    "**Example:**\n",
    "Let's write a function that, given a list of elements, prints only the even-placed ones without returning anything."
   ]
  },
  {
   "cell_type": "code",
   "execution_count": 6,
   "metadata": {},
   "outputs": [
    {
     "name": "stdout",
     "output_type": "stream",
     "text": [
      "L1: ['hi', 'there', 'from', 'python', '!']\n",
      "L2: [0, 1, 2, 3, 4, 5, 6, 7, 8, 9, 10, 11, 12]\n",
      "even L1: ['hi', 'from', '!']\n",
      "even L2: [0, 2, 4, 6, 8, 10, 12]\n"
     ]
    }
   ],
   "source": [
    "def get_even_placed(myList):\n",
    "    \"\"\"returns the even placed elements of myList\"\"\"\n",
    "    ret = [myList[i] for i in range(len(myList)) if i % 2 == 0]\n",
    "    print(ret)\n",
    "\n",
    "L1 = [\"hi\", \"there\", \"from\",\"python\",\"!\"]\n",
    "L2 = list(range(13))\n",
    "\n",
    "print(\"L1:\", L1)\n",
    "print(\"L2:\", L2)\n",
    "\n",
    "print(\"even L1:\")\n",
    "get_even_placed(L1)\n",
    "print(\"even L2:\")       \n",
    "get_even_placed(L2)"
   ]
  },
  {
   "cell_type": "markdown",
   "metadata": {},
   "source": [
    "**Note that the function above is polymorphic** (i.e. it works on several data types, provided that we can iterate through them).\n",
    "\n",
    "**Example:**\n",
    "Let's write a function that, given a list of integers, returns the number of elements, the maximum and minimum."
   ]
  },
  {
   "cell_type": "code",
   "execution_count": 9,
   "metadata": {},
   "outputs": [
    {
     "name": "stdout",
     "output_type": "stream",
     "text": [
      "[7, 1, 125, 4, -1, 0]\n",
      "Len: 6 Min: -1 Max: 125\n"
     ]
    }
   ],
   "source": [
    "def get_info(myList):\n",
    "    \"\"\"returns len of myList, min and max value (assumes elements are integers)\"\"\"\n",
    "    tmp = myList[:] #copy the input list\n",
    "    tmp.sort()\n",
    "    return len(tmp), tmp[0], tmp[-1] #return type is a tuple\n",
    "\n",
    "A = [7, 1, 125, 4, -1, 0]\n",
    "\n",
    "print(A)\n",
    "result = get_info(A)\n",
    "print(\"Len:\", result[0], \"Min:\", result[1], \"Max:\",result[2] )\n",
    "\n",
    "    "
   ]
  },
  {
   "cell_type": "markdown",
   "metadata": {},
   "source": [
    "Please note that the return value above is actually a tuple.\n",
    "Importantly enough, a function needs to be defined (i.e. its code has to be written) before it can actually be used. "
   ]
  },
  {
   "cell_type": "code",
   "execution_count": 7,
   "metadata": {},
   "outputs": [
    {
     "ename": "NameError",
     "evalue": "name 'my_sum' is not defined",
     "output_type": "error",
     "traceback": [
      "\u001b[0;31m---------------------------------------------------------------------------\u001b[0m",
      "\u001b[0;31mNameError\u001b[0m                                 Traceback (most recent call last)",
      "\u001b[0;32m<ipython-input-7-585169a2991a>\u001b[0m in \u001b[0;36m<module>\u001b[0;34m()\u001b[0m\n\u001b[1;32m      1\u001b[0m \u001b[0mA\u001b[0m \u001b[0;34m=\u001b[0m \u001b[0;34m[\u001b[0m\u001b[0;36m1\u001b[0m\u001b[0;34m,\u001b[0m\u001b[0;36m2\u001b[0m\u001b[0;34m,\u001b[0m\u001b[0;36m3\u001b[0m\u001b[0;34m]\u001b[0m\u001b[0;34m\u001b[0m\u001b[0m\n\u001b[0;32m----> 2\u001b[0;31m \u001b[0mmy_sum\u001b[0m\u001b[0;34m(\u001b[0m\u001b[0mA\u001b[0m\u001b[0;34m)\u001b[0m\u001b[0;34m\u001b[0m\u001b[0m\n\u001b[0m\u001b[1;32m      3\u001b[0m \u001b[0;34m\u001b[0m\u001b[0m\n\u001b[1;32m      4\u001b[0m \u001b[0;32mdef\u001b[0m \u001b[0mmy_sum\u001b[0m\u001b[0;34m(\u001b[0m\u001b[0mmyList\u001b[0m\u001b[0;34m)\u001b[0m\u001b[0;34m:\u001b[0m\u001b[0;34m\u001b[0m\u001b[0m\n\u001b[1;32m      5\u001b[0m     \u001b[0mret\u001b[0m \u001b[0;34m=\u001b[0m \u001b[0;36m0\u001b[0m\u001b[0;34m\u001b[0m\u001b[0m\n",
      "\u001b[0;31mNameError\u001b[0m: name 'my_sum' is not defined"
     ]
    }
   ],
   "source": [
    "A = [1,2,3]\n",
    "my_sum(A)\n",
    "\n",
    "def my_sum(myList):\n",
    "    ret = 0\n",
    "    for el in myList:\n",
    "        ret += el\n",
    "    return ret\n",
    "\n",
    "        "
   ]
  },
  {
   "cell_type": "markdown",
   "metadata": {},
   "source": [
    "## Namespace and variable scope\n",
    "\n",
    "**Namespaces** are mappings from *names* to objects, or in other words places where names are associated to objects. Namespaces can be considered as the context. According to Python's reference a **scope** is a *textual region of a Python program, where a namespace is directly accessible*, which means that Python will look into that *namespace* to find the object associated to a name. Four **namespaces** are made available by Python:\n",
    "\n",
    "    1. **Local**: the innermost that contains local names;\n",
    "    \n",
    "    2. **Enclosing**: the scope of the enclosing function, \n",
    "    it does not contain local nor global names;\n",
    "    \n",
    "    3. **Global**: contains the global names;\n",
    "    \n",
    "    4. **Built-in**: contains all built in names \n",
    "    (e.g. print, if, while, for,...)\n",
    "    \n",
    "When one refers to a name, Python tries to find it in the current namespace, if it is not found it continues looking in the namespace that contains it until the built-in namespace is reached. If the name is not found there either, the Python interpreter will throw a **NameError** exception, meaning it cannot find the name. The order in which namespaces are considered is: Local, Enclosing, Global and Built-in (LEGB).  \n",
    "\n",
    "Consider the following example:"
   ]
  },
  {
   "cell_type": "code",
   "execution_count": 19,
   "metadata": {},
   "outputs": [
    {
     "name": "stdout",
     "output_type": "stream",
     "text": [
      "Local: 1\n",
      "Local: my string\n",
      "Global: 7\n"
     ]
    },
    {
     "ename": "NameError",
     "evalue": "name 'b' is not defined",
     "output_type": "error",
     "traceback": [
      "\u001b[0;31m---------------------------------------------------------------------------\u001b[0m",
      "\u001b[0;31mNameError\u001b[0m                                 Traceback (most recent call last)",
      "\u001b[0;32m<ipython-input-19-da11a41b34ff>\u001b[0m in \u001b[0;36m<module>\u001b[0;34m()\u001b[0m\n\u001b[1;32m      8\u001b[0m \u001b[0mmy_function\u001b[0m\u001b[0;34m(\u001b[0m\u001b[0;34m)\u001b[0m\u001b[0;34m\u001b[0m\u001b[0m\n\u001b[1;32m      9\u001b[0m \u001b[0mprint\u001b[0m\u001b[0;34m(\u001b[0m\u001b[0;34m\"Global:\"\u001b[0m\u001b[0;34m,\u001b[0m \u001b[0mvar\u001b[0m\u001b[0;34m)\u001b[0m\u001b[0;34m\u001b[0m\u001b[0m\n\u001b[0;32m---> 10\u001b[0;31m \u001b[0mprint\u001b[0m\u001b[0;34m(\u001b[0m\u001b[0mb\u001b[0m\u001b[0;34m)\u001b[0m\u001b[0;34m\u001b[0m\u001b[0m\n\u001b[0m\u001b[1;32m     11\u001b[0m \u001b[0;34m\u001b[0m\u001b[0m\n",
      "\u001b[0;31mNameError\u001b[0m: name 'b' is not defined"
     ]
    }
   ],
   "source": [
    "def my_function():\n",
    "    var = 1  #local variable\n",
    "    print(\"Local:\", var)\n",
    "    b = \"my string\"\n",
    "    print(\"Local:\", b)\n",
    "    \n",
    "var = 7 #global variable\n",
    "my_function()\n",
    "print(\"Global:\", var)\n",
    "print(b)\n",
    "    "
   ]
  },
  {
   "cell_type": "markdown",
   "metadata": {},
   "source": [
    "Variables defined within a function can only be seen within the function. That is why variable b is defined only within the function. Variables defined outside all functions are **global** to the whole program.\n",
    "The namespace of the local variable is within the function my_function, while outside it the variable will have its  global value.\n",
    "\n",
    "And the following:"
   ]
  },
  {
   "cell_type": "code",
   "execution_count": 21,
   "metadata": {},
   "outputs": [
    {
     "name": "stdout",
     "output_type": "stream",
     "text": [
      "Inner: 2\n",
      "Inner: This is B\n",
      "Outer: 1\n",
      "Global: 3\n",
      "Global: This is B\n"
     ]
    }
   ],
   "source": [
    "def outer_function():\n",
    "    var = 1 #outer\n",
    "    \n",
    "    def inner_function():\n",
    "        var = 2 #inner\n",
    "        print(\"Inner:\", var)\n",
    "        print(\"Inner:\", B)    \n",
    "    \n",
    "    inner_function()\n",
    "    print(\"Outer:\", var)\n",
    "    \n",
    "    \n",
    "var = 3 #global\n",
    "B = \"This is B\"\n",
    "outer_function()\n",
    "print(\"Global:\", var)\n",
    "print(\"Global:\", B)"
   ]
  },
  {
   "cell_type": "markdown",
   "metadata": {},
   "source": [
    "Note in particular that the variable B is global, therefore it is accessible everywhere and also inside the inner_function. On the contrary, the value of var defined within the inner_function is accessible only in the namespace defined by it, outside it will assume different values as shown in the example.\n",
    "\n",
    "In a nutshell, remember the three simple rules seen in the lecture. Within a **def**:\n",
    "\n",
    "    1. Name assignments create local names by default;\n",
    "    2. Name references search the following four scopes in the order: \n",
    "    local, enclosing functions (if any), then global and finally built-in (LEGB)\n",
    "    3. Names declared in global and nonlocal statements map assigned names to \n",
    "    enclosing module and function scopes."
   ]
  },
  {
   "cell_type": "markdown",
   "metadata": {},
   "source": [
    "## Argument passing\n",
    "\n",
    "Three important things to bear in mind are:\n",
    "\n",
    "1. Passing an argument is actually assigning an object to a local variable name;\n",
    "2. Assigning an object to a variable name within a function **does not affect the caller**;\n",
    "3. Changing a **mutable** object variable name within a function **affects the caller**\n",
    "\n",
    "Consider the following examples:"
   ]
  },
  {
   "cell_type": "code",
   "execution_count": 24,
   "metadata": {},
   "outputs": [
    {
     "name": "stdout",
     "output_type": "stream",
     "text": [
      "Local:  local value\n",
      "Global: global value\n",
      "Local:  local value\n"
     ]
    }
   ],
   "source": [
    "\"\"\"Assigning the argument does not affect the caller\"\"\"\n",
    "\n",
    "def my_f(x):\n",
    "    x = \"local value\" #local\n",
    "    print(\"Local: \", x)\n",
    "\n",
    "x = \"global value\" #global\n",
    "my_f(x)\n",
    "print(\"Global:\", x)\n",
    "my_f(x)\n",
    "\n"
   ]
  },
  {
   "cell_type": "code",
   "execution_count": 27,
   "metadata": {},
   "outputs": [
    {
     "name": "stdout",
     "output_type": "stream",
     "text": [
      "Global: ['old value', 'old value', 'old value', 'old value']\n",
      "Local:  ['old value', 'new value1', 'old value', 'new value2']\n",
      "Global now:  ['old value', 'new value1', 'old value', 'new value2']\n"
     ]
    }
   ],
   "source": [
    "\"\"\"Changing a mutable affects the caller\"\"\"\n",
    "\n",
    "def my_f(myList):\n",
    "    myList[1] = \"new value1\"\n",
    "    myList[3] = \"new value2\"\n",
    "    print(\"Local: \", myList)\n",
    "\n",
    "myList = [\"old value\"]*4\n",
    "print(\"Global:\", myList)\n",
    "my_f(myList)\n",
    "print(\"Global now: \", myList)"
   ]
  },
  {
   "cell_type": "markdown",
   "metadata": {},
   "source": [
    "Recall what seen in the lecture:\n",
    "\n",
    "![](img/pract6/argument_passing.png)\n",
    "\n",
    "The behaviour above is because **immutable objects** are passed **by value** (therefore it is like making a copy), while **mutable objects** are passed **by reference** (therefore changing them effectively changes the original object). \n",
    "\n",
    "To avoid making changes to a **mutable object** passed as parameter one needs to **explicitely make a copy** of it.\n",
    "\n",
    "Consider the example seen before.\n",
    "**Example:**\n",
    "Let's write a function that, given a list of integers, returns the number of elements, the maximum and minimum."
   ]
  },
  {
   "cell_type": "code",
   "execution_count": 32,
   "metadata": {},
   "outputs": [
    {
     "name": "stdout",
     "output_type": "stream",
     "text": [
      "A: [7, 1, 125, 4, -1, 0]\n",
      "Len: 6 Min: -1 Max: 125\n",
      "A now: [-1, 0, 1, 4, 7, 125]\n",
      "\n",
      "###### With copy now ########\n",
      "\n",
      "B: [70, 10, 1250, 40, -10, 0, 10]\n",
      "Len: 7 Min: -10 Max: 1250\n",
      "B now: [70, 10, 1250, 40, -10, 0, 10]\n"
     ]
    }
   ],
   "source": [
    "def get_info(myList):\n",
    "    \"\"\"returns len of myList, min and max value (assumes elements are integers)\"\"\"\n",
    "    myList.sort()\n",
    "    return len(myList), myList[0], myList[-1] #return type is a tuple\n",
    "\n",
    "\n",
    "def get_info_copy(myList):\n",
    "    \"\"\"returns len of myList, min and max value (assumes elements are integers)\"\"\"\n",
    "    tmp = myList[:] #copy the input list!!!!\n",
    "    tmp.sort()\n",
    "    return len(tmp), tmp[0], tmp[-1] #return type is a tuple\n",
    "\n",
    "A = [7, 1, 125, 4, -1, 0]\n",
    "B = [70, 10, 1250, 40, -10, 0, 10]\n",
    "\n",
    "print(\"A:\", A) \n",
    "result = get_info(A)\n",
    "print(\"Len:\", result[0], \"Min:\", result[1], \"Max:\",result[2] )\n",
    "\n",
    "print(\"A now:\", A) #whoops A is changed!!!\n",
    "\n",
    "print(\"\\n###### With copy now ########\")\n",
    "\n",
    "print(\"\\nB:\", B) \n",
    "result = get_info_copy(B)\n",
    "print(\"Len:\", result[0], \"Min:\", result[1], \"Max:\",result[2] )\n",
    "\n",
    "print(\"B now:\", B) #B is not changed!!!\n"
   ]
  },
  {
   "cell_type": "markdown",
   "metadata": {},
   "source": [
    "### Positional arguments\n",
    "\n",
    "Arguments can be passed to functions following the order in which they appear in the function definition.\n",
    "\n",
    "Consider the following example:"
   ]
  },
  {
   "cell_type": "code",
   "execution_count": 33,
   "metadata": {},
   "outputs": [
    {
     "name": "stdout",
     "output_type": "stream",
     "text": [
      "1st param: A\n",
      "2nd param: B\n",
      "3rd param: C\n",
      "4th param: D\n"
     ]
    }
   ],
   "source": [
    "def print_parameters(a,b,c,d):\n",
    "    print(\"1st param:\", a)\n",
    "    print(\"2nd param:\", b)\n",
    "    print(\"3rd param:\", c)\n",
    "    print(\"4th param:\", d)\n",
    "    \n",
    "\n",
    "print_parameters(\"A\", \"B\", \"C\", \"D\")"
   ]
  },
  {
   "cell_type": "markdown",
   "metadata": {},
   "source": [
    "### Passing arguments by keyword"
   ]
  },
  {
   "cell_type": "markdown",
   "metadata": {},
   "source": [
    "Given the name of an argument as specified in the definition of the function, parameters can be passed using the **name = value** syntax.\n",
    "\n",
    "For example:"
   ]
  },
  {
   "cell_type": "code",
   "execution_count": 42,
   "metadata": {},
   "outputs": [
    {
     "name": "stdout",
     "output_type": "stream",
     "text": [
      "1st param: 1\n",
      "2nd param: 2\n",
      "3rd param: 3\n",
      "4th param: 4\n",
      "\n",
      "###############\n",
      "\n",
      "1st param: first\n",
      "2nd param: second\n",
      "3rd param: third\n",
      "4th param: fourth\n",
      "\n",
      "###############\n",
      "\n"
     ]
    }
   ],
   "source": [
    "def print_parameters(a,b,c,d):\n",
    "    print(\"1st param:\", a)\n",
    "    print(\"2nd param:\", b)\n",
    "    print(\"3rd param:\", c)\n",
    "    print(\"4th param:\", d)\n",
    "    \n",
    "\n",
    "print_parameters(a = 1, c=3, d=4, b=2)\n",
    "print(\"\\n###############\\n\")\n",
    "print_parameters(\"first\",\"second\",d=\"fourth\",c=\"third\")\n",
    "print(\"\\n###############\\n\")\n"
   ]
  },
  {
   "cell_type": "markdown",
   "metadata": {},
   "source": [
    "Arguments passed positionally and by name can be used at the same time, but parameters passed by name must always be to the left of those passed by name. The following code in fact is not accepted by the Python interpreter:"
   ]
  },
  {
   "cell_type": "code",
   "execution_count": 43,
   "metadata": {},
   "outputs": [
    {
     "ename": "SyntaxError",
     "evalue": "positional argument follows keyword argument (<ipython-input-43-4991b2c31842>, line 7)",
     "output_type": "error",
     "traceback": [
      "\u001b[0;36m  File \u001b[0;32m\"<ipython-input-43-4991b2c31842>\"\u001b[0;36m, line \u001b[0;32m7\u001b[0m\n\u001b[0;31m    print_parameters(d=\"fourth\",c=\"third\", \"first\",\"second\")\u001b[0m\n\u001b[0m                                          ^\u001b[0m\n\u001b[0;31mSyntaxError\u001b[0m\u001b[0;31m:\u001b[0m positional argument follows keyword argument\n"
     ]
    }
   ],
   "source": [
    "def print_parameters(a,b,c,d):\n",
    "    print(\"1st param:\", a)\n",
    "    print(\"2nd param:\", b)\n",
    "    print(\"3rd param:\", c)\n",
    "    print(\"4th param:\", d)\n",
    "    \n",
    "print_parameters(d=\"fourth\",c=\"third\", \"first\",\"second\")"
   ]
  },
  {
   "cell_type": "markdown",
   "metadata": {},
   "source": [
    "### Specifying default values\n",
    "\n",
    "During the definition of a function it is possible to specify default values. The syntax is the following:\n",
    "```\n",
    "def my_function(par1 = val1, par2 = val2, par3 = val3):\n",
    "```\n",
    "\n",
    "Consider the following example:"
   ]
  },
  {
   "cell_type": "code",
   "execution_count": 52,
   "metadata": {},
   "outputs": [
    {
     "name": "stdout",
     "output_type": "stream",
     "text": [
      "a: param_A\n",
      "b: defaultB\n",
      "c: defaultC\n",
      "\n",
      "#################\n",
      "\n",
      "a: defaultA\n",
      "b: PARAMETER_B\n",
      "c: defaultC\n"
     ]
    }
   ],
   "source": [
    "def print_parameters(a=\"defaultA\", b=\"defaultB\",c=\"defaultC\"):\n",
    "    print(\"a:\",a)\n",
    "    print(\"b:\",b)\n",
    "    print(\"c:\",c)\n",
    "    \n",
    "print_parameters(\"param_A\")\n",
    "print(\"\\n#################\\n\")\n",
    "print_parameters(b=\"PARAMETER_B\")"
   ]
  },
  {
   "cell_type": "markdown",
   "metadata": {},
   "source": [
    "## Exercises\n",
    "\n",
    "1. Implement a function that takes in input a string representing a DNA string and computes its reverse-complement. Take care to reverse complement any character other than (A,T,C,G,a,t,c,g) to N. The function should preserve the case of each letter (i.e. A becomes T, but a becomes t). For simplicity all bases that do not represent nucleotides are converted to a capital N.\n",
    "\n",
    "    1. Apply the function to the DNA string \"ATTACATATCATACTATCGCNTTCTAAATA\"\n",
    "    2. Apply the function to the DNA string \"acaTTACAtagataATACTaccataGCNTTCTAAATA\"\n",
    "    3. Apply the function to the DNA string \"TTTTACCKKKAKTUUUITTTARRRRRAIUTYYA\"\n",
    "    3. Check that the reverse complement of the reverse complement of the string in 1. is exactly as the original string.\n",
    "\n",
    "<div class=\"tggle\" onclick=\"toggleVisibility('ex1');\">Show/Hide Solution</div>\n",
    "<div id=\"ex1\" style=\"display:none;\">"
   ]
  },
  {
   "cell_type": "code",
   "execution_count": 16,
   "metadata": {},
   "outputs": [
    {
     "name": "stdout",
     "output_type": "stream",
     "text": [
      "S1    ATTACATATCATACTATCGCNTTCTAAATA\n",
      "rc S1 TATTTAGAANGCGATAGTATGATATGTAAT\n",
      "\n",
      "S2    acaTTACAtagataATACTaccataGCNTTCTAAATA\n",
      "rc S2 TATTTAGAANGCtatggtAGTATtatctaTGTAAtgt\n",
      "\n",
      "S3    TTTTACCKKKAKTUUUITTTARRRRRAIUTYYA\n",
      "rc S3 TNNANNTNNNNNTAAANNNNANTNNNGGTAAAA\n",
      "\n",
      "rev_comp(rev_comp(S1) == S1?) True\n"
     ]
    }
   ],
   "source": [
    "def reverse_complement(DNA):\n",
    "    \"\"\"the function reverse complements a string of DNA\"\"\"\n",
    "    revDict = {\"A\" : \"T\", \"a\" : \"t\",\n",
    "             \"C\" : \"G\", \"c\" : \"g\",\n",
    "             \"G\" : \"C\", \"g\" : \"c\",\n",
    "             \"T\" : \"A\", \"t\" : \"a\"\n",
    "            }\n",
    "    result = \"\"\n",
    "    for base in DNA:\n",
    "        ### dict.get(val, default) : returns default if val not in\n",
    "        result = revDict.get(base, \"N\") + result\n",
    "        \n",
    "    return result\n",
    "\n",
    "\n",
    "\n",
    "S1 = \"ATTACATATCATACTATCGCNTTCTAAATA\"\n",
    "S2 = \"acaTTACAtagataATACTaccataGCNTTCTAAATA\"\n",
    "S3 = \"TTTTACCKKKAKTUUUITTTARRRRRAIUTYYA\"\n",
    "\n",
    "print(\"S1   \", S1)\n",
    "print(\"rc S1\", reverse_complement(S1))\n",
    "\n",
    "print(\"\\nS2   \", S2)\n",
    "print(\"rc S2\", reverse_complement(S2))\n",
    "\n",
    "print(\"\\nS3   \", S3)\n",
    "print(\"rc S3\", reverse_complement(S3))\n",
    "\n",
    "print(\"\\nrev_comp(rev_comp(S1) == S1?)\", reverse_complement(reverse_complement(S1)) == S1)"
   ]
  },
  {
   "cell_type": "markdown",
   "metadata": {},
   "source": [
    "</div>"
   ]
  },
  {
   "cell_type": "markdown",
   "metadata": {},
   "source": [
    "2. Write the following python functions and test them with some parameters of your choice: \n",
    "\n",
    "    1. *getDivisors*: the function has a positive integer as parameter and returns a list of all the positive divisors of the integer in input (excluding the number itself). Example: getDivisors(6) --> [1,2,3]\n",
    "    2. *checkSum*: the function has a list and an integer as parameters and returns True if the sum of all elements in the list  equals the integer, False otherwise. Example: checkSum([1,2,3], 6) --> True, checkSum([1,2,3],1) --> False.\n",
    "    3. *checkPerfect*: the function gets an integer as parameter and returns True if the integer is a [perfect number](https://en.wikipedia.org/wiki/Perfect_number), False otherwise. A number is perfect if all its divisors (excluding itself) sum to its value. Example: checkPerfect(6) --> True because 1+2+3 = 6. Hint: use the functions implemented before.\n",
    "    4. *getFirstNperfects*: the function gets an integer N as parameter and returns a dictionary with the first N perfect numbers. The key of the dictionary is the perfect number, while the value of the dictionary is the list of its divisors. Example: getFirstNperfects(1) --> {6 : [1,2,3]}\n",
    "    \n",
    "Get and print the first 4 perfect numbers and finally test if 33550336 is a perfect number.\n",
    "\n",
    "**WARNING:** do not try to find more than 4 perfect numbers as it might take a while!!!\n",
    "\n",
    "<div class=\"tggle\" onclick=\"toggleVisibility('ex2');\">Show/Hide Solution</div>\n",
    "<div id=\"ex2\" style=\"display:none;\">"
   ]
  },
  {
   "cell_type": "code",
   "execution_count": 84,
   "metadata": {},
   "outputs": [
    {
     "name": "stdout",
     "output_type": "stream",
     "text": [
      "6  =  1+2+3\n",
      "28  =  1+2+4+7+14\n",
      "496  =  1+2+4+8+16+31+62+124+248\n",
      "8128  =  1+2+4+8+16+32+64+127+254+508+1016+2032+4064\n",
      "Is 33550336 a perfect number? True\n"
     ]
    }
   ],
   "source": [
    "def getDivisors(intVal):\n",
    "    \"\"\"returns the integer divisors of intVal\"\"\"\n",
    "    ret = [x for x in range(1,intVal//2 + 1) if intVal % x == 0]\n",
    "    #OR:\n",
    "    #for i in range(1,intVal//2+1):\n",
    "    #    if(intVal % i == 0):\n",
    "    #        ret.append(i)\n",
    "    return ret\n",
    "\n",
    "def checkSum(intList, intVal):\n",
    "    \"\"\"checks if the sum of elements in intList equals intVal\"\"\"\n",
    "    s = 0\n",
    "    for x in intList:\n",
    "        s += x\n",
    "    return (s == intVal)\n",
    "\n",
    "def checkPerfect(intVal):\n",
    "    \"\"\"checks if intVal is a perfect number\"\"\"\n",
    "    divisors = getDivisors(intVal)\n",
    "    return checkSum(divisors,intVal)\n",
    "\n",
    "def getFirstNPerfects(N):\n",
    "    \"\"\"Finds the first N perfect numbers\"\"\"\n",
    "    i = 0\n",
    "    val = 2\n",
    "    ret = {}\n",
    "    while(i<N):\n",
    "        if(checkPerfect(val)):\n",
    "            i+=1\n",
    "            ret[val] = getDivisors(val)\n",
    "            val += 1\n",
    "        else:\n",
    "            val += 1\n",
    "    \n",
    "    return ret\n",
    "            \n",
    "        \n",
    "perfects = getFirstNPerfects(4)\n",
    "perKeys = list(perfects.keys())\n",
    "perKeys.sort()\n",
    "for p in perKeys:\n",
    "    print(p, \" = \", \"+\".join([str(x) for x in perfects[p]]))\n",
    "    \n",
    "print(\"Is 33550336 a perfect number?\", checkPerfect(33550336))"
   ]
  },
  {
   "cell_type": "markdown",
   "metadata": {},
   "source": [
    "</div>"
   ]
  },
  {
   "cell_type": "markdown",
   "metadata": {},
   "source": [
    "<div class=\"tggle\" onclick=\"toggleVisibility('ex2');\">Show/Hide Solution</div>\n",
    "<div id=\"ex2\" style=\"display:none;\">"
   ]
  },
  {
   "cell_type": "code",
   "execution_count": 104,
   "metadata": {},
   "outputs": [
    {
     "name": "stdout",
     "output_type": "stream",
     "text": [
      "['O', 'B', 'S', 'T', 'A', 'N', 'N', 'E', 'I', 'W', 'D', 'H', 'A']\n",
      "O*B*S*T*A*N*N*E*I*W*D*H*A\n"
     ]
    }
   ],
   "source": [
    "text = \"nOBody Said iT was eAsy, No oNe Ever saId it WoulD be tHis hArd…\"\n",
    "initials = [x for x in text if x.isupper()]\n",
    "\n",
    "print(initials)\n",
    "print(\"*\".join(initials))"
   ]
  },
  {
   "cell_type": "markdown",
   "metadata": {},
   "source": [
    "</div>\n",
    "\n",
    "3. Given the following list of gene correlations:\n",
    "```\n",
    "geneCorr = [[\"G1C2W9\", \"G1C2Q7\", 0.2], [\"G1C2W9\", \"G1C2Q4\", 0.9], \n",
    "[\"Q6NMS1\", \"G1C2W9\", 0.8],[\"G1C2W9\", \"Q6NMS1\",0.4], [\"G1C2Q7\", \"G1C2Q4\",0.76]]\n",
    "```\n",
    "where each sublist [\"gene1\", \"gene2\", corr] represents a correlation between *gene1* and *gene2* with correlation *corr*, create another list containing only the elements having an high correlation (i.e. > 0.75). Print this list."
   ]
  },
  {
   "cell_type": "markdown",
   "metadata": {},
   "source": [
    "Expected result:\n",
    "```\n",
    "[['G1C2W9', 'G1C2Q4', 0.9], ['Q6NMS1', 'G1C2W9', 0.8], ['G1C2Q7', 'G1C2Q4', 0.76]]\n",
    "```"
   ]
  },
  {
   "cell_type": "markdown",
   "metadata": {},
   "source": [
    "<div class=\"tggle\" onclick=\"toggleVisibility('ex3');\">Show/Hide Solution</div>\n",
    "<div id=\"ex3\" style=\"display:none;\">"
   ]
  },
  {
   "cell_type": "code",
   "execution_count": 79,
   "metadata": {},
   "outputs": [
    {
     "name": "stdout",
     "output_type": "stream",
     "text": [
      "[['G1C2W9', 'G1C2Q7', 0.2], ['G1C2W9', 'G1C2Q4', 0.9], ['Q6NMS1', 'G1C2W9', 0.8], ['G1C2W9', 'Q6NMS1', 0.4], ['G1C2Q7', 'G1C2Q4', 0.76]] \n",
      "\n",
      "[['G1C2W9', 'G1C2Q4', 0.9], ['Q6NMS1', 'G1C2W9', 0.8], ['G1C2Q7', 'G1C2Q4', 0.76]]\n"
     ]
    }
   ],
   "source": [
    "geneCorr = [[\"G1C2W9\", \"G1C2Q7\", 0.2], [\"G1C2W9\", \"G1C2Q4\", 0.9], [\"Q6NMS1\", \"G1C2W9\", 0.8],\n",
    "            [\"G1C2W9\", \"Q6NMS1\",0.4], [\"G1C2Q7\", \"G1C2Q4\",0.76]]\n",
    "\n",
    "highlyCorr = [x for x in geneCorr if x[2] > 0.75]\n",
    "\n",
    "print(geneCorr, \"\\n\")\n",
    "print(highlyCorr)"
   ]
  },
  {
   "cell_type": "markdown",
   "metadata": {},
   "source": [
    "</div>\n",
    "4. Given the following sequence of DNA:\n",
    "\n",
    "DNA = \"GATTACATATATCAGTACAGATATATACGCGCGGGCTTACTATTAAAAACCCC\"\n",
    "    \n",
    "    1. Create a dictionary reporting the frequency of each base (i.e. key is the \n",
    "    base and value is the frequency).\n",
    "    2. Create a dictionary representing an index of all possible dimers (i.e. 2 \n",
    "    bases, 16 dimers in total): AA, AT, AC, AG, TA, TT, TC, TG, ... . In this case, \n",
    "    keys of the dictionary are dimers and values are lists with all possible starting \n",
    "    positions of the dimer.  \n",
    "    3. Print the DNA string.\n",
    "    4. Print for each base its frequency\n",
    "    4. Print all positions of the dimer \"AT\""
   ]
  },
  {
   "cell_type": "markdown",
   "metadata": {},
   "source": [
    "The expected result is:\n",
    "```\n",
    "sequence: GATTACATATATCAGTACAGATATATACGCGCGGGCTTACTATTAAAAACCCC\n",
    "G has frequency: 0.1509433962264151\n",
    "C has frequency: 0.22641509433962265\n",
    "A has frequency: 0.3584905660377358\n",
    "T has frequency: 0.2641509433962264\n",
    "{'GG': [32, 33], 'TC': [11], 'GT': [14], 'CA': [5, 12, 17], 'TT': [2, 36, 42], \n",
    "'CG': [27, 29, 31], 'TA': [3, 7, 9, 15, 21, 23, 25, 37, 40, 43], 'AG': [13, 18], \n",
    "'GA': [0, 19], 'CT': [35, 39], 'GC': [28, 30, 34], 'AT': [1, 6, 8, 10, 20, 22, 24, 41], \n",
    "'CC': [49, 50, 51], 'AA': [44, 45, 46, 47], 'AC': [4, 16, 26, 38, 48]} \n",
    "\n",
    "Dimer AT is found at: [1, 6, 8, 10, 20, 22, 24, 41]\n",
    "```"
   ]
  },
  {
   "cell_type": "markdown",
   "metadata": {},
   "source": [
    "<div class=\"tggle\" onclick=\"toggleVisibility('ex4');\">Show/Hide Solution</div>\n",
    "<div id=\"ex4\" style=\"display:none;\">"
   ]
  },
  {
   "cell_type": "code",
   "execution_count": 90,
   "metadata": {},
   "outputs": [
    {
     "name": "stdout",
     "output_type": "stream",
     "text": [
      "sequence: GATTACATATATCAGTACAGATATATACGCGCGGGCTTACTATTAAAAACCCC\n",
      "G has frequency: 0.1509433962264151\n",
      "C has frequency: 0.22641509433962265\n",
      "A has frequency: 0.3584905660377358\n",
      "T has frequency: 0.2641509433962264\n",
      "{'GG': [32, 33], 'TC': [11], 'GT': [14], 'CA': [5, 12, 17], 'TT': [2, 36, 42], 'CG': [27, 29, 31], 'TA': [3, 7, 9, 15, 21, 23, 25, 37, 40, 43], 'AG': [13, 18], 'GA': [0, 19], 'CT': [35, 39], 'GC': [28, 30, 34], 'AT': [1, 6, 8, 10, 20, 22, 24, 41], 'CC': [49, 50, 51], 'AA': [44, 45, 46, 47], 'AC': [4, 16, 26, 38, 48]} \n",
      "\n",
      "Dimer AT is found at: [1, 6, 8, 10, 20, 22, 24, 41]\n"
     ]
    }
   ],
   "source": [
    "DNA = \"GATTACATATATCAGTACAGATATATACGCGCGGGCTTACTATTAAAAACCCC\"\n",
    "\n",
    "n = len(DNA)\n",
    "\n",
    "baseFreq = {\"A\" : DNA.count(\"A\")/n, \"T\" : DNA.count(\"T\")/n, \n",
    "            \"C\": DNA.count(\"C\")/n, \"G\" : DNA.count(\"G\")/n }\n",
    "\n",
    "dimersDict ={}\n",
    "\n",
    "print(\"sequence:\", DNA)\n",
    "\n",
    "for base in baseFreq:\n",
    "    print(base, \"has frequency:\", baseFreq[base])\n",
    "    \n",
    "for ind in range(len(DNA) -1 ): #need -1 because at each iteration I get the dimer [ind:ind+1]\n",
    "    dimer = DNA[ind:ind+2]\n",
    "    if(dimer in dimersDict):\n",
    "        dimersDict[dimer].append(ind)\n",
    "    else:\n",
    "        dimersDict[dimer] = [ind]\n",
    "print(dimersDict, \"\\n\")\n",
    "print(\"Dimer AT is found at:\", dimersDict[\"AT\"])"
   ]
  },
  {
   "cell_type": "markdown",
   "metadata": {},
   "source": [
    "</div>"
   ]
  },
  {
   "cell_type": "markdown",
   "metadata": {},
   "source": [
    "5. Given the following table, reporting molecular weights for each amino acid, store them in a dictionary where the key is the one letter code and the value is the molecular weight (e.g. {\"A\" : 89, \"R\":179\"}).\n",
    "\n",
    "![](img/pract5/molecular_weights.png)\n"
   ]
  },
  {
   "cell_type": "markdown",
   "metadata": {},
   "source": [
    "Write a python script to answer the following questions:\n",
    "\n",
    "    1. What is the average molecular weight of an amino acid?\n",
    "    2. What is the total molecular weight and number of aminoacids \n",
    "    of the P53 peptide GSRAHSSHLKSKKGQSTSRHK?\n",
    "    3. What is the total molecular weight and number of aminoacids \n",
    "    of the peptide YTSLIHSLIEESQNQQEKNEQELLELDKWASLWNWF?\n",
    "\n",
    "<div class=\"tggle\" onclick=\"toggleVisibility('ex5');\">Show/Hide Solution</div>\n",
    "<div id=\"ex5\" style=\"display:none;\">"
   ]
  },
  {
   "cell_type": "code",
   "execution_count": 62,
   "metadata": {},
   "outputs": [
    {
     "name": "stdout",
     "output_type": "stream",
     "text": [
      "The average molecular weight of amino acids is: 137.04545454545453\n",
      "Peptide  GSRAHSSHLKSKKGQSTSRHK has 21 amino acids and a total mw of 2662 Da\n",
      "Peptide  YTSLIHSLIEESQNQQEKNEQELLELDKWASLWNWF has 36 amino acids and a total mw of 5076 Da\n"
     ]
    }
   ],
   "source": [
    "mws = {\"A\" : 89, \"R\" : 174, \"N\" : 132, \"D\" : 133, \"B\": 133, \"C\": 121, \"Q\": 146, \n",
    "       \"E\": 147, \"Z\": 147, \"G\": 75, \"H\": 155, \"I\": 131, \"L\" : 131,\n",
    "      \"K\" : 146, \"M\" : 149, \"F\" : 165, \"P\" : 115, \"S\" : 105, \"T\" : 119, \n",
    "       \"W\" : 204, \"Y\": 181, \"V\" : 117\n",
    "      }\n",
    "avgW = 0\n",
    "for amino in mws:\n",
    "    avgW = avgW + mws[amino]\n",
    "\n",
    "avgW = avgW/len(mws)\n",
    "print(\"The average molecular weight of amino acids is:\", avgW)\n",
    "\n",
    "P53amino = \"GSRAHSSHLKSKKGQSTSRHK\"\n",
    "\n",
    "totW = 0\n",
    "for amino in P53amino:\n",
    "    totW += mws[amino]\n",
    "print(\"Peptide \", P53amino, \"has\",len(P53amino), \"amino acids and a total mw of\",totW, \"Da\")\n",
    "\n",
    "totW = 0 #reusing same variable name\n",
    "peptide = \"YTSLIHSLIEESQNQQEKNEQELLELDKWASLWNWF\"\n",
    "for amino in peptide:\n",
    "    totW += mws[amino]\n",
    "    \n",
    "print(\"Peptide \", peptide, \"has\",len(peptide), \"amino acids and a total mw of\",totW, \"Da\")"
   ]
  },
  {
   "cell_type": "markdown",
   "metadata": {},
   "source": [
    "</div>"
   ]
  },
  {
   "cell_type": "markdown",
   "metadata": {},
   "source": [
    "6. The following string is an extract of a [blast](https://www.ncbi.nlm.nih.gov/pubmed/2231712) alignment with compacted textual output. This is a tab (\\\\t) separated text file where the columns report the following info: \n",
    "the first column is the query_id, the second the subject_id (i.e. the reference on which we aligned the query), the third is the percentage of identity and then we have the alignment length, number of mismatches, gap opens, start point of the alignment on the query, end point of the alignment on the query, start point of the alignment on the subject, end point of the alignment on the subject and evalue of the alignment."
   ]
  },
  {
   "cell_type": "markdown",
   "metadata": {},
   "source": [
    "```\n",
    "# Fields: query id,subject id,% identity,alignment length,mismatches,gap opens,q.start,q.end,s.start,s.end,evalue\n",
    "ab1_400\tscaffold16155\t98.698\t384\t4\t1\t12\t394\t6700\t7083\t0.0\n",
    "ab1_400\tscaffold14620\t98.698\t384\t4\t1\t12\t394\t1240\t857\t0.0\n",
    "92A2_SP6_344\tscaffold14394\t95.575\t113\t5\t0\t97\t209\t250760\t250648\t2.92e-44\n",
    "92A2_SP6_344\tscaffold10682\t97.849\t93\t2\t0\t18\t110\t898\t990\t3.81e-38\n",
    "92A2_T7_558\tscaffold277\t88.746\t311\t31\t3\t21\t330\t26630\t26937\t5.81e-103\n",
    "92A2_T7_558\tscaffold277\t89.545\t220\t21\t2\t27\t246\t27167\t26950\t6.06e-73\n",
    "92A2_T7_558\tscaffold1125\t88.125\t320\t31\t5\t30\t346\t231532\t231847\t7.51e-102\n",
    "ab1_675\tscaffold4896\t100.000\t661\t0\t0\t15\t675\t79051\t78391\t0.0\n",
    "ab1_676\tscaffold4896\t99.552\t670\t0\t3\t7\t673\t78421\t79090\t0.0\n",
    "```"
   ]
  },
  {
   "cell_type": "markdown",
   "metadata": {},
   "source": [
    "1. For each alignment, store the subject id, the percentage of identity and evalue, \n",
    "subject start and end in a dictionary using the query id as key. All this information can be\n",
    "stored in a dictionary having subject id as key and a dictionary with all the information as value:\n",
    "```\n",
    "alignments[\"ab1_400\"] = {\"subjectid\" : scaffold16155, \"perc_id\" : 98.698, \"evalue\" : 0.0}\n",
    "```\n",
    "2. Print the whole dictionary\n",
    "3. Print only the alignments having percentage of identity > 90%\n",
    "\n",
    "Note: skip the first comment line (i.e. skip line if starts with \"#\").\n",
    "Note1: when storing the percentage of identity remember to convert the string into a float.\n",
    "\n",
    "The expected output is:"
   ]
  },
  {
   "cell_type": "markdown",
   "metadata": {},
   "source": [
    "```\n",
    "{'92A2_SP6_344': {'perc_id': 97.849, 'subjectid': 'scaffold10682', 'evalue': '3.81e-38'}, \n",
    "'ab1_400': {'perc_id': 98.698, 'subjectid': 'scaffold16155', 'evalue': '0.0'}, \n",
    "'92A2_T7_558': {'perc_id': 88.125, 'subjectid': 'scaffold1125', 'evalue': '7.51e-102'}, \n",
    "'ab1_400': {'perc_id': 98.698, 'subjectid': 'scaffold14620', 'evalue': '0.0'}, \n",
    "'ab1_676': {'perc_id': 99.552, 'subjectid': 'scaffold4896', 'evalue': '0.0'}, \n",
    "'ab1_675': {'perc_id': 100.0, 'subjectid': 'scaffold4896', 'evalue': '0.0'}} \n",
    "\n",
    "\n",
    "Alignments with identity > 90%:\n",
    "\n",
    "Query id\tSubject id\t% ident\tevalue\n",
    "92A2_SP6_344 \t scaffold10682 \t 97.849 \t 3.81e-38\n",
    "ab1_400 \t scaffold16155 \t 98.698 \t 0.0\n",
    "ab1_400 \t scaffold14620 \t 98.698 \t 0.0\n",
    "ab1_676 \t scaffold4896 \t 99.552 \t 0.0\n",
    "ab1_675 \t scaffold4896 \t 100.0 \t 0.0\n",
    "```"
   ]
  },
  {
   "cell_type": "markdown",
   "metadata": {},
   "source": [
    "<div class=\"tggle\" onclick=\"toggleVisibility('ex6');\">Show/Hide Solution</div>\n",
    "<div id=\"ex6\" style=\"display:none;\">"
   ]
  },
  {
   "cell_type": "code",
   "execution_count": 99,
   "metadata": {},
   "outputs": [
    {
     "name": "stdout",
     "output_type": "stream",
     "text": [
      "{'ab1_675': {'perc_id': 100.0, 'subjectid': 'scaffold4896', 'evalue': '0.0'}, 'ab1_676': {'perc_id': 99.552, 'subjectid': 'scaffold4896', 'evalue': '0.0'}, '92A2_SP6_344': {'perc_id': 97.849, 'subjectid': 'scaffold10682', 'evalue': '3.81e-38'}, 'ab1_400': {'perc_id': 98.698, 'subjectid': 'scaffold14620', 'evalue': '0.0'}, '92A2_T7_558': {'perc_id': 88.125, 'subjectid': 'scaffold1125', 'evalue': '7.51e-102'}} \n",
      "\n",
      "\n",
      "Alignments with identity > 90%:\n",
      "\n",
      "Query id\tSubject id\t% ident\tevalue\n",
      "ab1_675 \t scaffold4896 \t 100.0 \t 0.0\n",
      "ab1_676 \t scaffold4896 \t 99.552 \t 0.0\n",
      "92A2_SP6_344 \t scaffold10682 \t 97.849 \t 3.81e-38\n",
      "ab1_400 \t scaffold14620 \t 98.698 \t 0.0\n"
     ]
    }
   ],
   "source": [
    "blast_out = \"\"\"# Fields: query id,subject id,% identity,alignment length,mismatches,gap opens,q.start,q.end,s.start,s.end,evalue\n",
    "ab1_400\tscaffold16155\t98.698\t384\t4\t1\t12\t394\t6700\t7083\t0.0\n",
    "ab1_400\tscaffold14620\t98.698\t384\t4\t1\t12\t394\t1240\t857\t0.0\n",
    "92A2_SP6_344\tscaffold14394\t95.575\t113\t5\t0\t97\t209\t250760\t250648\t2.92e-44\n",
    "92A2_SP6_344\tscaffold10682\t97.849\t93\t2\t0\t18\t110\t898\t990\t3.81e-38\n",
    "92A2_T7_558\tscaffold277\t88.746\t311\t31\t3\t21\t330\t26630\t26937\t5.81e-103\n",
    "92A2_T7_558\tscaffold277\t89.545\t220\t21\t2\t27\t246\t27167\t26950\t6.06e-73\n",
    "92A2_T7_558\tscaffold1125\t88.125\t320\t31\t5\t30\t346\t231532\t231847\t7.51e-102\n",
    "ab1_675\tscaffold4896\t100.000\t661\t0\t0\t15\t675\t79051\t78391\t0.0\n",
    "ab1_676\tscaffold4896\t99.552\t670\t0\t3\t7\t673\t78421\t79090\t0.0\"\"\"\n",
    "\n",
    "alignments = dict()\n",
    "\n",
    "for align in blast_out.split(\"\\n\"):\n",
    "    if(align.startswith(\"#\") == False):\n",
    "        align_info = align.split(\"\\t\")\n",
    "        alignments[align_info[0]] = {\"subjectid\" : align_info[1], \n",
    "                                     \"perc_id\" : float(align_info[2]),\n",
    "                                    \"evalue\" : align_info[-1]\n",
    "                                    } \n",
    "\n",
    "print(alignments, \"\\n\\n\")\n",
    "print(\"Alignments with identity > 90%:\\n\")\n",
    "print(\"Query id\\tSubject id\\t% ident\\tevalue\")\n",
    "for a in alignments:\n",
    "    if(alignments[a][\"perc_id\"]>90):\n",
    "        print(a,\"\\t\", alignments[a][\"subjectid\"],\"\\t\", alignments[a][\"perc_id\"],\"\\t\", alignments[a][\"evalue\"])\n"
   ]
  },
  {
   "cell_type": "markdown",
   "metadata": {},
   "source": [
    "</div>"
   ]
  },
  {
   "cell_type": "markdown",
   "metadata": {},
   "source": [
    "7. The following text (separated with a tab \"\\\\t\") is an extract of protein-protein interactions network stored in the database [STRING](https://string-db.org/) involving [PKLR](https://www.ncbi.nlm.nih.gov/gene/5313) (Pyruvate kinase, liver and RBC) that plays a key role in glycolysis:"
   ]
  },
  {
   "cell_type": "markdown",
   "metadata": {},
   "source": [
    "```\n",
    "#node1\tnode2\tnode1_ext_id\tnode2_ext_id\t\n",
    "ENO1\tTPI1\tENSP00000234590\tENSP00000229270\n",
    "PKLR\tENO1\tENSP00000339933\tENSP00000234590\n",
    "PKLR\tENO3\tENSP00000339933\tENSP00000324105\n",
    "PGK1\tENO1\tENSP00000362413\tENSP00000234590\n",
    "PGK1\tTPI1\tENSP00000362413\tENSP00000229270\n",
    "GPI\tTPI1\tENSP00000405573\tENSP00000229270\n",
    "PKLR\tENO2\tENSP00000339933\tENSP00000229277\n",
    "PGK1\tENO3\tENSP00000362413\tENSP00000324105\n",
    "PGK1\tENO2\tENSP00000362413\tENSP00000229277\n",
    "GPI\tPKLR\tENSP00000405573\tENSP00000339933\n",
    "ENO2\tTPI1\tENSP00000229277\tENSP00000229270\n",
    "PGK2\tENO1\tENSP00000305995\tENSP00000234590\n",
    "ENO3\tPGK2\tENSP00000324105\tENSP00000305995\n",
    "PGK2\tTPI1\tENSP00000305995\tENSP00000229270\n",
    "ENO3\tTPI1\tENSP00000324105\tENSP00000229270\n",
    "PGK2\tENO2\tENSP00000305995\tENSP00000229277\n",
    "GPI\tENO3\tENSP00000405573\tENSP00000324105\n",
    "PKLR\tLDHB\tENSP00000339933\tENSP00000229319\n",
    "PKLR\tLDHC\tENSP00000339933\tENSP00000280704\n",
    "PKLR\tTPI1\tENSP00000339933\tENSP00000229270\n",
    "PGK1\tPKLR\tENSP00000362413\tENSP00000339933\n",
    "GPI\tENO2\tENSP00000405573\tENSP00000229277\n",
    "PKLR\tPGK2\tENSP00000339933\tENSP00000305995\n",
    "GPI\tPGK1\tENSP00000405573\tENSP00000362413\n",
    "ME3\tPKLR\tENSP00000352657\tENSP00000339933\n",
    "ME3\tLDHB\tENSP00000352657\tENSP00000229319\n",
    "ME3\tLDHC\tENSP00000352657\tENSP00000280704\n",
    "GPI\tPGK2\tENSP00000405573\tENSP00000305995\n",
    "GPI\tENO1\tENSP00000405573\tENSP00000234590\n",
    "GPI\tLDHB\tENSP00000405573\tENSP00000229319\n",
    "ENO3\tENO2\tENSP00000324105\tENSP00000229277\n",
    "GPI\tLDHC\tENSP00000405573\tENSP00000280704\n",
    "ENO3\tLDHB\tENSP00000324105\tENSP00000229319\n",
    "ENO3\tLDHC\tENSP00000324105\tENSP00000280704\n",
    "ENO1\tLDHB\tENSP00000234590\tENSP00000229319\n",
    "LDHB\tTPI1\tENSP00000229319\tENSP00000229270\n",
    "LDHC\tTPI1\tENSP00000280704\tENSP00000229270\n",
    "PGK2\tLDHC\tENSP00000305995\tENSP00000280704\n",
    "PGK1\tLDHB\tENSP00000362413\tENSP00000229319\n",
    "PGK1\tPGK2\tENSP00000362413\tENSP00000305995\n",
    "ENO1\tENO2\tENSP00000234590\tENSP00000229277\n",
    "LDHC\tENO1\tENSP00000280704\tENSP00000234590\n",
    "LDHB\tENO2\tENSP00000229319\tENSP00000229277\n",
    "LDHC\tENO2\tENSP00000280704\tENSP00000229277\n",
    "ENO3\tENO1\tENSP00000324105\tENSP00000234590\n",
    "PGK1\tLDHC\tENSP00000362413\tENSP00000280704\n",
    "GPI\tME3\tENSP00000405573\tENSP00000352657\n",
    "PGK2\tLDHB\tENSP00000305995\tENSP00000229319\n",
    "ME3\tTPI1\tENSP00000352657\tENSP00000229270\n",
    "```\n",
    "\n",
    "Here is a graphic representation of the protein-protein interactions:\n",
    "\n",
    "![](img/pract5/PKLR.png)"
   ]
  },
  {
   "cell_type": "markdown",
   "metadata": {},
   "source": [
    "    Note: we can assume that relations between nodes are transitive. node1 --> node2\n",
    "    implies node2 --> node1.\n",
    "    \n",
    "    1. Store the network information in a dictionary having node1 as key and\n",
    "    the list of all nodes2 associated to it as value (remember to skip the first \n",
    "    line that is the header). Remember transitivity, therefore add also node2 -->node1\n",
    "    2. Find all first neighbours of \"PKLR\" (i.e. the nodes that are directly connected \n",
    "    to \"PKLR\") and print them\n",
    "    3. Find all first neighbours of \"ME3\" (i.e. the nodes that are directly connected \n",
    "    to \"PKLR\") and print them\n",
    "    4. Find all the second neighbours of \"ME3\" (i.e. the nodes that are connected to nodes \n",
    "    directly connected to \"ME3\"). \n",
    "    \n",
    "    "
   ]
  },
  {
   "cell_type": "code",
   "execution_count": 115,
   "metadata": {},
   "outputs": [
    {
     "name": "stdout",
     "output_type": "stream",
     "text": [
      "{'ME3': ['PKLR', 'LDHB', 'LDHC', 'GPI', 'TPI1'], 'PGK2': ['ENO1', 'ENO3', 'TPI1', 'ENO2', 'PKLR', 'GPI', 'LDHC', 'PGK1', 'LDHB'], 'PGK1': ['ENO1', 'TPI1', 'ENO3', 'ENO2', 'PKLR', 'GPI', 'LDHB', 'PGK2', 'LDHC'], 'ENO2': ['PKLR', 'PGK1', 'TPI1', 'PGK2', 'GPI', 'ENO3', 'ENO1', 'LDHB', 'LDHC'], 'LDHB': ['PKLR', 'ME3', 'GPI', 'ENO3', 'ENO1', 'TPI1', 'PGK1', 'ENO2', 'PGK2'], 'LDHC': ['PKLR', 'ME3', 'GPI', 'ENO3', 'TPI1', 'PGK2', 'ENO1', 'ENO2', 'PGK1'], 'GPI': ['TPI1', 'PKLR', 'ENO3', 'ENO2', 'PGK1', 'PGK2', 'ENO1', 'LDHB', 'LDHC', 'ME3'], 'PKLR': ['ENO1', 'ENO3', 'ENO2', 'GPI', 'LDHB', 'LDHC', 'TPI1', 'PGK1', 'PGK2', 'ME3'], 'TPI1': ['ENO1', 'PGK1', 'GPI', 'ENO2', 'PGK2', 'ENO3', 'PKLR', 'LDHB', 'LDHC', 'ME3'], 'ENO3': ['PKLR', 'PGK1', 'PGK2', 'TPI1', 'GPI', 'ENO2', 'LDHB', 'LDHC', 'ENO1'], 'ENO1': ['TPI1', 'PKLR', 'PGK1', 'PGK2', 'GPI', 'LDHB', 'ENO2', 'LDHC', 'ENO3']}\n",
      "\n",
      "PKLR is directly connected to: ['ENO1', 'ENO3', 'ENO2', 'GPI', 'LDHB', 'LDHC', 'TPI1', 'PGK1', 'PGK2', 'ME3']\n",
      "\n",
      "ME3 is directly connected to: ['PKLR', 'LDHB', 'LDHC', 'GPI', 'TPI1']\n",
      "\n",
      "ME3's second neighbours: ['ENO1', 'ENO3', 'ENO2', 'PGK1', 'PGK2']\n"
     ]
    }
   ],
   "source": [
    "networkStr = \"\"\"#node1\tnode2\tnode1_ext_id\tnode2_ext_id\t\n",
    "ENO1\tTPI1\tENSP00000234590\tENSP00000229270\n",
    "PKLR\tENO1\tENSP00000339933\tENSP00000234590\n",
    "PKLR\tENO3\tENSP00000339933\tENSP00000324105\n",
    "PGK1\tENO1\tENSP00000362413\tENSP00000234590\n",
    "PGK1\tTPI1\tENSP00000362413\tENSP00000229270\n",
    "GPI\tTPI1\tENSP00000405573\tENSP00000229270\n",
    "PKLR\tENO2\tENSP00000339933\tENSP00000229277\n",
    "PGK1\tENO3\tENSP00000362413\tENSP00000324105\n",
    "PGK1\tENO2\tENSP00000362413\tENSP00000229277\n",
    "GPI\tPKLR\tENSP00000405573\tENSP00000339933\n",
    "ENO2\tTPI1\tENSP00000229277\tENSP00000229270\n",
    "PGK2\tENO1\tENSP00000305995\tENSP00000234590\n",
    "ENO3\tPGK2\tENSP00000324105\tENSP00000305995\n",
    "PGK2\tTPI1\tENSP00000305995\tENSP00000229270\n",
    "ENO3\tTPI1\tENSP00000324105\tENSP00000229270\n",
    "PGK2\tENO2\tENSP00000305995\tENSP00000229277\n",
    "GPI\tENO3\tENSP00000405573\tENSP00000324105\n",
    "PKLR\tLDHB\tENSP00000339933\tENSP00000229319\n",
    "PKLR\tLDHC\tENSP00000339933\tENSP00000280704\n",
    "PKLR\tTPI1\tENSP00000339933\tENSP00000229270\n",
    "PGK1\tPKLR\tENSP00000362413\tENSP00000339933\n",
    "GPI\tENO2\tENSP00000405573\tENSP00000229277\n",
    "PKLR\tPGK2\tENSP00000339933\tENSP00000305995\n",
    "GPI\tPGK1\tENSP00000405573\tENSP00000362413\n",
    "ME3\tPKLR\tENSP00000352657\tENSP00000339933\n",
    "ME3\tLDHB\tENSP00000352657\tENSP00000229319\n",
    "ME3\tLDHC\tENSP00000352657\tENSP00000280704\n",
    "GPI\tPGK2\tENSP00000405573\tENSP00000305995\n",
    "GPI\tENO1\tENSP00000405573\tENSP00000234590\n",
    "GPI\tLDHB\tENSP00000405573\tENSP00000229319\n",
    "ENO3\tENO2\tENSP00000324105\tENSP00000229277\n",
    "GPI\tLDHC\tENSP00000405573\tENSP00000280704\n",
    "ENO3\tLDHB\tENSP00000324105\tENSP00000229319\n",
    "ENO3\tLDHC\tENSP00000324105\tENSP00000280704\n",
    "ENO1\tLDHB\tENSP00000234590\tENSP00000229319\n",
    "LDHB\tTPI1\tENSP00000229319\tENSP00000229270\n",
    "LDHC\tTPI1\tENSP00000280704\tENSP00000229270\n",
    "PGK2\tLDHC\tENSP00000305995\tENSP00000280704\n",
    "PGK1\tLDHB\tENSP00000362413\tENSP00000229319\n",
    "PGK1\tPGK2\tENSP00000362413\tENSP00000305995\n",
    "ENO1\tENO2\tENSP00000234590\tENSP00000229277\n",
    "LDHC\tENO1\tENSP00000280704\tENSP00000234590\n",
    "LDHB\tENO2\tENSP00000229319\tENSP00000229277\n",
    "LDHC\tENO2\tENSP00000280704\tENSP00000229277\n",
    "ENO3\tENO1\tENSP00000324105\tENSP00000234590\n",
    "PGK1\tLDHC\tENSP00000362413\tENSP00000280704\n",
    "GPI\tME3\tENSP00000405573\tENSP00000352657\n",
    "PGK2\tLDHB\tENSP00000305995\tENSP00000229319\n",
    "ME3\tTPI1\tENSP00000352657\tENSP00000229270\"\"\"\n",
    "\n",
    "netData = dict()\n",
    "\n",
    "for line in networkStr.split(\"\\n\"):\n",
    "    \n",
    "    if(not line.startswith(\"#\") ):\n",
    "        info = line.split(\"\\t\")\n",
    "        #insert node1\n",
    "        if(info[0] in netData):\n",
    "            netData[info[0]].append(info[1])\n",
    "        else:\n",
    "            netData[info[0]] = [info[1]]\n",
    "        #insert node2\n",
    "        if(info[1] in netData):\n",
    "            netData[info[1]].append(info[0])\n",
    "        else:\n",
    "            netData[info[1]] = [info[0]]\n",
    "        \n",
    "\n",
    "print(netData)\n",
    "\n",
    "print(\"\\nPKLR is directly connected to:\", netData[\"PKLR\"] )\n",
    "\n",
    "firstNeigh = netData[\"ME3\"]\n",
    "print(\"\\nME3 is directly connected to:\", firstNeigh  )\n",
    "\n",
    "secondNeigh = []\n",
    "for node in firstNeigh:\n",
    "    if(node in netData): #important, the node might not have connections\n",
    "        neighbours = netData[node]\n",
    "        for n in neighbours:\n",
    "            if(n not in secondNeigh and  n not in firstNeigh and n != \"ME3\"):\n",
    "                secondNeigh.append(n)\n",
    "            \n",
    "print(\"\\nME3's second neighbours:\", secondNeigh  )"
   ]
  },
  {
   "cell_type": "markdown",
   "metadata": {},
   "source": [
    "</div>"
   ]
  }
 ],
 "metadata": {
  "celltoolbar": "Edit Metadata",
  "kernelspec": {
   "display_name": "Python 3",
   "language": "python",
   "name": "python3"
  },
  "language_info": {
   "codemirror_mode": {
    "name": "ipython",
    "version": 3
   },
   "file_extension": ".py",
   "mimetype": "text/x-python",
   "name": "python",
   "nbconvert_exporter": "python",
   "pygments_lexer": "ipython3",
   "version": "3.5.2"
  }
 },
 "nbformat": 4,
 "nbformat_minor": 2
}
