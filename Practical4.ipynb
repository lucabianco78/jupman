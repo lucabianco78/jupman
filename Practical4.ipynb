{
 "cells": [
  {
   "cell_type": "code",
   "execution_count": null,
   "metadata": {
    "nbsphinx": "hidden"
   },
   "outputs": [],
   "source": [
    "import jupman\n",
    "jupman.init()"
   ]
  },
  {
   "cell_type": "markdown",
   "metadata": {},
   "source": [
    "# Practical 4\n",
    "\n",
    "In this practical we will work with conditionals (branching) and loops.\n",
    "\n",
    "## Slides\n",
    "\n",
    "The slides of the introduction can be found here: [Intro](docs/Practical4.pdf)\n",
    "\n",
    "## Execution flow\n",
    "\n",
    "Recall from the lecture that there are at least three types of execution flows. Our statements can be simple and structured **sequentially**, when one instruction is executed right after the previous one after the other, but some more complex flows involve **conditional** branching (when the portion of the code to be executed depends on the value of some condition), or **loops** when a portion of the code is executed multiple times until a certain condition becomes False.\n",
    "\n",
    "![](img/pract4/structured_programming.png)\n",
    "\n",
    "These portions of code are generally called *blocks* and Python, unlike most of the programming languages, uses indentation (and some keywords like else, ':', 'next', etc.) to define blocks.\n",
    "\n",
    "## Conditionals\n",
    "\n",
    "\n",
    "We can use conditionals any time a decision needs to be made depending to the value of some condition. A block of code will be executed if the condition is evaluated to the boolean True and another one if the condition is False. \n",
    "\n",
    "\n",
    "### The basic *if - else* statement\n",
    "The basic syntax of conditionals is an if statement like:\n",
    "\n",
    "if condition :\n",
    "\n",
    "    #This is the True branch\n",
    "    #do something\n",
    "    \n",
    "else:\n",
    "    \n",
    "    #This is the False branch (or else branch)\n",
    "    #do something else\n",
    "\n",
    "where condition is a boolean expression that tells the interpreter which of the two blocks execute. **If and only if* the condition is **True** the first branch is executed, otherwise execution goes to the second one. Note that the condition is followed by a \":\" mark and that the two branches are indented. This is the way Python uses to identify the block of instructions that belong to the same branch. The *else* keyword is followed by \":\" and is not indented (i.e. it is at the same level of the *if* statement. There is no keyword at the end of the \"else branch\", but indentation tells when the block of code is finished.\n",
    "\n",
    "**Example:**\n",
    "Let's get an integer from the user and test if it is even or odd, printing the result to the screen."
   ]
  },
  {
   "cell_type": "code",
   "execution_count": 2,
   "metadata": {},
   "outputs": [
    {
     "name": "stdout",
     "output_type": "stream",
     "text": [
      "Dear user give me an integer:\n",
      "121\n",
      "Number  121  is  odd\n"
     ]
    }
   ],
   "source": [
    "print(\"Dear user give me an integer:\")\n",
    "num = int(input())\n",
    "res = \"\"\n",
    "if num % 2 == 0:\n",
    "    #The number is even\n",
    "    res = \"even\"\n",
    "else:\n",
    "    #The number is odd\n",
    "    res = \"odd\"\n",
    "\n",
    "print(\"Number \", num, \" is \", res)\n"
   ]
  },
  {
   "cell_type": "markdown",
   "metadata": {},
   "source": [
    "Note that the execution is sequential until the *if* keyword, then it branches until the indentation goes back to the same level of the if (i.e. the two branches rejoin at the *print* statement in the final line). **Remember that the else branch is optional.**\n",
    "\n",
    "### The *if - elif - else* statement\n",
    "\n",
    "If statements can be chained in such a way that there are more than two possible branches to be followed. Chaining them with the **if - elif - else** statement will make execution follow only one of the possible paths.\n",
    "\n",
    "The syntax is the following:\n",
    "\n",
    "if condition :\n",
    "\n",
    "    #This is branch 1\n",
    "    #do something\n",
    "    \n",
    "elif condition1 :\n",
    "    \n",
    "    #This is branch 2\n",
    "    #do something\n",
    "\n",
    "elif condition2 :\n",
    "\n",
    "    #This is branch 3\n",
    "    #do something\n",
    "\n",
    "else:\n",
    "\n",
    "    #else branch. Executed if all other conditions are false\n",
    "    #do something else\n",
    "\n",
    "Note that branch 1 is executed if condition is True, branch 2 if and only if branch 1 is False and branch 1 is True, branch 3 if condition is False, condition 1 is False and condition2 is True. If all conditions are False the else branch is executed.\n",
    "\n",
    "**Example**:\n",
    "The tax rate of a salary depends on the income. If the income is < 10000 euros, no tax is due, if the income is between 10000 euros and 20000 the tax rate is 25%, if between 20000 and 45000 it is 35% otherwise it is 40%. What is the tax due by a person earning 32000 euros per year? "
   ]
  },
  {
   "cell_type": "code",
   "execution_count": 5,
   "metadata": {},
   "outputs": [
    {
     "name": "stdout",
     "output_type": "stream",
     "text": [
      "The tax due is  11200.0  euros (i.e  35.0 %)\n"
     ]
    }
   ],
   "source": [
    "income = 32000\n",
    "rate = 0.0\n",
    "\n",
    "if income < 10000:\n",
    "    rate = 0\n",
    "elif income < 20000:\n",
    "    rate = 0.2\n",
    "elif income < 45000:\n",
    "    rate = 0.35\n",
    "else:\n",
    "    rate = 0.4\n",
    "    \n",
    "tax = income*rate\n",
    "\n",
    "print(\"The tax due is \", tax, \" euros (i.e \", rate*100, \"%)\")"
   ]
  },
  {
   "cell_type": "markdown",
   "metadata": {},
   "source": [
    "Note the difference in the two following cases:"
   ]
  },
  {
   "cell_type": "code",
   "execution_count": 8,
   "metadata": {},
   "outputs": [
    {
     "name": "stdout",
     "output_type": "stream",
     "text": [
      "Value >5\n",
      "\n",
      "\n",
      "Value is >5\n",
      "I said Value is >5!!!\n"
     ]
    }
   ],
   "source": [
    "#Example 1\n",
    "\n",
    "val = 10\n",
    "\n",
    "if val > 5:\n",
    "    print(\"Value >5\")\n",
    "elif val > 5: \n",
    "    print(\"I said value is >5!\")\n",
    "else:\n",
    "    print(\"Value is <= 5\")\n",
    "    \n",
    "#Example 2\n",
    "\n",
    "if(val > 5):\n",
    "    print(\"\\n\\nValue is >5\")\n",
    "\n",
    "if(val > 5):\n",
    "    print(\"I said Value is >5!!!\")\n",
    "    "
   ]
  },
  {
   "cell_type": "markdown",
   "metadata": {},
   "source": [
    "\n",
    "## Loops\n",
    "\n",
    "Looping is the ability of repeating a specific block of code several times (i.e. until a specific condition is True). \n",
    "\n",
    "### For loop\n",
    "\n",
    "The *for* loop is used to loop over a collection of objects (e.g. a string, list, tuple, ...). The basic syntax of the for loop is the following:\n",
    "\n",
    "for elem in collection :\n",
    "    \n",
    "    #OK, something with elem\n",
    "    # instruction 1\n",
    "    # instruction 2\n",
    "    \n",
    "the value of the variable *elem* will assume the value of each one of the elements present in *collection* one after the other. The end of the block of code to be executed for each element in the collection is again defined by indentation.\n",
    "\n",
    "Depending on the type of the collection elem will get different values. Recall from the lecture that:\n",
    "\n",
    "![](img/pract4/iteration.png)\n",
    "\n",
    "Let's see this in action:"
   ]
  },
  {
   "cell_type": "code",
   "execution_count": 31,
   "metadata": {},
   "outputs": [
    {
     "name": "stdout",
     "output_type": "stream",
     "text": [
      "String: Hi there from python\n",
      "List: ['Hi', 'there', 'from', 'python']\n",
      "Tuple: ('Hi', 'there', 'from', 'python')\n",
      "On strings:\n",
      "H\n",
      "i\n",
      " \n",
      "t\n",
      "h\n",
      "e\n",
      "r\n",
      "e\n",
      " \n",
      "f\n",
      "r\n",
      "o\n",
      "m\n",
      " \n",
      "p\n",
      "y\n",
      "t\n",
      "h\n",
      "o\n",
      "n\n",
      "\n",
      "On lists:\n",
      "Hi\n",
      "there\n",
      "from\n",
      "python\n",
      "\n",
      "On tuples:\n",
      "Hi\n",
      "there\n",
      "from\n",
      "python\n"
     ]
    }
   ],
   "source": [
    "S = \"Hi there from python\"\n",
    "Slist = S.split(\" \")\n",
    "Stuple = (\"Hi\",\"there\",\"from\",\"python\")\n",
    "print(\"String:\", S)\n",
    "print(\"List:\", Slist)\n",
    "print(\"Tuple:\", Stuple)\n",
    "\n",
    "#for loop on string\n",
    "print(\"On strings:\")\n",
    "for c in S:\n",
    "    print(c)\n",
    "\n",
    "print(\"\\nOn lists:\")\n",
    "#for loop on list\n",
    "for item in Slist:\n",
    "    print(item)\n",
    "    \n",
    "print(\"\\nOn tuples:\")\n",
    "#for loop on list\n",
    "for item in Stuple:\n",
    "    print(item)"
   ]
  },
  {
   "cell_type": "markdown",
   "metadata": {},
   "source": [
    "### Looping over a range\n",
    "\n",
    "It is possible to loop over a range of values with the pythom built-in function *range*. The *range* function accepts either two or three parameters as the slicing it needs the **starting point**, **end point** and **an optional step**. \n",
    "Three distinct sintaxes are available: *range(E)*, *range(S,E)* or *range(S,E,step)*. Remember that *S* is **included** while *E* is **excluded**.\n",
    "Let's see some examples.\n",
    "**Example:**\n",
    "Given a list of integers, return a list with all the even numbers."
   ]
  },
  {
   "cell_type": "code",
   "execution_count": 33,
   "metadata": {},
   "outputs": [
    {
     "name": "stdout",
     "output_type": "stream",
     "text": [
      "original list: [1, 7, 9, 121, 77, 82]\n",
      "only even numbers: [82]\n"
     ]
    }
   ],
   "source": [
    "myList = [1, 7, 9, 121, 77, 82]\n",
    "onlyEven = []\n",
    "\n",
    "for i in range(0, len(myList)):  #this is equivalent to range(len(myList)):\n",
    "    if( myList[i] % 2 == 0 ):\n",
    "        onlyEven.append(myList[i])\n",
    "        \n",
    "print(\"original list:\", myList)\n",
    "print(\"only even numbers:\", onlyEven)\n"
   ]
  },
  {
   "cell_type": "markdown",
   "metadata": {},
   "source": [
    "**Example:**\n",
    "Store in a list the multiples of 13 between 1 and 100."
   ]
  },
  {
   "cell_type": "code",
   "execution_count": 41,
   "metadata": {},
   "outputs": [
    {
     "name": "stdout",
     "output_type": "stream",
     "text": [
      "multiples of 19:  [19, 38, 57, 76, 95]\n",
      "multiples of 19: [19, 38, 57, 76, 95]\n"
     ]
    }
   ],
   "source": [
    "multiples = []\n",
    "\n",
    "for i in range(19,101,19):\n",
    "    multiples.append(i)\n",
    "    \n",
    "print(\"multiples of 19: \", multiples)\n",
    "\n",
    "#alternative way:\n",
    "multiples = []\n",
    "for i in range(1, (100//19) + 1):\n",
    "    multiples.append(i*19)\n",
    "print(\"multiples of 19:\", multiples)\n"
   ]
  },
  {
   "cell_type": "markdown",
   "metadata": {},
   "source": [
    "<div class=\"alert alert-info\">\n",
    "\n",
    "**Note:** range works differently in Python 2.x and 3.x\n",
    "\n",
    "In Python 3 the *range* function returns an iterator rather storing the entire list."
   ]
  },
  {
   "cell_type": "code",
   "execution_count": 42,
   "metadata": {},
   "outputs": [
    {
     "name": "stdout",
     "output_type": "stream",
     "text": [
      "range(0, 10)\n",
      "[0, 1, 2, 3, 4, 5, 6, 7, 8, 9]\n"
     ]
    }
   ],
   "source": [
    "#Check out the difference:\n",
    "print(range(0,10))\n",
    "\n",
    "print(list(range(0,10)))"
   ]
  },
  {
   "cell_type": "markdown",
   "metadata": {},
   "source": [
    "</div>\n",
    "\n",
    "### Nested for loops\n",
    "\n",
    "In some occasions it is useful to nest one (or more) for loops into another one.\n",
    "The basic syntax is:\n",
    "\n",
    "\n",
    "for i in collection:\n",
    "\n",
    "    for j in another_collection:\n",
    "    \n",
    "        #do some stuff with i and j\n",
    "\n",
    "**Example:**\n",
    "Given the matrix $\\begin{bmatrix}1 & 2 & 3\\\\4 & 5 & 6\\\\7 & 8 & 9\\end{bmatrix}$ stored as a list of lists (i.e. matrix = [[1, 2, 3], [4, 5, 6], [7, 8, 9]]. Print it out as: $\\begin{matrix}1 & 2 & 3\\\\4 & 5 & 6\\\\7 & 8 & 9\\end{matrix}$"
   ]
  },
  {
   "cell_type": "code",
   "execution_count": 44,
   "metadata": {},
   "outputs": [
    {
     "name": "stdout",
     "output_type": "stream",
     "text": [
      "1 2 3 \n",
      "4 5 6 \n",
      "7 8 9 \n"
     ]
    }
   ],
   "source": [
    "matrix = [[1, 2, 3], [4, 5, 6], [7, 8, 9]]\n",
    "\n",
    "for i in range(len(matrix)):\n",
    "    line = \"\"\n",
    "    for j in range(len(matrix[i])):\n",
    "        line = line + str(matrix[i][j]) + \" \" #note int --> str conversion!\n",
    "    print(line)"
   ]
  },
  {
   "cell_type": "markdown",
   "metadata": {},
   "source": [
    "### While loops\n",
    "\n",
    "\n",
    "## Exercises\n",
    "\n",
    "1. Write a python script that creates the following pattern:"
   ]
  },
  {
   "cell_type": "raw",
   "metadata": {},
   "source": [
    "+      \n",
    "++     \n",
    "+++    \n",
    "++++   \n",
    "+++++  \n",
    "++++++  \n",
    "+++++++ <-- 7\n",
    "++++++ \n",
    "+++++  \n",
    "++++   \n",
    "+++    \n",
    "++     \n",
    "+"
   ]
  },
  {
   "cell_type": "markdown",
   "metadata": {},
   "source": [
    "<div class=\"tggle\" onclick=\"toggleVisibility('ex1');\">Show/Hide Solution</div>\n",
    "<div id=\"ex1\" style=\"display:none;\">"
   ]
  },
  {
   "cell_type": "code",
   "execution_count": 17,
   "metadata": {},
   "outputs": [
    {
     "name": "stdout",
     "output_type": "stream",
     "text": [
      "*\n",
      "**\n",
      "***\n",
      "****\n",
      "*****\n",
      "******\n",
      "******* <-- 7\n",
      "******\n",
      "*****\n",
      "****\n",
      "***\n",
      "**\n",
      "*\n"
     ]
    }
   ],
   "source": [
    "outStr = \"\"\n",
    "for i in range(0,7):\n",
    "    outStr = \"\"\n",
    "    for j in range(0,i+1):\n",
    "        outStr = outStr + \"*\"\n",
    "    if(i == 6):\n",
    "        outStr = outStr + \" <-- 7\"\n",
    "        \n",
    "    print(outStr)\n",
    "\n",
    "for i in range(1,7):\n",
    "    outStr = \"\"\n",
    "    for j in range(0, 7-i):\n",
    "        outStr = outStr + \"*\"\n",
    "    print(outStr)\n",
    "        "
   ]
  },
  {
   "cell_type": "markdown",
   "metadata": {},
   "source": [
    "</div>"
   ]
  },
  {
   "cell_type": "markdown",
   "metadata": {},
   "source": [
    "2. Given the first 100 integers, count how many of these are divisible by 2, 3, 5, 7 and print these counts. \n",
    "\n",
    "<div class=\"tggle\" onclick=\"toggleVisibility('ex2');\">Show/Hide Solution</div>\n",
    "<div id=\"ex2\" style=\"display:none;\">"
   ]
  },
  {
   "cell_type": "code",
   "execution_count": 10,
   "metadata": {},
   "outputs": [
    {
     "name": "stdout",
     "output_type": "stream",
     "text": [
      "50  numbers divisible by  2  in the first 100\n",
      "33  numbers divisible by  3  in the first 100\n",
      "20  numbers divisible by  5  in the first 100\n",
      "12  numbers divisible by  7  in the first 100\n"
     ]
    }
   ],
   "source": [
    "cnts = [0,0,0,0] #cnts[0] counts for 2, cnts[1] counts for 3...\n",
    "vals = [2,3,5,7]\n",
    "for i in range(1,101):\n",
    "    if ( i % 2 == 0):\n",
    "        cnts[0] = cnts[0] + 1\n",
    "        \n",
    "    if ( i % 3 == 0):\n",
    "        cnts[1] = cnts[1] + 1\n",
    "        \n",
    "    if ( i % 5 == 0):\n",
    "        cnts[2] = cnts[2] + 1\n",
    "        \n",
    "    elif ( i % 7 == 0):\n",
    "        cnts[3] = cnts[3] + 1\n",
    "        \n",
    "for i in range(0, len(cnts)):\n",
    "    print(cnts[i], \" numbers divisible by \", vals[i], \" in the first 100\")\n",
    "    "
   ]
  },
  {
   "cell_type": "markdown",
   "metadata": {},
   "source": [
    "</div>"
   ]
  },
  {
   "cell_type": "markdown",
   "metadata": {},
   "source": [
    "3. Write a Python script that reverse-complements a string of DNA. \n",
    "To reverse-complement a string of DNA, one needs to replace and A with T, T with A, C with G and G with C, while any other character is complemented in N. Finally, reverse the sequence (e.g. the first base becomes the last). Example: ATCG becomes CGAT. Apply the code to the string: \"GATTACATATATCAGTACAGATATATACGCGCGGGCTTACTATTAAAAACCCC\""
   ]
  },
  {
   "cell_type": "code",
   "execution_count": 24,
   "metadata": {},
   "outputs": [
    {
     "name": "stdout",
     "output_type": "stream",
     "text": [
      "5'- GATTACATATATCAGTACAGATATATACGCGCGGGCTTACTATTAAAAACCCC -3'\n",
      "3'- GGGGTTTTTAATAGTAAGCCCGCGCGTATATATCTGTACTGATATATGTAATC -5'\n"
     ]
    }
   ],
   "source": [
    "DNA = \"GATTACATATATCAGTACAGATATATACGCGCGGGCTTACTATTAAAAACCCC\"\n",
    "\n",
    "revComp = \"\"\n",
    "for base in DNA:\n",
    "    if( base == \"T\"):\n",
    "        revComp = \"A\"+ revComp\n",
    "    elif (base == \"A\"):\n",
    "        revComp = \"T\"+ revComp\n",
    "    elif (base == \"C\"):\n",
    "        revComp = \"G\"+ revComp\n",
    "    elif (base == \"G\"):\n",
    "        revComp = \"C\" + revComp\n",
    "    else:\n",
    "        revComp = \"N\" + revComp\n",
    "        \n",
    "print(\"5\\'-\", DNA, \"-3\\'\")\n",
    "print(\"3\\'-\", revComp, \"-5\\'\")"
   ]
  },
  {
   "cell_type": "markdown",
   "metadata": {},
   "source": [
    "</div>"
   ]
  },
  {
   "cell_type": "raw",
   "metadata": {},
   "source": [
    "4. Given the following fastq entry:\n",
    "\n",
    "@HWI-ST1296:75:C3F7CACXX:1:1101:19142:14904\n",
    "CCAACAACTTTGACGCTAAGGATAGCTCCATGGCAGCATATCTGGCACAA\n",
    "+\n",
    "FHIIJIJJGIJJJJJ1HHHFFFFFEE:;CIDDDDDDDDDDDDEDDD-./0\n",
    "\n",
    "Store the sequence and the quality in two strings. Create a list with all the quality phred scores (given a quality character \"X\" the phred score is: ord(\"X\") -33. Finally print all the bases that have quality lower than 25, reporting the base, its position, quality character and phred score (e.g. base: C index: 14 qual:1 phred: 16)."
   ]
  },
  {
   "cell_type": "markdown",
   "metadata": {},
   "source": [
    "<div class=\"tggle\" onclick=\"toggleVisibility('ex3');\">Show/Hide Solution</div>\n",
    "<div id=\"ex3\" style=\"display:none;\">"
   ]
  },
  {
   "cell_type": "code",
   "execution_count": 52,
   "metadata": {},
   "outputs": [
    {
     "name": "stdout",
     "output_type": "stream",
     "text": [
      "base:  C index:  15  qual:  1  phredScore: 16\n",
      "base:  A index:  46  qual:  -  phredScore: 12\n",
      "base:  C index:  47  qual:  .  phredScore: 13\n",
      "base:  A index:  48  qual:  /  phredScore: 14\n",
      "base:  A index:  49  qual:  0  phredScore: 15\n"
     ]
    }
   ],
   "source": [
    "entry = \"\"\"@HWI-ST1296:75:C3F7CACXX:1:1101:19142:14904\n",
    "CCAACAACTTTGACGCTAAGGATAGCTCCATGGCAGCATATCTGGCACAA\n",
    "+\n",
    "FHIIJIJJGIJJJJJ1HHHFFFFFEE:;CIDDDDDDDDDDDDEDDD-./0\"\"\"\n",
    "\n",
    "lines = entry.split(\"\\n\")\n",
    "seq = lines[1]\n",
    "qual = lines[3]\n",
    "\n",
    "phredScores = []\n",
    "for i in range(len(qual)):\n",
    "    phredScores.append(ord(qual[i]) - 33)\n",
    "\n",
    "\n",
    "for i in range(len(seq)):\n",
    "    if(phredScores[i] <25):\n",
    "        print(\"base: \", seq[i], \"index: \", i, \" qual: \", qual[i], \" phredScore:\" , phredScores[i])"
   ]
  },
  {
   "cell_type": "markdown",
   "metadata": {},
   "source": [
    "</div>"
   ]
  },
  {
   "cell_type": "markdown",
   "metadata": {},
   "source": [
    "4. Given the following sequence:\n",
    "CTGTCTCCCTCACTGTATGTAAATTGCATCTAGAATAGCA\n",
    "TCTGGAGCACTAATTGACACATAGTGGGTATCAATTATTA\n",
    "TTCCAGGTACTAGAGATACCTGGACCATTAACGGATAAAT\n",
    "AGAAGATTCATTTGTTGAGTGACTGAGGATGGCAGTTCCT\n",
    "GCTACCTTCAAGGATCTGGATGATGGGGAGAAACAGAGAA\n",
    "CATAGTGTGAGAATACTGTGGTAAGGAAAGTACAGAGGAC\n",
    "TGGTAGAGTGTCTAACCTAGATTTGGAGAAGGACCTAGAA\n",
    "GTCTATCCCAGGGAAATAAAAATCTAAGCTAAGGTTTGAG\n",
    "GAATCAGTAGGAATTGGCAAAGGAAGGACATGTTCCAGAT\n",
    "GATAGGAACAGGTTATGCAAAGATCCTGAAATGGTCAGAG\n",
    "CTTGGTGCTTTTTGAGAACCAAAAGTAGATTGTTATGGAC\n",
    "CAGTGCTACTCCCTGCCTCTTGCCAAGGGACCCCGCCAAG\n",
    "CACTGCATCCCTTCCCTCTGACTCCACCTTTCCACTTGCC\n",
    "CAGTATTGTTGGTGT\n",
    "\n",
    "and print the number of uracils present and the total length of the sequence (**remember to remove newlines**).\n",
    "\n",
    "Considering the genetic code and all the possible open reading frames, answer the following questions:\n",
    "\n",
    "![](img/pract2/genetic_code.png)\n",
    "    \n",
    "1. How many stop codons are present in the sequence?\n",
    "2. How many Glycines (Gly)?\n",
    "3. Is Tryptophane (Trp) present?\n",
    "4. What is the position of the leftmost Trp? Print the codon to double check correctness (hint: slicing).\n",
    "5. What is the position of the rightmost Trp? Print the codon to double check correctness (hint: slicing).\n",
    "    \n",
    "<div class=\"tggle\" onclick=\"toggleVisibility('ex4');\">Show/Hide Solution</div>\n",
    "<div id=\"ex4\" style=\"display:none;\">"
   ]
  },
  {
   "cell_type": "code",
   "execution_count": null,
   "metadata": {},
   "outputs": [],
   "source": []
  }
 ],
 "metadata": {
  "celltoolbar": "Edit Metadata",
  "kernelspec": {
   "display_name": "Python 3",
   "language": "python",
   "name": "python3"
  },
  "language_info": {
   "codemirror_mode": {
    "name": "ipython",
    "version": 3
   },
   "file_extension": ".py",
   "mimetype": "text/x-python",
   "name": "python",
   "nbconvert_exporter": "python",
   "pygments_lexer": "ipython3",
   "version": "3.5.2"
  }
 },
 "nbformat": 4,
 "nbformat_minor": 2
}
