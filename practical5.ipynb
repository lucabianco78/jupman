{
 "cells": [
  {
   "cell_type": "code",
   "execution_count": null,
   "metadata": {
    "nbsphinx": "hidden"
   },
   "outputs": [],
   "source": [
    "import jupman\n",
    "jupman.init()"
   ]
  },
  {
   "cell_type": "markdown",
   "metadata": {},
   "source": [
    "# Practical 5\n",
    "\n",
    "In this practical we will add some information on loops and introduce dictionaries.\n",
    "\n",
    "## Slides\n",
    "\n",
    "The slides of the introduction can be found here: [Intro](docs/Practical5.pdf)\n",
    "\n",
    "## More on loops\n",
    "As seen in the previous practical and in the lecture, there are three different ways of execution flow:\n",
    "\n",
    "![](img/pract4/structured_programming.png)\n",
    "\n",
    "We have already seen the *if*, *for* and *while* loops and their variants. The code block of each of these statements is defined by the *indentation*. \n",
    "\n",
    "\n",
    "### Ternary operator\n",
    "In some cases it is handy to be able to initialize a variable depending on the value of another one.\n",
    "\n",
    "**Example**:\n",
    "The discount rate applied to a purchase depends on the amount of the sale. Create a variable *discount* setting its value to 0 if the variable *amount* is lower than 100 euros, to 10% if it is higher."
   ]
  },
  {
   "cell_type": "code",
   "execution_count": 1,
   "metadata": {},
   "outputs": [
    {
     "name": "stdout",
     "output_type": "stream",
     "text": [
      "Total amount: 110 discount: 0.1\n"
     ]
    }
   ],
   "source": [
    "amount = 110\n",
    "discount = 0\n",
    "\n",
    "if(amount >100):\n",
    "    discount = 0.1\n",
    "else:\n",
    "    discount = 0 # not necessary\n",
    "\n",
    "print(\"Total amount:\", amount, \"discount:\", discount)\n"
   ]
  },
  {
   "cell_type": "markdown",
   "metadata": {},
   "source": [
    "The previous code can be written more coincisely as:"
   ]
  },
  {
   "cell_type": "code",
   "execution_count": 2,
   "metadata": {},
   "outputs": [
    {
     "name": "stdout",
     "output_type": "stream",
     "text": [
      "Total amount: 110 discount: 0.1\n"
     ]
    }
   ],
   "source": [
    "amount = 110\n",
    "discount = 0.1 if amount > 100 else 0\n",
    "print(\"Total amount:\", amount, \"discount:\", discount)"
   ]
  },
  {
   "cell_type": "markdown",
   "metadata": {},
   "source": [
    "The basic syntax of the ternary operator is:"
   ]
  },
  {
   "cell_type": "markdown",
   "metadata": {},
   "source": [
    "```\n",
    "variable = value if condition else other_value\n",
    "```"
   ]
  },
  {
   "cell_type": "markdown",
   "metadata": {},
   "source": [
    "meaning that the *variable* is initialized to *value* if the *condition* holds, otherwise to *other_value*.\n",
    "\n",
    "Python also allows in line operations separated by a \";\" "
   ]
  },
  {
   "cell_type": "code",
   "execution_count": 4,
   "metadata": {},
   "outputs": [
    {
     "name": "stdout",
     "output_type": "stream",
     "text": [
      "10 11 13\n"
     ]
    }
   ],
   "source": [
    "a = 10; b = a + 1; c = b +2\n",
    "print(a,b,c)"
   ]
  },
  {
   "cell_type": "markdown",
   "metadata": {},
   "source": [
    "<div class=\"alert alert-warning\">\n",
    "\n",
    "**Note:** Although the ternary operator and in line operations are sometimes useful and less verbose than the explicit definition, they are considered \"non-pythonic\" and advised against.\n",
    "\n",
    "</div>"
   ]
  },
  {
   "cell_type": "markdown",
   "metadata": {},
   "source": [
    "### Break and continue\n",
    "\n",
    "Sometimes it is useful to skip an entire iteration of a loop or end the loop before its supposed end.\n",
    "This can be achieved with two different statements:  **continue** and **break**.\n",
    "\n",
    "#### Continue statement\n",
    "Within a **for** or **while** loop, **continue** makes the interpreter skip that iteration and move to the next. \n",
    "\n",
    "**Example:**\n",
    "Print all the odd numbers from 1 to 20."
   ]
  },
  {
   "cell_type": "code",
   "execution_count": 9,
   "metadata": {},
   "outputs": [
    {
     "name": "stdout",
     "output_type": "stream",
     "text": [
      "1 3 5 7 9 11 13 15 17 19 \n",
      "1 3 5 7 9 11 13 15 17 19 "
     ]
    }
   ],
   "source": [
    "#Two equivalent ways\n",
    "#1. Testing remainder = 1\n",
    "for i in range(21):\n",
    "    if(i % 2 == 1):\n",
    "        print(i, end = \" \")\n",
    "\n",
    "print(\"\")\n",
    "\n",
    "#2. Skipping if remainder = 0 in for\n",
    "for i in range(21):\n",
    "    if(i % 2 == 0):\n",
    "        continue\n",
    "    print(i, end = \" \")"
   ]
  },
  {
   "cell_type": "markdown",
   "metadata": {},
   "source": [
    "Continue can be used also within while loops but we need to be careful to update the value of the variable before reaching the continue statement or we will get stuck in never-ending loops.\n",
    "**Example:**\n",
    "Print all the odd numbers from 1 to 20."
   ]
  },
  {
   "cell_type": "code",
   "execution_count": null,
   "metadata": {},
   "outputs": [],
   "source": [
    "#Wrong code:\n",
    "i = 0\n",
    "while (i < 21):\n",
    "    if(i % 2 == 0):\n",
    "        continue\n",
    "    print(i, end = \" \")\n",
    "    i = i + 1 # NEVER EXECUTED IF i % 2 == 0!!!!"
   ]
  },
  {
   "cell_type": "markdown",
   "metadata": {},
   "source": [
    "a possible correct solution using while:"
   ]
  },
  {
   "cell_type": "code",
   "execution_count": 10,
   "metadata": {},
   "outputs": [
    {
     "name": "stdout",
     "output_type": "stream",
     "text": [
      "1 3 5 7 9 11 13 15 17 19 21 "
     ]
    }
   ],
   "source": [
    "i = -1\n",
    "while( i< 21):\n",
    "    i = i + 1        #the variable is updated no matter what\n",
    "    if(i % 2 == 0 ):\n",
    "        continue\n",
    "    print(i, end = \" \")"
   ]
  },
  {
   "cell_type": "markdown",
   "metadata": {},
   "source": [
    "#### Break statement\n",
    "Within a **for** or **while** loop, **break** makes the interpreter exit the loop and continue with the sequential execution. Sometimes it is useful to get out of the loop if to complete our task we do not need to get to the end of the loop.\n",
    "\n",
    "**Example:**\n",
    "Given the following list of integers [1,5,6,4,7,1,2,3,7] print them until a number already printed is found. "
   ]
  },
  {
   "cell_type": "code",
   "execution_count": 13,
   "metadata": {},
   "outputs": [
    {
     "name": "stdout",
     "output_type": "stream",
     "text": [
      "1 5 6 4 7 "
     ]
    }
   ],
   "source": [
    "L = [1,5,6,4,7,1,2,3,7]\n",
    "found = []\n",
    "for i in L:\n",
    "    if(i in found):\n",
    "        break\n",
    "        \n",
    "    found.append(i)\n",
    "    print(i, end = \" \")"
   ]
  },
  {
   "cell_type": "markdown",
   "metadata": {},
   "source": [
    "**Example:**\n",
    "Pick a random number from 1 and 50 and count how many times it takes to randomly choose number 27. Limit the number of random picks to 20 (i.e. if more than 40 picks have been done and 27 has not been found exit anyway with a message)."
   ]
  },
  {
   "cell_type": "code",
   "execution_count": 23,
   "metadata": {},
   "outputs": [
    {
     "name": "stdout",
     "output_type": "stream",
     "text": [
      "Sorry number 27 was never found!\n"
     ]
    }
   ],
   "source": [
    "import random\n",
    "\n",
    "iterations = 1\n",
    "while(iterations < 40):\n",
    "    pick = random.randint(1,50)\n",
    "    if(pick == 27):\n",
    "        break\n",
    "    iterations += 1\n",
    "\n",
    "if(iterations == 40):\n",
    "    print(\"Sorry number 27 was never found!\")\n",
    "else:\n",
    "    print(\"27 found in \", iterations, \"iterations\")"
   ]
  },
  {
   "cell_type": "markdown",
   "metadata": {},
   "source": [
    "An alternative way without using the break statement makes use of a *flag* variable (that when changes value will make the loop end):"
   ]
  },
  {
   "cell_type": "code",
   "execution_count": 38,
   "metadata": {},
   "outputs": [
    {
     "name": "stdout",
     "output_type": "stream",
     "text": [
      "Sorry number 27 was never found!\n"
     ]
    }
   ],
   "source": [
    "import random\n",
    "found = False # This is called flag\n",
    "iterations = 1\n",
    "while(iterations < 40 and found == False): #the flag is used to exit \n",
    "    pick = random.randint(1,50)\n",
    "    if(pick == 27):\n",
    "        found = True     #update the flag, will exit at next iteration\n",
    "    iterations += 1\n",
    "\n",
    "if(iterations == 40):\n",
    "    print(\"Sorry number 27 was never found!\")\n",
    "else:\n",
    "    print(\"27 found in \", iterations, \"iterations\")"
   ]
  },
  {
   "cell_type": "markdown",
   "metadata": {},
   "source": [
    "### List comprehension\n",
    "List comprehension is a quick way of creating a list. The resulting list is normally obtained by applying a function or a method to the elements of another list that **remains unchanged**.\n",
    "\n",
    "The basic syntax is:"
   ]
  },
  {
   "cell_type": "markdown",
   "metadata": {},
   "source": [
    "```\n",
    "new_list = [ some_function (x) for x in start_list]\n",
    "```\n",
    "or\n",
    "```\n",
    "new_list = [ x.some_method() for x in start_list]\n",
    "```"
   ]
  },
  {
   "cell_type": "markdown",
   "metadata": {},
   "source": [
    "List comprehension can also be used to filter elements of a list and produce another list as sublist of the first one (**remember that the original list is not changed**).\n",
    "\n",
    "In this case the syntax is:"
   ]
  },
  {
   "cell_type": "markdown",
   "metadata": {},
   "source": [
    "```\n",
    "new_list = [ some_function (x) for x in start_list if condition]\n",
    "```\n",
    "or\n",
    "```\n",
    "new_list = [ x.some_method() for x in start_list if condition]\n",
    "```"
   ]
  },
  {
   "cell_type": "markdown",
   "metadata": {},
   "source": [
    "where the element x in start_list becomes part of new_list if and only if the condition holds True.\n",
    "\n",
    "Let's see some examples:\n",
    "\n",
    "**Example:**\n",
    "Given a list of strings [\"hi\", \"there\", \"from\", \"python\"] create a list with the length of the corresponding element (i.e. the one with the same index)."
   ]
  },
  {
   "cell_type": "code",
   "execution_count": 39,
   "metadata": {},
   "outputs": [
    {
     "name": "stdout",
     "output_type": "stream",
     "text": [
      "hi  has length  2\n",
      "there  has length  5\n",
      "from  has length  4\n",
      "python  has length  6\n"
     ]
    }
   ],
   "source": [
    "elems = [\"hi\", \"there\", \"from\", \"python\"]\n",
    "\n",
    "newList = [len(x) for x in elems]\n",
    "\n",
    "for i in range(0,len(elems)):\n",
    "    print(elems[i], \" has length \", newList[i])"
   ]
  },
  {
   "cell_type": "markdown",
   "metadata": {},
   "source": [
    "**Example:**\n",
    "Given a list of strings [\"dog\", \"cat\", \"rabbit\", \"guinea pig\", \"hamster\", \"canary\", \"goldfish\"] create a list with the elements starting with a \"c\" or \"g\"."
   ]
  },
  {
   "cell_type": "code",
   "execution_count": 41,
   "metadata": {},
   "outputs": [
    {
     "name": "stdout",
     "output_type": "stream",
     "text": [
      "['dog', 'cat', 'rabbit', 'guinea pig', 'hamster', 'canary', 'goldfish']\n",
      "['cat', 'guinea pig', 'canary', 'goldfish']\n"
     ]
    }
   ],
   "source": [
    "pets = [\"dog\", \"cat\", \"rabbit\", \"guinea pig\", \"hamster\", \"canary\", \"goldfish\"]\n",
    "\n",
    "cg_pets = [x for x in pets if (x.startswith(\"c\") or x.startswith(\"g\"))]\n",
    "\n",
    "print(pets)\n",
    "print(cg_pets)"
   ]
  },
  {
   "cell_type": "markdown",
   "metadata": {},
   "source": []
  },
  {
   "cell_type": "code",
   "execution_count": null,
   "metadata": {},
   "outputs": [],
   "source": []
  },
  {
   "cell_type": "markdown",
   "metadata": {},
   "source": [
    "## Dictionaries"
   ]
  },
  {
   "cell_type": "markdown",
   "metadata": {},
   "source": [
    "## Exercises\n",
    "\n",
    "1. Given the following two lists of integers: \n",
    "[1, 13, 22, 7, 43, 81, 77, 12, 15,21, 84,100] and [44,32,7, 100, 81, 13, 1, 21, 71]:\n",
    "\n",
    "1. Sort the two lists\n",
    "2. Create a third list as intersection of the two lists (i.e. an element is in the intersection if it is present in both lists). \n",
    "3. Print the three lists.\n",
    "\n",
    "<div class=\"tggle\" onclick=\"toggleVisibility('ex1');\">Show/Hide Solution</div>\n",
    "<div id=\"ex1\" style=\"display:none;\">"
   ]
  },
  {
   "cell_type": "code",
   "execution_count": 44,
   "metadata": {},
   "outputs": [
    {
     "name": "stdout",
     "output_type": "stream",
     "text": [
      "L1:     [1, 7, 12, 13, 15, 21, 22, 43, 77, 81, 84, 100]\n",
      "L2:     [1, 7, 13, 21, 32, 44, 71, 81, 100]\n",
      "inters: [1, 7, 13, 21, 81, 100]\n"
     ]
    }
   ],
   "source": [
    "L1 = [1, 13, 22, 7, 43, 81, 77, 12, 15,21, 84,100]\n",
    "L2 = [44,32,7, 100, 81, 13, 1, 21, 71]\n",
    "\n",
    "L1.sort()\n",
    "L2.sort()\n",
    "intersection = [x for x in L1 if x in L2]\n",
    "\n",
    "print(\"L1:    \", L1)\n",
    "print(\"L2:    \", L2)\n",
    "print(\"inters:\", intersection)"
   ]
  },
  {
   "cell_type": "markdown",
   "metadata": {},
   "source": [
    "</div>"
   ]
  },
  {
   "cell_type": "code",
   "execution_count": null,
   "metadata": {},
   "outputs": [],
   "source": []
  }
 ],
 "metadata": {
  "celltoolbar": "Edit Metadata",
  "kernelspec": {
   "display_name": "Python 3",
   "language": "python",
   "name": "python3"
  },
  "language_info": {
   "codemirror_mode": {
    "name": "ipython",
    "version": 3
   },
   "file_extension": ".py",
   "mimetype": "text/x-python",
   "name": "python",
   "nbconvert_exporter": "python",
   "pygments_lexer": "ipython3",
   "version": "3.5.2"
  }
 },
 "nbformat": 4,
 "nbformat_minor": 2
}
