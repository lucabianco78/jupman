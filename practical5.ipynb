{
 "cells": [
  {
   "cell_type": "code",
   "execution_count": null,
   "metadata": {
    "nbsphinx": "hidden"
   },
   "outputs": [],
   "source": [
    "import jupman\n",
    "jupman.init()"
   ]
  },
  {
   "cell_type": "markdown",
   "metadata": {},
   "source": [
    "# Practical 5\n",
    "\n",
    "In this practical we will add some information on loops and introduce dictionaries.\n",
    "\n",
    "## Slides\n",
    "\n",
    "The slides of the introduction can be found here: [Intro](docs/Practical5.pdf)\n",
    "\n",
    "## More on loops\n",
    "As seen in the previous practical and in the lecture, there are three different ways of execution flow:\n",
    "\n",
    "![](img/pract4/structured_programming.png)\n",
    "\n",
    "We have already seen the *if*, *for* and *while* loops and their variants. The code block of each of these statements is defined by the *indentation*. \n",
    "\n",
    "\n",
    "### Ternary operator\n",
    "In some cases it is handy to be able to initialize a variable depending on the value of another one.\n",
    "\n",
    "**Example**:\n",
    "The discount rate applied to a purchase depends on the amount of the sale. Create a variable *discount* setting its value to 0 if the variable *amount* is lower than 100 euros, to 10% if it is higher."
   ]
  },
  {
   "cell_type": "code",
   "execution_count": 1,
   "metadata": {},
   "outputs": [
    {
     "name": "stdout",
     "output_type": "stream",
     "text": [
      "Total amount: 110 discount: 0.1\n"
     ]
    }
   ],
   "source": [
    "amount = 110\n",
    "discount = 0\n",
    "\n",
    "if(amount >100):\n",
    "    discount = 0.1\n",
    "else:\n",
    "    discount = 0 # not necessary\n",
    "\n",
    "print(\"Total amount:\", amount, \"discount:\", discount)\n"
   ]
  },
  {
   "cell_type": "markdown",
   "metadata": {},
   "source": [
    "The previous code can be written more coincisely as:"
   ]
  },
  {
   "cell_type": "code",
   "execution_count": 2,
   "metadata": {},
   "outputs": [
    {
     "name": "stdout",
     "output_type": "stream",
     "text": [
      "Total amount: 110 discount: 0.1\n"
     ]
    }
   ],
   "source": [
    "amount = 110\n",
    "discount = 0.1 if amount > 100 else 0\n",
    "print(\"Total amount:\", amount, \"discount:\", discount)"
   ]
  },
  {
   "cell_type": "markdown",
   "metadata": {},
   "source": [
    "The basic syntax of the ternary operator is:"
   ]
  },
  {
   "cell_type": "markdown",
   "metadata": {},
   "source": [
    "```\n",
    "variable = value if condition else other_value\n",
    "```"
   ]
  },
  {
   "cell_type": "markdown",
   "metadata": {},
   "source": [
    "meaning that the *variable* is initialized to *value* if the *condition* holds, otherwise to *other_value*.\n",
    "\n",
    "Python also allows in line operations separated by a \";\" "
   ]
  },
  {
   "cell_type": "code",
   "execution_count": 4,
   "metadata": {},
   "outputs": [
    {
     "name": "stdout",
     "output_type": "stream",
     "text": [
      "10 11 13\n"
     ]
    }
   ],
   "source": [
    "a = 10; b = a + 1; c = b +2\n",
    "print(a,b,c)"
   ]
  },
  {
   "cell_type": "markdown",
   "metadata": {},
   "source": [
    "<div class=\"alert alert-warning\">\n",
    "\n",
    "**Note:** Although the ternary operator and in line operations are sometimes useful and less verbose than the explicit definition, they are considered \"non-pythonic\" and advised against.\n",
    "\n",
    "</div>"
   ]
  },
  {
   "cell_type": "markdown",
   "metadata": {},
   "source": [
    "### Break and continue\n",
    "\n",
    "Sometimes it is useful to skip an entire iteration of a loop or end the loop before its supposed end.\n",
    "This can be achieved with two different statements:  **continue** and **break**.\n",
    "\n",
    "#### Continue statement\n",
    "Within a **for** or **while** loop, **continue** makes the interpreter skip that iteration and move to the next. \n",
    "\n",
    "**Example:**\n",
    "Print all the odd numbers from 1 to 20."
   ]
  },
  {
   "cell_type": "code",
   "execution_count": 9,
   "metadata": {},
   "outputs": [
    {
     "name": "stdout",
     "output_type": "stream",
     "text": [
      "1 3 5 7 9 11 13 15 17 19 \n",
      "1 3 5 7 9 11 13 15 17 19 "
     ]
    }
   ],
   "source": [
    "#Two equivalent ways\n",
    "#1. Testing remainder == 1\n",
    "for i in range(21):\n",
    "    if(i % 2 == 1):\n",
    "        print(i, end = \" \")\n",
    "\n",
    "print(\"\")\n",
    "\n",
    "#2. Skipping if remainder == 0 in for\n",
    "for i in range(21):\n",
    "    if(i % 2 == 0):\n",
    "        continue\n",
    "    print(i, end = \" \")"
   ]
  },
  {
   "cell_type": "markdown",
   "metadata": {},
   "source": [
    "Continue can be used also within while loops but we need to be careful to update the value of the variable before reaching the continue statement or we will get stuck in never-ending loops.\n",
    "**Example:**\n",
    "Print all the odd numbers from 1 to 20."
   ]
  },
  {
   "cell_type": "code",
   "execution_count": null,
   "metadata": {},
   "outputs": [],
   "source": [
    "#Wrong code:\n",
    "i = 0\n",
    "while (i < 21):\n",
    "    if(i % 2 == 0):\n",
    "        continue\n",
    "    print(i, end = \" \")\n",
    "    i = i + 1 # NEVER EXECUTED IF i % 2 == 0!!!!"
   ]
  },
  {
   "cell_type": "markdown",
   "metadata": {},
   "source": [
    "a possible correct solution using while:"
   ]
  },
  {
   "cell_type": "code",
   "execution_count": 10,
   "metadata": {},
   "outputs": [
    {
     "name": "stdout",
     "output_type": "stream",
     "text": [
      "1 3 5 7 9 11 13 15 17 19 21 "
     ]
    }
   ],
   "source": [
    "i = -1\n",
    "while( i< 21):\n",
    "    i = i + 1        #the variable is updated no matter what\n",
    "    if(i % 2 == 0 ):\n",
    "        continue\n",
    "    print(i, end = \" \")"
   ]
  },
  {
   "cell_type": "markdown",
   "metadata": {},
   "source": [
    "#### Break statement\n",
    "Within a **for** or **while** loop, **break** makes the interpreter exit the loop and continue with the sequential execution. Sometimes it is useful to get out of the loop if to complete our task we do not need to get to the end of the loop.\n",
    "\n",
    "**Example:**\n",
    "Given the following list of integers [1,5,6,4,7,1,2,3,7] print them until a number already printed is found. "
   ]
  },
  {
   "cell_type": "code",
   "execution_count": 13,
   "metadata": {},
   "outputs": [
    {
     "name": "stdout",
     "output_type": "stream",
     "text": [
      "1 5 6 4 7 "
     ]
    }
   ],
   "source": [
    "L = [1,5,6,4,7,1,2,3,7]\n",
    "found = []\n",
    "for i in L:\n",
    "    if(i in found):\n",
    "        break\n",
    "        \n",
    "    found.append(i)\n",
    "    print(i, end = \" \")"
   ]
  },
  {
   "cell_type": "markdown",
   "metadata": {},
   "source": [
    "**Example:**\n",
    "Pick a random number from 1 and 50 and count how many times it takes to randomly choose number 27. Limit the number of random picks to 20 (i.e. if more than 40 picks have been done and 27 has not been found exit anyway with a message)."
   ]
  },
  {
   "cell_type": "code",
   "execution_count": 23,
   "metadata": {},
   "outputs": [
    {
     "name": "stdout",
     "output_type": "stream",
     "text": [
      "Sorry number 27 was never found!\n"
     ]
    }
   ],
   "source": [
    "import random\n",
    "\n",
    "iterations = 1\n",
    "while(iterations < 40):\n",
    "    pick = random.randint(1,50)\n",
    "    if(pick == 27):\n",
    "        break\n",
    "    iterations += 1\n",
    "\n",
    "if(iterations == 40):\n",
    "    print(\"Sorry number 27 was never found!\")\n",
    "else:\n",
    "    print(\"27 found in \", iterations, \"iterations\")"
   ]
  },
  {
   "cell_type": "markdown",
   "metadata": {},
   "source": [
    "An alternative way without using the break statement makes use of a *flag* variable (that when changes value will make the loop end):"
   ]
  },
  {
   "cell_type": "code",
   "execution_count": 38,
   "metadata": {},
   "outputs": [
    {
     "name": "stdout",
     "output_type": "stream",
     "text": [
      "Sorry number 27 was never found!\n"
     ]
    }
   ],
   "source": [
    "import random\n",
    "found = False # This is called flag\n",
    "iterations = 1\n",
    "while(iterations < 40 and found == False): #the flag is used to exit \n",
    "    pick = random.randint(1,50)\n",
    "    if(pick == 27):\n",
    "        found = True     #update the flag, will exit at next iteration\n",
    "    iterations += 1\n",
    "\n",
    "if(iterations == 40):\n",
    "    print(\"Sorry number 27 was never found!\")\n",
    "else:\n",
    "    print(\"27 found in \", iterations, \"iterations\")"
   ]
  },
  {
   "cell_type": "markdown",
   "metadata": {},
   "source": [
    "### List comprehension\n",
    "List comprehension is a quick way of creating a list. The resulting list is normally obtained by applying a function or a method to the elements of another list that **remains unchanged**.\n",
    "\n",
    "The basic syntax is:"
   ]
  },
  {
   "cell_type": "markdown",
   "metadata": {},
   "source": [
    "```\n",
    "new_list = [ some_function (x) for x in start_list]\n",
    "```\n",
    "or\n",
    "```\n",
    "new_list = [ x.some_method() for x in start_list]\n",
    "```"
   ]
  },
  {
   "cell_type": "markdown",
   "metadata": {},
   "source": [
    "List comprehension can also be used to filter elements of a list and produce another list as sublist of the first one (**remember that the original list is not changed**).\n",
    "\n",
    "In this case the syntax is:"
   ]
  },
  {
   "cell_type": "markdown",
   "metadata": {},
   "source": [
    "```\n",
    "new_list = [ some_function (x) for x in start_list if condition]\n",
    "```\n",
    "or\n",
    "```\n",
    "new_list = [ x.some_method() for x in start_list if condition]\n",
    "```"
   ]
  },
  {
   "cell_type": "markdown",
   "metadata": {},
   "source": [
    "where the element x in start_list becomes part of new_list if and only if the condition holds True.\n",
    "\n",
    "Let's see some examples:\n",
    "\n",
    "**Example:**\n",
    "Given a list of strings [\"hi\", \"there\", \"from\", \"python\"] create a list with the length of the corresponding element (i.e. the one with the same index)."
   ]
  },
  {
   "cell_type": "code",
   "execution_count": 39,
   "metadata": {},
   "outputs": [
    {
     "name": "stdout",
     "output_type": "stream",
     "text": [
      "hi  has length  2\n",
      "there  has length  5\n",
      "from  has length  4\n",
      "python  has length  6\n"
     ]
    }
   ],
   "source": [
    "elems = [\"hi\", \"there\", \"from\", \"python\"]\n",
    "\n",
    "newList = [len(x) for x in elems]\n",
    "\n",
    "for i in range(0,len(elems)):\n",
    "    print(elems[i], \" has length \", newList[i])"
   ]
  },
  {
   "cell_type": "markdown",
   "metadata": {},
   "source": [
    "**Example:**\n",
    "Given a list of strings [\"dog\", \"cat\", \"rabbit\", \"guinea pig\", \"hamster\", \"canary\", \"goldfish\"] create a list with the elements starting with a \"c\" or \"g\"."
   ]
  },
  {
   "cell_type": "code",
   "execution_count": 41,
   "metadata": {},
   "outputs": [
    {
     "name": "stdout",
     "output_type": "stream",
     "text": [
      "['dog', 'cat', 'rabbit', 'guinea pig', 'hamster', 'canary', 'goldfish']\n",
      "['cat', 'guinea pig', 'canary', 'goldfish']\n"
     ]
    }
   ],
   "source": [
    "pets = [\"dog\", \"cat\", \"rabbit\", \"guinea pig\", \"hamster\", \"canary\", \"goldfish\"]\n",
    "\n",
    "cg_pets = [x for x in pets if (x.startswith(\"c\") or x.startswith(\"g\"))]\n",
    "\n",
    "print(pets)\n",
    "print(cg_pets)"
   ]
  },
  {
   "cell_type": "markdown",
   "metadata": {},
   "source": [
    "## Dictionaries\n",
    "\n",
    "A **dictionary** is a map between one object, the **key** and another object, the **value**. Dictionaries are **mutable objects** and contain sequences of mappings *key*-->*object* but there is not specific ordering among them. \n",
    "Dictionaries are defined using the curly braces **{key1 : value1, key2 : value2}** and **:** to separate keys from values.\n",
    "\n",
    "Some examples on how to define dictionaries follow:"
   ]
  },
  {
   "cell_type": "code",
   "execution_count": 47,
   "metadata": {},
   "outputs": [
    {
     "name": "stdout",
     "output_type": "stream",
     "text": [
      "First: {'three': 3, 'one': 1, 'four': 4, 'two': 2}\n",
      "Empty: {}\n",
      "{1: 'one', 2: 'two', 'three': 3}\n",
      "{'three': 3, 'one': 1, 'four': 4, 'two': 2}\n",
      "True\n"
     ]
    }
   ],
   "source": [
    "first_dict = {\"one\" : 1, \"two\": 2, \"three\" : 3, \"four\" : 4} \n",
    "print(\"First:\", first_dict)\n",
    "\n",
    "empty_dict = dict()\n",
    "print(\"Empty:\",empty_dict)\n",
    "\n",
    "second_dict = {1 : \"one\", 2 : \"two\", \"three\" :3 } #BAD IDEA BUT POSSIBLE!!!\n",
    "print(second_dict)\n",
    "\n",
    "third_dict = dict(zip([\"one\",\"two\",\"three\",\"four\"],[1,2,3,4]))\n",
    "print(third_dict)\n",
    "print(first_dict == third_dict)"
   ]
  },
  {
   "cell_type": "markdown",
   "metadata": {},
   "source": [
    "Note that there is no ordering of the keys, and that the order in which they have been inserted is not preserved. Moreover, keys and values can be dishomogeneous (e.g. keys strings and values integers). \n",
    "An interesting case is *third_dict* where the function *zip* followed by *dict* is used to map the keys of the first list into the values present in the second.\n",
    "\n",
    "Note that keys can be **dishomogeneous**, even though this is a bad idea normally.  The only requirement for the **keys** is that they **must be immutable objects**. Trying to use a mutable object as a key will make the interpreter crash with the error: **unhashable type**. Finally, keys must be unique. We cannot associate more than one value to the same key."
   ]
  },
  {
   "cell_type": "code",
   "execution_count": 49,
   "metadata": {},
   "outputs": [
    {
     "name": "stdout",
     "output_type": "stream",
     "text": [
      "{(1, 3, 5): 9, (1, 2, 3): 6}\n"
     ]
    },
    {
     "ename": "TypeError",
     "evalue": "unhashable type: 'list'",
     "output_type": "error",
     "traceback": [
      "\u001b[0;31m---------------------------------------------------------------------------\u001b[0m",
      "\u001b[0;31mTypeError\u001b[0m                                 Traceback (most recent call last)",
      "\u001b[0;32m<ipython-input-49-0fe98c7f5acd>\u001b[0m in \u001b[0;36m<module>\u001b[0;34m()\u001b[0m\n\u001b[1;32m      8\u001b[0m \u001b[0md\u001b[0m \u001b[0;34m=\u001b[0m \u001b[0;34m[\u001b[0m\u001b[0;36m1\u001b[0m\u001b[0;34m,\u001b[0m\u001b[0;36m3\u001b[0m\u001b[0;34m,\u001b[0m\u001b[0;36m5\u001b[0m\u001b[0;34m]\u001b[0m\u001b[0;34m\u001b[0m\u001b[0m\n\u001b[1;32m      9\u001b[0m \u001b[0;34m\u001b[0m\u001b[0m\n\u001b[0;32m---> 10\u001b[0;31m \u001b[0mdict2\u001b[0m \u001b[0;34m=\u001b[0m \u001b[0;34m{\u001b[0m\u001b[0mc\u001b[0m \u001b[0;34m:\u001b[0m \u001b[0;36m6\u001b[0m\u001b[0;34m,\u001b[0m \u001b[0md\u001b[0m \u001b[0;34m:\u001b[0m \u001b[0;36m9\u001b[0m\u001b[0;34m}\u001b[0m\u001b[0;34m\u001b[0m\u001b[0m\n\u001b[0m\u001b[1;32m     11\u001b[0m \u001b[0mprint\u001b[0m\u001b[0;34m(\u001b[0m\u001b[0mdict2\u001b[0m\u001b[0;34m)\u001b[0m\u001b[0;34m\u001b[0m\u001b[0m\n",
      "\u001b[0;31mTypeError\u001b[0m: unhashable type: 'list'"
     ]
    }
   ],
   "source": [
    "a = (1,2,3) #a,b are tuples: hence immutable\n",
    "b = (1,3,5)\n",
    "\n",
    "my_dict = {a : 6, b : 9 }\n",
    "print(my_dict)\n",
    "\n",
    "c = [1,2,3] #c,d are lists: hence mutable\n",
    "d = [1,3,5]\n",
    "\n",
    "dict2 = {c : 6, d : 9}\n",
    "print(dict2)"
   ]
  },
  {
   "cell_type": "markdown",
   "metadata": {},
   "source": [
    "### Functions working on dictionaries\n",
    "\n",
    "As for the other data types, python provides several operators that can be applied to dictionaries. The following operators are available and they basically work as in lists. The only exception being that the operator **in** checks whether the specified object is present among the **keys**.\n",
    "\n",
    "![](img/pract5/operators.png)\n",
    "\n",
    "Some usage examples follow:"
   ]
  },
  {
   "cell_type": "code",
   "execution_count": 55,
   "metadata": {},
   "outputs": [
    {
     "name": "stdout",
     "output_type": "stream",
     "text": [
      "{'one': 1, 'twentyfive': 25, 'two': 2}\n",
      "{'one': 1, 'twentyfive': 25, 'ten': 10, 'two': 2, 'twenty': 20}\n",
      "The dictionary has  5  elements\n",
      "The value of \"ten\" is: 10\n",
      "The value of \"two\" is: 2\n",
      "Is \"twentyfive\" in dictionary? True\n",
      "Is \"seven\" in dictionary? False\n"
     ]
    }
   ],
   "source": [
    "myDict = {\"one\" : 1, \"two\" : 2, \"twentyfive\" : 25}\n",
    "\n",
    "print(myDict)\n",
    "myDict[\"ten\"] = 10\n",
    "myDict[\"twenty\"] = 20\n",
    "print(myDict)\n",
    "print(\"The dictionary has \", len(myDict), \" elements\")\n",
    "print(\"The value of \\\"ten\\\" is:\", myDict[\"ten\"])\n",
    "print(\"The value of \\\"two\\\" is:\", myDict[\"two\"])\n",
    "\n",
    "print(\"Is \\\"twentyfive\\\" in dictionary?\", \"twentyfive\" in myDict)\n",
    "print(\"Is \\\"seven\\\" in dictionary?\", \"seven\" in myDict)"
   ]
  },
  {
   "cell_type": "markdown",
   "metadata": {},
   "source": [
    "### Dictionary methods \n",
    "\n",
    "Recall what seen in the lecture, the following methods are available for dictionaries:\n",
    "\n",
    "![](img/pract5/methods.png)\n",
    "\n",
    "These methods are new to dictionaries and can be used to loop through the elements in them.\n",
    "\n",
    "<div class=\"alert alert-warning\">\n",
    "\n",
    "**ERRATUM:** ```dict.keys()``` returns a ```dict_keys``` object not a list. To cast it to list, we need to call ```list(dict.keys())```.\n",
    "\n",
    "</div>\n",
    "\n",
    "\n",
    "**Example**\n",
    "Given the protein sequence below, store in a dictionary all the aminoacids present and count how many times they appear. Finally print out the stats (e.g. how many amino-acids are present, the most frequent, the least frequent and the frequency of all of them **in alphabetical order**)."
   ]
  },
  {
   "cell_type": "markdown",
   "metadata": {},
   "source": [
    "```\n",
    ">sp|P00517|KAPCA_BOVIN cAMP-dependent protein kinase catalytic subunit alpha OS=Bos taurus GN=PRKACA PE=1 SV=3\n",
    "MGNAAAAKKGSEQESVKEFLAKAKEDFLKKWENPAQNTAHLDQFERIKTLGTGSFGRVML\n",
    "VKHMETGNHYAMKILDKQKVVKLKQIEHTLNEKRILQAVNFPFLVKLEFSFKDNSNLYMV\n",
    "MEYVPGGEMFSHLRRIGRFSEPHARFYAAQIVLTFEYLHSLDLIYRDLKPENLLIDQQGY\n",
    "IQVTDFGFAKRVKGRTWTLCGTPEYLAPEIILSKGYNKAVDWWALGVLIYEMAAGYPPFF\n",
    "ADQPIQIYEKIVSGKVRFPSHFSSDLKDLLRNLLQVDLTKRFGNLKNGVNDIKNHKWFAT\n",
    "TDWIAIYQRKVEAPFIPKFKGPGDTSNFDDYEEEEIRVSINEKCGKEFSEF\n",
    "```"
   ]
  },
  {
   "cell_type": "code",
   "execution_count": 70,
   "metadata": {},
   "outputs": [
    {
     "name": "stdout",
     "output_type": "stream",
     "text": [
      "MGNAAAAKKGSEQESVKEFLAKAKEDFLKKWENPAQNTAHLDQFERIKTLGTGSFGRVMLVKHMETGNHYAMKILDKQKVVKLKQIEHTLNEKRILQAVNFPFLVKLEFSFKDNSNLYMVMEYVPGGEMFSHLRRIGRFSEPHARFYAAQIVLTFEYLHSLDLIYRDLKPENLLIDQQGYIQVTDFGFAKRVKGRTWTLCGTPEYLAPEIILSKGYNKAVDWWALGVLIYEMAAGYPPFFADQPIQIYEKIVSGKVRFPSHFSSDLKDLLRNLLQVDLTKRFGNLKNGVNDIKNHKWFATTDWIAIYQRKVEAPFIPKFKGPGDTSNFDDYEEEEIRVSINEKCGKEFSEF\n",
      "The number of amino-acids present is  20\n",
      "A  is present 23 times\n",
      "C  is present 2 times\n",
      "D  is present 18 times\n",
      "E  is present 27 times\n",
      "F  is present 25 times\n",
      "G  is present 22 times\n",
      "H  is present 9 times\n",
      "I  is present 21 times\n",
      "K  is present 34 times\n",
      "L  is present 32 times\n",
      "M  is present 8 times\n",
      "N  is present 17 times\n",
      "P  is present 14 times\n",
      "Q  is present 14 times\n",
      "R  is present 15 times\n",
      "S  is present 16 times\n",
      "T  is present 14 times\n",
      "V  is present 20 times\n",
      "W  is present 6 times\n",
      "Y  is present 14 times\n",
      "Aminoacid C has the lowest frequency ( 2 )\n",
      "Aminoacid K has the highest frequency ( 34 )\n"
     ]
    }
   ],
   "source": [
    "protein = \"\"\"MGNAAAAKKGSEQESVKEFLAKAKEDFLKKWENPAQNTAHLDQFERIKTLGTGSFGRVML\n",
    "VKHMETGNHYAMKILDKQKVVKLKQIEHTLNEKRILQAVNFPFLVKLEFSFKDNSNLYMV\n",
    "MEYVPGGEMFSHLRRIGRFSEPHARFYAAQIVLTFEYLHSLDLIYRDLKPENLLIDQQGY\n",
    "IQVTDFGFAKRVKGRTWTLCGTPEYLAPEIILSKGYNKAVDWWALGVLIYEMAAGYPPFF\n",
    "ADQPIQIYEKIVSGKVRFPSHFSSDLKDLLRNLLQVDLTKRFGNLKNGVNDIKNHKWFAT\n",
    "TDWIAIYQRKVEAPFIPKFKGPGDTSNFDDYEEEEIRVSINEKCGKEFSEF\"\"\"\n",
    "\n",
    "protein = protein.replace(\"\\n\",\"\")\n",
    "\n",
    "print(protein)\n",
    "\n",
    "amino_acids = dict()\n",
    "\n",
    "for a in protein:\n",
    "    if( a in amino_acids):\n",
    "        amino_acids[a] = amino_acids[a] + 1\n",
    "    else:\n",
    "        amino_acids[a] = 1\n",
    "\n",
    "\n",
    "num_aminos = len(amino_acids)\n",
    "\n",
    "print(\"The number of amino-acids present is \", num_aminos)\n",
    "#let's get all aminoacids\n",
    "#and sort them alphabetically\n",
    "a_keys = list(amino_acids.keys())\n",
    "\n",
    "a_keys.sort()\n",
    "\n",
    "mostF = {\"frequency\" : 0, \"aminoacid\" : \"-\"}\n",
    "leastF = {\"frequency\" : num_aminos, \"aminoacid\" : \"-\"}\n",
    "\n",
    "for a in a_keys:\n",
    "    freq = amino_acids[a]\n",
    "    if(mostF[\"frequency\"] < freq):\n",
    "        mostF[\"frequency\"] = freq\n",
    "        mostF[\"aminoacid\"] = a\n",
    "        \n",
    "    if(leastF[\"frequency\"] > freq):\n",
    "        leastF[\"frequency\"] = freq\n",
    "        leastF[\"aminoacid\"] = a    \n",
    "    print(a, \" is present\", freq, \"times\")\n",
    "\n",
    "print(\"Aminoacid\", leastF[\"aminoacid\"], \"has the lowest frequency (\",leastF[\"frequency\"],\")\")\n",
    "print(\"Aminoacid\", mostF[\"aminoacid\"], \"has the highest frequency (\",mostF[\"frequency\"],\")\")"
   ]
  },
  {
   "cell_type": "markdown",
   "metadata": {},
   "source": [
    "## Exercises\n",
    "\n",
    "1. Given the following two lists of integers: \n",
    "[1, 13, 22, 7, 43, 81, 77, 12, 15,21, 84,100] and [44,32,7, 100, 81, 13, 1, 21, 71]:\n",
    "\n",
    "1. Sort the two lists\n",
    "2. Create a third list as intersection of the two lists (i.e. an element is in the intersection if it is present in both lists).  \n",
    "3. Print the three lists.\n",
    "\n",
    "<div class=\"tggle\" onclick=\"toggleVisibility('ex1');\">Show/Hide Solution</div>\n",
    "<div id=\"ex1\" style=\"display:none;\">"
   ]
  },
  {
   "cell_type": "code",
   "execution_count": 44,
   "metadata": {},
   "outputs": [
    {
     "name": "stdout",
     "output_type": "stream",
     "text": [
      "L1:     [1, 7, 12, 13, 15, 21, 22, 43, 77, 81, 84, 100]\n",
      "L2:     [1, 7, 13, 21, 32, 44, 71, 81, 100]\n",
      "inters: [1, 7, 13, 21, 81, 100]\n"
     ]
    }
   ],
   "source": [
    "L1 = [1, 13, 22, 7, 43, 81, 77, 12, 15,21, 84,100]\n",
    "L2 = [44,32,7, 100, 81, 13, 1, 21, 71]\n",
    "\n",
    "L1.sort()\n",
    "L2.sort()\n",
    "intersection = [x for x in L1 if x in L2]\n",
    "\n",
    "print(\"L1:    \", L1)\n",
    "print(\"L2:    \", L2)\n",
    "print(\"inters:\", intersection)"
   ]
  },
  {
   "cell_type": "markdown",
   "metadata": {},
   "source": [
    "</div>\n",
    "\n",
    "2. Given the following list:\n",
    "\n",
    "geneCorr = [[\"G1C2W9\", \"G1C2Q7\", 0.2], [\"G1C2W9\", \"G1C2Q4\", 0.9], \n",
    "[\"Q6NMS1\", \"G1C2W9\", 0.8],[\"G1C2W9\", \"Q6NMS1\",0.4], [\"G1C2Q7\", \"G1C2Q4\",0.76]]\n",
    "\n",
    "where each list [\"gene1\", \"gene2\", corr] represents a correlation between *gene1* and *gene2* with correlation *corr*, create another list containing only the elements having an high correlation (i.e. > 0.75). Print this list."
   ]
  },
  {
   "cell_type": "markdown",
   "metadata": {},
   "source": [
    "Expected result:\n",
    "```\n",
    "[['G1C2W9', 'G1C2Q4', 0.9], ['Q6NMS1', 'G1C2W9', 0.8], ['G1C2Q7', 'G1C2Q4', 0.76]]\n",
    "```"
   ]
  },
  {
   "cell_type": "markdown",
   "metadata": {},
   "source": [
    "<div class=\"tggle\" onclick=\"toggleVisibility('ex2');\">Show/Hide Solution</div>\n",
    "<div id=\"ex2\" style=\"display:none;\">"
   ]
  },
  {
   "cell_type": "code",
   "execution_count": 79,
   "metadata": {},
   "outputs": [
    {
     "name": "stdout",
     "output_type": "stream",
     "text": [
      "[['G1C2W9', 'G1C2Q7', 0.2], ['G1C2W9', 'G1C2Q4', 0.9], ['Q6NMS1', 'G1C2W9', 0.8], ['G1C2W9', 'Q6NMS1', 0.4], ['G1C2Q7', 'G1C2Q4', 0.76]] \n",
      "\n",
      "[['G1C2W9', 'G1C2Q4', 0.9], ['Q6NMS1', 'G1C2W9', 0.8], ['G1C2Q7', 'G1C2Q4', 0.76]]\n"
     ]
    }
   ],
   "source": [
    "geneCorr = [[\"G1C2W9\", \"G1C2Q7\", 0.2], [\"G1C2W9\", \"G1C2Q4\", 0.9], [\"Q6NMS1\", \"G1C2W9\", 0.8],\n",
    "            [\"G1C2W9\", \"Q6NMS1\",0.4], [\"G1C2Q7\", \"G1C2Q4\",0.76]]\n",
    "\n",
    "highlyCorr = [x for x in geneCorr if x[2] > 0.75]\n",
    "\n",
    "print(geneCorr, \"\\n\")\n",
    "print(highlyCorr)"
   ]
  },
  {
   "cell_type": "markdown",
   "metadata": {},
   "source": [
    "</div>\n",
    "3. Given the following sequence of DNA:\n",
    "\n",
    "DNA = \"GATTACATATATCAGTACAGATATATACGCGCGGGCTTACTATTAAAAACCCC\"\n",
    "    \n",
    "    1. Create a dictionary reporting the frequency of each base (i.e. key is the base and value is the frequency).\n",
    "    2. Create a dictionary representing an index of all possible dimers (i.e. 2 bases, 16 dimers in total): AA, AT, AC, AG, TA, TT, TC, TG, ... . In this case, keys of the dictionary are dimers and values are lists with all possible starting positions of the dimer.  \n",
    "    3. Print the DNA string.\n",
    "    4. Print for each base its frequency\n",
    "    4. Print all positions of the dimer \"AT\""
   ]
  },
  {
   "cell_type": "markdown",
   "metadata": {},
   "source": [
    "The expected result is:\n",
    "```\n",
    "sequence: GATTACATATATCAGTACAGATATATACGCGCGGGCTTACTATTAAAAACCCC\n",
    "G has frequency: 0.1509433962264151\n",
    "C has frequency: 0.22641509433962265\n",
    "A has frequency: 0.3584905660377358\n",
    "T has frequency: 0.2641509433962264\n",
    "{'GG': [32, 33], 'TC': [11], 'GT': [14], 'CA': [5, 12, 17], 'TT': [2, 36, 42], 'CG': [27, 29, 31], 'TA': [3, 7, 9, 15, 21, 23, 25, 37, 40, 43], 'AG': [13, 18], 'GA': [0, 19], 'CT': [35, 39], 'GC': [28, 30, 34], 'AT': [1, 6, 8, 10, 20, 22, 24, 41], 'CC': [49, 50, 51], 'AA': [44, 45, 46, 47], 'AC': [4, 16, 26, 38, 48]} \n",
    "\n",
    "Dimer AT is found at: [1, 6, 8, 10, 20, 22, 24, 41]\n",
    "```"
   ]
  },
  {
   "cell_type": "markdown",
   "metadata": {},
   "source": [
    "<div class=\"tggle\" onclick=\"toggleVisibility('ex3');\">Show/Hide Solution</div>\n",
    "<div id=\"ex3\" style=\"display:none;\">"
   ]
  },
  {
   "cell_type": "code",
   "execution_count": 90,
   "metadata": {},
   "outputs": [
    {
     "name": "stdout",
     "output_type": "stream",
     "text": [
      "sequence: GATTACATATATCAGTACAGATATATACGCGCGGGCTTACTATTAAAAACCCC\n",
      "G has frequency: 0.1509433962264151\n",
      "C has frequency: 0.22641509433962265\n",
      "A has frequency: 0.3584905660377358\n",
      "T has frequency: 0.2641509433962264\n",
      "{'GG': [32, 33], 'TC': [11], 'GT': [14], 'CA': [5, 12, 17], 'TT': [2, 36, 42], 'CG': [27, 29, 31], 'TA': [3, 7, 9, 15, 21, 23, 25, 37, 40, 43], 'AG': [13, 18], 'GA': [0, 19], 'CT': [35, 39], 'GC': [28, 30, 34], 'AT': [1, 6, 8, 10, 20, 22, 24, 41], 'CC': [49, 50, 51], 'AA': [44, 45, 46, 47], 'AC': [4, 16, 26, 38, 48]} \n",
      "\n",
      "Dimer AT is found at: [1, 6, 8, 10, 20, 22, 24, 41]\n"
     ]
    }
   ],
   "source": [
    "DNA = \"GATTACATATATCAGTACAGATATATACGCGCGGGCTTACTATTAAAAACCCC\"\n",
    "\n",
    "n = len(DNA)\n",
    "\n",
    "baseFreq = {\"A\" : DNA.count(\"A\")/n, \"T\" : DNA.count(\"T\")/n, \n",
    "            \"C\": DNA.count(\"C\")/n, \"G\" : DNA.count(\"G\")/n }\n",
    "\n",
    "dimersDict ={}\n",
    "\n",
    "print(\"sequence:\", DNA)\n",
    "\n",
    "for base in baseFreq:\n",
    "    print(base, \"has frequency:\", baseFreq[base])\n",
    "    \n",
    "for ind in range(len(DNA) -1 ): #need -1 because at each iteration I get the dimer [ind:ind+1]\n",
    "    dimer = DNA[ind:ind+2]\n",
    "    if(dimer in dimersDict):\n",
    "        dimersDict[dimer].append(ind)\n",
    "    else:\n",
    "        dimersDict[dimer] = [ind]\n",
    "print(dimersDict, \"\\n\")\n",
    "print(\"Dimer AT is found at:\", dimersDict[\"AT\"])"
   ]
  },
  {
   "cell_type": "markdown",
   "metadata": {},
   "source": [
    "</div>"
   ]
  },
  {
   "cell_type": "markdown",
   "metadata": {},
   "source": [
    "4. Given the following table, reporting molecular weights for each amino acid, store them in a dictionary where the key is the one letter code and the value is the molecular weight (e.g. {\"A\" : 89, \"R\":179\"}).\n",
    "\n",
    "![](img/pract5/molecular_weights.png)\n",
    "\n",
    "Write a python script to answer the following questions:\n",
    "    1. What is the average molecular weight of an amino acid?\n",
    "    2. What is the total molecular weight and number of aminoacids of the P53 peptide GSRAHSSHLKSKKGQSTSRHK?\n",
    "    3. What is the total molecular weight and number of aminoacids of the peptide YTSLIHSLIEESQNQQEKNEQELLELDKWASLWNWF?"
   ]
  },
  {
   "cell_type": "code",
   "execution_count": 62,
   "metadata": {},
   "outputs": [
    {
     "name": "stdout",
     "output_type": "stream",
     "text": [
      "The average molecular weight of amino acids is: 137.04545454545453\n",
      "Peptide  GSRAHSSHLKSKKGQSTSRHK has 21 amino acids and a total mw of 2662 Da\n",
      "Peptide  YTSLIHSLIEESQNQQEKNEQELLELDKWASLWNWF has 36 amino acids and a total mw of 5076 Da\n"
     ]
    }
   ],
   "source": [
    "mws = {\"A\" : 89, \"R\" : 174, \"N\" : 132, \"D\" : 133, \"B\": 133, \"C\": 121, \"Q\": 146, \n",
    "       \"E\": 147, \"Z\": 147, \"G\": 75, \"H\": 155, \"I\": 131, \"L\" : 131,\n",
    "      \"K\" : 146, \"M\" : 149, \"F\" : 165, \"P\" : 115, \"S\" : 105, \"T\" : 119, \n",
    "       \"W\" : 204, \"Y\": 181, \"V\" : 117\n",
    "      }\n",
    "avgW = 0\n",
    "for amino in mws:\n",
    "    avgW = avgW + mws[amino]\n",
    "\n",
    "avgW = avgW/len(mws)\n",
    "print(\"The average molecular weight of amino acids is:\", avgW)\n",
    "\n",
    "P53amino = \"GSRAHSSHLKSKKGQSTSRHK\"\n",
    "\n",
    "totW = 0\n",
    "for amino in P53amino:\n",
    "    totW += mws[amino]\n",
    "print(\"Peptide \", P53amino, \"has\",len(P53amino), \"amino acids and a total mw of\",totW, \"Da\")\n",
    "\n",
    "totW = 0 #reusing same variable name\n",
    "peptide = \"YTSLIHSLIEESQNQQEKNEQELLELDKWASLWNWF\"\n",
    "for amino in peptide:\n",
    "    totW += mws[amino]\n",
    "    \n",
    "print(\"Peptide \", peptide, \"has\",len(peptide), \"amino acids and a total mw of\",totW, \"Da\")"
   ]
  },
  {
   "cell_type": "code",
   "execution_count": null,
   "metadata": {},
   "outputs": [],
   "source": []
  }
 ],
 "metadata": {
  "celltoolbar": "Edit Metadata",
  "kernelspec": {
   "display_name": "Python 3",
   "language": "python",
   "name": "python3"
  },
  "language_info": {
   "codemirror_mode": {
    "name": "ipython",
    "version": 3
   },
   "file_extension": ".py",
   "mimetype": "text/x-python",
   "name": "python",
   "nbconvert_exporter": "python",
   "pygments_lexer": "ipython3",
   "version": "3.5.2"
  }
 },
 "nbformat": 4,
 "nbformat_minor": 2
}
