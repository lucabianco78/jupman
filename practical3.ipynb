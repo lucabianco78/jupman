{
 "cells": [
  {
   "cell_type": "code",
   "execution_count": 1,
   "metadata": {},
   "outputs": [
    {
     "data": {
      "text/html": [
       "<style>\n",
       "\n",
       "    #jupman-nav {\n",
       "        position: fixed;\n",
       "        top: 10px; \n",
       "        left: 5px; \n",
       "        background: white;\n",
       "        width: 200px; \n",
       "        padding: 10px; \n",
       "        z-index: 10;\n",
       "    }\n",
       "\n",
       "    /* style=\"background: rgba(255, 255, 255, 0);\" class=\"unstyled\" */\n",
       "  \n",
       "    #jupman-toc {\n",
       "        position: fixed;\n",
       "        top: 100px; \n",
       "        left: -55px; \n",
       "        background: rgba(255, 255, 255, 0);\n",
       "        \n",
       "        height: 80%;\n",
       "        width: 200px; \n",
       "        padding: 20px; \n",
       "        z-index: 10;\n",
       "        overflow-y: scroll;        \n",
       "            /* font-size: 50%; */\n",
       "    }\n",
       "\n",
       "    \n",
       "    \n",
       "    code {\n",
       "        background-color:rgb(245, 249, 249) !important;\n",
       "    }\n",
       "    \n",
       "    \n",
       "    .jupman-nav-item {\n",
       "        font-weight:bold;\n",
       "        font-size:120%  \n",
       "    }\n",
       "    \n",
       "    .jupman-chapter-link {\n",
       "        font-size:150%;\n",
       "        margin-right:15px;        \n",
       "    }\n",
       "    \n",
       "    .jupman-chapter-link a {\n",
       "        text-decoration: none;\n",
       "    }    \n",
       "    \n",
       "    .jupman-title {\n",
       "        font-size:250%; \n",
       "        font-weight:bold        \n",
       "    }    \n",
       "        \n",
       "    .jupman-warn {    \n",
       "        background-color: #fcf2f2;        \n",
       "        border-left: 5px solid #dfb5b4;\n",
       "        padding: 1.5em;\n",
       "        font-weight:bold;\n",
       "        margin-bottom:10px;\n",
       "    }\n",
       "\n",
       "    .jupman-question {    \n",
       "        background-color: rgb(251, 231, 250);\n",
       "        border-left: 5px solid rgb(189, 151, 184);\n",
       "        padding: 1.5em;\n",
       "        font-weight:bold;\n",
       "        margin-bottom:10px;\n",
       "    }\n",
       "        \n",
       "    \n",
       "    .jupman-important {\n",
       "        background-color: rgba(255, 238, 0, 0.31);\n",
       "        border-left: 5px solid rgba(205, 208, 0, 1.0);\n",
       "        color: #000;        \n",
       "        padding: 1.5em;\n",
       "        font-weight:bold;\n",
       "        margin-bottom:10px;\n",
       "    }\n",
       "    \n",
       "    \n",
       "    #jupman-toc ul {                                                                                                                                                                           \n",
       "        list-style-type: none;                                                                                                                                                                 \n",
       "        margin-left: 5px;\n",
       "    }\n",
       "    \n",
       "    #jupman-toc li {        \n",
       "         padding-left: 3px;\n",
       "    }    \n",
       "    \n",
       "    #jupman-toc .h1 {\n",
       "        font-size:110%; \n",
       "        \n",
       "    }\n",
       "    \n",
       "    #jupman-toc .h2 {\n",
       "        font-size:100%; \n",
       "        padding-left:15px;\n",
       "    }\n",
       "\n",
       "    #jupman-toc .h3 {\n",
       "        font-size:100%; \n",
       "        padding-left:25px;\n",
       "    }\n",
       "    \n",
       "    \n",
       "    \n",
       "    #notebook-container {\n",
       "        box-shadow : none;\n",
       "\t-web-kit-box-shadow: none;\n",
       "    }\n",
       "    \n",
       "\n",
       "    #jupman-toc .toc-active {\n",
       "        background: rgba(168, 254, 255, 0.32);\n",
       "    }\n",
       " </style>\n",
       "\n",
       "<script>\n",
       "\n",
       "/*!\n",
       " * toc - jQuery Table of Contents Plugin\n",
       " * v0.3.2\n",
       " * http://projects.jga.me/toc/\n",
       " * copyright Greg Allen 2014\n",
       " * MIT License\n",
       "*/\n",
       "!function(a){a.fn.smoothScroller=function(b){b=a.extend({},a.fn.smoothScroller.defaults,b);var c=a(this);return a(b.scrollEl).animate({scrollTop:c.offset().top-a(b.scrollEl).offset().top-b.offset},b.speed,b.ease,function(){var a=c.attr(\"id\");a.length&&(history.pushState?history.pushState(null,null,\"#\"+a):document.location.hash=a),c.trigger(\"smoothScrollerComplete\")}),this},a.fn.smoothScroller.defaults={speed:400,ease:\"swing\",scrollEl:\"body,html\",offset:0},a(\"body\").on(\"click\",\"[data-smoothscroller]\",function(b){b.preventDefault();var c=a(this).attr(\"href\");0===c.indexOf(\"#\")&&a(c).smoothScroller()})}(jQuery),function(a){var b={};a.fn.toc=function(b){var c,d=this,e=a.extend({},jQuery.fn.toc.defaults,b),f=a(e.container),g=a(e.selectors,f),h=[],i=e.activeClass,j=function(b,c){if(e.smoothScrolling&&\"function\"==typeof e.smoothScrolling){b.preventDefault();var f=a(b.target).attr(\"href\");e.smoothScrolling(f,e,c)}a(\"li\",d).removeClass(i),a(b.target).parent().addClass(i)},k=function(){c&&clearTimeout(c),c=setTimeout(function(){for(var b,c=a(window).scrollTop(),f=Number.MAX_VALUE,g=0,j=0,k=h.length;k>j;j++){var l=Math.abs(h[j]-c);f>l&&(g=j,f=l)}a(\"li\",d).removeClass(i),b=a(\"li:eq(\"+g+\")\",d).addClass(i),e.onHighlight(b)},50)};return e.highlightOnScroll&&(a(window).bind(\"scroll\",k),k()),this.each(function(){var b=a(this),c=a(e.listType);g.each(function(d,f){var g=a(f);h.push(g.offset().top-e.highlightOffset);var i=e.anchorName(d,f,e.prefix);if(f.id!==i){a(\"<span/>\").attr(\"id\",i).insertBefore(g)}var l=a(\"<a/>\").text(e.headerText(d,f,g)).attr(\"href\",\"#\"+i).bind(\"click\",function(c){a(window).unbind(\"scroll\",k),j(c,function(){a(window).bind(\"scroll\",k)}),b.trigger(\"selected\",a(this).attr(\"href\"))}),m=a(\"<li/>\").addClass(e.itemClass(d,f,g,e.prefix)).append(l);c.append(m)}),b.html(c)})},jQuery.fn.toc.defaults={container:\"body\",listType:\"<ul/>\",selectors:\"h1,h2,h3\",smoothScrolling:function(b,c,d){a(b).smoothScroller({offset:c.scrollToOffset}).on(\"smoothScrollerComplete\",function(){d()})},scrollToOffset:0,prefix:\"toc\",activeClass:\"toc-active\",onHighlight:function(){},highlightOnScroll:!0,highlightOffset:100,anchorName:function(c,d,e){if(d.id.length)return d.id;var f=a(d).text().replace(/[^a-z0-9]/gi,\" \").replace(/\\s+/g,\"-\").toLowerCase();if(b[f]){for(var g=2;b[f+g];)g++;f=f+\"-\"+g}return b[f]=!0,e+\"-\"+f},headerText:function(a,b,c){return c.text()},itemClass:function(a,b,c,d){return d+\"-\"+c[0].tagName.toLowerCase()}}}(jQuery);\n",
       "\n",
       "/*\n",
       " * JUPYTER MANAGER JavaScript https://github.com/DavidLeoni/jupman \n",
       " * \n",
       " */\n",
       "\n",
       " function toggleVisibility(what){\n",
       "    var e = document.getElementById(what);\n",
       "    if(e.style.display == 'block')\n",
       "      e.style.display = 'none';\n",
       "    else\n",
       "      e.style.display = 'block';\n",
       "  }\n",
       "    \n",
       " \n",
       "\n",
       "\n",
       "function showthis(url) {\n",
       "    window.open(url, \"pres\", \"toolbar=yes,scrollbars=yes,resizable=yes,top=10,left=400,width=500,height=500\");\n",
       "    return(false);\n",
       "}\n",
       "\n",
       "var jupman = {\n",
       "    \n",
       "    isReduced : function(){\n",
       "        return $(window).width() < 924;\n",
       "    },\n",
       "    hoverToc : function(){\n",
       "        return $('#jupman-toc:hover').length != 0;\n",
       "    },\n",
       "    resize : function(){\n",
       "        if (jupman.isReduced()){\n",
       "            $(\"#jupman-toc\").hide();\n",
       "        } else {\n",
       "            $(\"#jupman-toc\").show();\n",
       "            $(\"#jupman-toc\").css(\"background\",\"rgba(255, 255, 255, 0)\");\n",
       "            \n",
       "            tocParams = {\n",
       "                \n",
       "                'selectors': 'h1,h2,h3', //elements to use as headings\n",
       "                'container': 'body', //element to find all selectors in\n",
       "                'smoothScrolling': true, //enable or disable smooth scrolling on click\n",
       "                 //doesn't work  'prefix': 'jupman-toc', //prefix for anchor tags and class names\n",
       "                //'onHighlight': function(el) {}, //called when a new section is highlighted \n",
       "                'highlightOnScroll': true, //add class to heading that is currently in focus\n",
       "                'highlightOffset': 100, //offset to trigger the next headline\n",
       "                'anchorName': function(i, heading, prefix) { //custom function for anchor name\n",
       "                    return prefix+i;\n",
       "                },\n",
       "                'headerText': function(i, heading, $heading) { //custom function building the header-item text                  \n",
       "                    return $heading.text().replace(\"¶\",\"\");\n",
       "                },\n",
       "                'itemClass': function(i, heading, $heading, prefix) { // custom function for item class\n",
       "                    return $heading[0].tagName.toLowerCase();\n",
       "                }                \n",
       "            }\n",
       "            \n",
       "            $('#jupman-toc').toc(tocParams);\n",
       "        }\n",
       "    },\n",
       "    /**\n",
       "        Hides cell input\n",
       "        \n",
       "        Renamed in 0.19\n",
       "    */    \n",
       "    hideCell : function(prefixOrRegex){\n",
       "        \n",
       "        $('.border-box-sizing .code_cell pre').filter(function() { \n",
       "                var t = $(this).text();\n",
       "                if (typeof prefixOrRegex == \"string\"){\n",
       "                    return t.indexOf(prefixOrRegex) === 0;\n",
       "                } else if ( prefixOrRegex instanceof RegExp){\n",
       "                    return t.match(prefixOrRegex);\n",
       "                } else {\n",
       "                    console.error(\"Invalid argument:\", prefixOrRegex);\n",
       "                    throw new Error(\"Invalid argument!\");\n",
       "                }\n",
       "            }).parents('div .cell .input').hide();        \n",
       "    },\n",
       "    /**\n",
       "        Hides the cell input AND output.\n",
       "        \n",
       "        @since 0.19\n",
       "    */\n",
       "    hideCellAll : function(prefix){        \n",
       "        $('.border-box-sizing .code_cell pre').filter(function() { \n",
       "                return $(this).text().indexOf(prefix) === 0; \n",
       "            }).parents('div .cell ').hide();        \n",
       "    },\n",
       "    \n",
       "    init : function(){\n",
       "\n",
       "       var toc = $(\"<div>\").attr(\"id\", \"jupman-toc\");              \n",
       "       var indexLink = $(\"<a>\")\n",
       "                        .addClass(\"jupman-nav-item\")\n",
       "                        .attr(\"href\",\"index.html#Chapters\")\n",
       "                        .text(\"jupman\");\n",
       "       \n",
       "       \n",
       "       \n",
       "       var candidateTitleText = $(\".jupman-title\").text();              \n",
       "                                  \n",
       "                    \n",
       "       \n",
       "       var nav = $(\"<div>\")\n",
       "                     .attr(\"id\", \"jupman-nav\")\n",
       "                    .append(indexLink);       \n",
       "       \n",
       "       if (candidateTitleText.length !== 0){\n",
       "\n",
       "           var title = $(\"<span>\")\n",
       "                    .addClass(\"jupman-nav-item\")\n",
       "                    .css(\"padding-left\",\"8px\")\n",
       "                    .text(candidateTitleText);\n",
       "            nav.append(\"<br>\")\n",
       "                .append(\"<br>\")\n",
       "                .append(title);                                \n",
       "        }\n",
       "                     \n",
       "       // TODO THIS HIDE STUFF DOES NOT WORK ANYMORE AFTER PORTING TO NBSPHINX \n",
       "       // INSTEAD, YOU SHOULD EDIT \n",
       "       jupman.hideCell(\"%%HTML\");\n",
       "       jupman.hideCell(\"import jupman\");   \n",
       "       \n",
       "        // TODO this is a bit too hacky   \n",
       "       jupman.hideCell(/from exercise(.+)_solution import \\*/)\n",
       "       \n",
       "       jupman.hideCell(\"jupman.init()\"); \n",
       "       jupman.hideCell(\"jupman.show_run(\");\n",
       "       jupman.hideCell(\"nxpd.draw(\");\n",
       "       jupman.hideCellAll(\"jupman.run(\"); \n",
       "              \n",
       "       if ($(\"#jupman-toc\").length === 0){\n",
       "           $(\"body\").append(toc);       \n",
       "       } else {\n",
       "           $(\"#jupman-toc\").replaceWith(toc);\n",
       "       }\n",
       "       \n",
       "       if ($(\"#jupman-nav\").length === 0){\n",
       "           $(\"body\").append(nav);       \n",
       "       } else {\n",
       "           $(\"#jupman-nav\").replaceWith(nav);\n",
       "       }              \n",
       "       \n",
       "       jupman.resize();\n",
       "    }\n",
       "}\n",
       "\n",
       "$( window ).resize(function() {\n",
       "    jupman.resize();\n",
       "});\n",
       "\n",
       "\n",
       "$(\"body\").on(\"mousemove\",function(event) {\n",
       "    if (jupman.isReduced()){\n",
       "        if (event.pageX < 50) {            \n",
       "             $(\"#jupman-toc\").show(); \n",
       "            $(\"#jupman-toc\").css(\"background\",\"rgba(255, 255, 255, 1.0)\");\n",
       "        } else {\n",
       "            \n",
       "            if (jupman.hoverToc()) {                    \n",
       "            } else {\n",
       "                $(\"#jupman-toc\").hide();                        \n",
       "            }\n",
       "                     \n",
       "/*            if ($(\"#jupman-toc\").is(\":visible\")){\n",
       "                if (jupman.hoverToc()) {                    \n",
       "                } else {\n",
       "                    $(\"#jupman-toc\").hide();                        \n",
       "                }\n",
       "            } else {\n",
       "                if (jupman.hoverToc())\n",
       "                  show\n",
       "              } else {\n",
       "                $(\"#jupman-toc\").hide();                        \n",
       "               }                 \n",
       "            }\n",
       "  */     \n",
       "        }\n",
       "    }\n",
       "});\n",
       "\n",
       "$(document).ready(jupman.init);\n",
       "\n",
       "</script>\n"
      ],
      "text/plain": [
       "<IPython.core.display.HTML object>"
      ]
     },
     "execution_count": 1,
     "metadata": {},
     "output_type": "execute_result"
    }
   ],
   "source": [
    "import jupman\n",
    "jupman.init()"
   ]
  },
  {
   "cell_type": "markdown",
   "metadata": {},
   "source": [
    "# Practical 3\n",
    "\n",
    "In this practical we will work with lists and tuples.\n",
    "\n",
    "## Slides\n",
    "\n",
    "The slides of the introduction can be found here: [Intro](docs/Practical3.pdf)\n",
    "\n",
    "## Lists\n",
    "\n",
    "Python lists are **ordered** collections of (homogeneous) objects, but they can hold also non-homogeneous data. List are **mutable objects**. Elements of the collection are specified within two square brackets **[]** and are comma separated.\n",
    "\n",
    "We can use the function print to print the content of lists. Some examples of list definitions follow:"
   ]
  },
  {
   "cell_type": "code",
   "execution_count": 2,
   "metadata": {},
   "outputs": [
    {
     "name": "stdout",
     "output_type": "stream",
     "text": [
      "first: [1, 2, 3]\n",
      "second:  [1, 2, 3, 1, 3]\n",
      "fruits: ['apple', 'pear', 'peach', 'strawberry', 'cherry']\n",
      "empty: []\n",
      "another empty: []\n",
      "list of lists: [[1, 2], [3, 4, 5, 6]]\n",
      "a list of lists of lists: [[1, 2, 3], [[1, 2], [3, 4, 5, 6]]]\n"
     ]
    }
   ],
   "source": [
    "my_first_list = [1,2,3] \n",
    "print(\"first:\" , my_first_list)\n",
    "\n",
    "my_second_list = [1,2,3,1,3] #elements can appear several times\n",
    "print(\"second: \", my_second_list)\n",
    "\n",
    "fruits = [\"apple\", \"pear\", \"peach\", \"strawberry\", \"cherry\"] #elements can be strings\n",
    "print(\"fruits:\", fruits)\n",
    "\n",
    "an_empty_list = []\n",
    "print(\"empty:\" , an_empty_list)\n",
    "\n",
    "another_empty_list = list()\n",
    "print(\"another empty:\", another_empty_list)\n",
    "\n",
    "a_list_containing_other_lists = [[1,2], [3,4,5,6]] #elements can be other lists\n",
    "print(\"list of lists:\", a_list_containing_other_lists)\n",
    "\n",
    "my_final_example = [my_first_list, a_list_containing_other_lists]\n",
    "print(\"a list of lists of lists:\", my_final_example)\n",
    "\n"
   ]
  },
  {
   "cell_type": "markdown",
   "metadata": {},
   "source": [
    "### Operators for lists\n",
    "\n",
    "Python provides several operators to handle lists. The following behave like on strings (**remember that as in strings, the first position is 0!**):\n",
    "\n",
    "![](img/pract3/operators1.png)\n",
    "\n",
    "While this requires that the whole tested obj is present in the list\n",
    "\n",
    "![](img/pract3/operators2.png)\n",
    "\n",
    "and \n",
    "\n",
    "![](img/pract3/operators3.png)\n",
    "\n",
    "can also change the corresponding value of the list (**lists are mutable objects**).\n",
    "\n",
    "Some examples follow."
   ]
  },
  {
   "cell_type": "code",
   "execution_count": 78,
   "metadata": {},
   "outputs": [
    {
     "name": "stdout",
     "output_type": "stream",
     "text": [
      "A is a  <class 'list'>\n",
      "[1, 2, 3]  has length:  3\n",
      "A[0]:  1  A[1]: 2  A[-1]: 3\n",
      "[1, 2, 3, 1, 2]  has length:  5\n",
      "Is A equal to B? False\n",
      "[1, 2, 3, 1, 4]\n",
      "Is C equal to B? False\n",
      "[1, 2, 3, 1, 2, 3, 1, 2, 3, 1, 2, 3, 1, 2, 3, 1, 2, 3, 1, 2, 3, 1, 2, 3]\n",
      "[1, 2, 3, 1, 2, 3]\n",
      "Is A*2 equal to E? True\n"
     ]
    }
   ],
   "source": [
    "A = [1, 2, 3 ]\n",
    "B = [1, 2, 3, 1, 2]\n",
    "\n",
    "print(\"A is a \", type(A))\n",
    "\n",
    "print(A, \" has length: \", len(A))\n",
    "print(\"A[0]: \", A[0], \" A[1]:\", A[1], \" A[-1]:\", A[-1])\n",
    "\n",
    "print(B, \" has length: \", len(B))\n",
    "print(\"Is A equal to B?\", A == B)\n",
    "\n",
    "C = A + [1, 4]\n",
    "print(C)\n",
    "print(\"Is C equal to B?\", B == C)\n",
    "D = [1, 2, 3]*8 \n",
    "print(D)\n",
    "\n",
    "E = D[12:18] #slicing\n",
    "print(E)\n",
    "print(\"Is A*2 equal to E?\", A*2 == E)\n"
   ]
  },
  {
   "cell_type": "code",
   "execution_count": 4,
   "metadata": {},
   "outputs": [
    {
     "name": "stdout",
     "output_type": "stream",
     "text": [
      "A: [1, 2, 3, 4, 5, 6]\n",
      "B: [1, 3, 5]\n",
      "Is B in A? False\n",
      "[1, 2, 3, 4, 5, [1, 3, 5]]\n",
      "A has length: 6\n",
      "Is now B in A? True\n"
     ]
    }
   ],
   "source": [
    "A = [1, 2, 3, 4, 5, 6]\n",
    "B = [1, 3, 5]\n",
    "print(\"A:\", A)\n",
    "print(\"B:\", B)\n",
    "\n",
    "print(\"Is B in A?\", B in A)\n",
    "A[5] = [1,3,5] #we can add elements\n",
    "print(A)\n",
    "print(\"A has length:\", len(A))\n",
    "print(\"Is now B in A?\", B in A)"
   ]
  },
  {
   "cell_type": "markdown",
   "metadata": {},
   "source": [
    "When slicing do not exceed the list boundaries (or you will receive a ```list index out of range``` error:"
   ]
  },
  {
   "cell_type": "code",
   "execution_count": 5,
   "metadata": {},
   "outputs": [
    {
     "name": "stdout",
     "output_type": "stream",
     "text": [
      "A has length: 6\n",
      "First element: 1\n"
     ]
    },
    {
     "ename": "IndexError",
     "evalue": "list index out of range",
     "output_type": "error",
     "traceback": [
      "\u001b[0;31m---------------------------------------------------------------------------\u001b[0m",
      "\u001b[0;31mIndexError\u001b[0m                                Traceback (most recent call last)",
      "\u001b[0;32m<ipython-input-5-699e5f04cae0>\u001b[0m in \u001b[0;36m<module>\u001b[0;34m()\u001b[0m\n\u001b[1;32m      3\u001b[0m \u001b[0;34m\u001b[0m\u001b[0m\n\u001b[1;32m      4\u001b[0m \u001b[0mprint\u001b[0m\u001b[0;34m(\u001b[0m\u001b[0;34m\"First element:\"\u001b[0m\u001b[0;34m,\u001b[0m \u001b[0mA\u001b[0m\u001b[0;34m[\u001b[0m\u001b[0;36m0\u001b[0m\u001b[0;34m]\u001b[0m\u001b[0;34m)\u001b[0m\u001b[0;34m\u001b[0m\u001b[0m\n\u001b[0;32m----> 5\u001b[0;31m \u001b[0mprint\u001b[0m\u001b[0;34m(\u001b[0m\u001b[0;34m\"7th-element: \"\u001b[0m\u001b[0;34m,\u001b[0m \u001b[0mA\u001b[0m\u001b[0;34m[\u001b[0m\u001b[0;36m6\u001b[0m\u001b[0;34m]\u001b[0m\u001b[0;34m)\u001b[0m\u001b[0;34m\u001b[0m\u001b[0m\n\u001b[0m",
      "\u001b[0;31mIndexError\u001b[0m: list index out of range"
     ]
    }
   ],
   "source": [
    "A = [1, 2, 3, 4, 5, 6]\n",
    "print(\"A has length:\", len(A))\n",
    "\n",
    "print(\"First element:\", A[0])\n",
    "print(\"7th-element: \", A[6])"
   ]
  },
  {
   "cell_type": "markdown",
   "metadata": {},
   "source": [
    "**Example**:\n",
    "Consider the matrix $M = \\begin{matrix}1 & 2 & 3\\\\ 1 & 2 & 1\\\\ 1 & 1 & 3\\end{matrix}$ and the vector $v=[10, 5, 10]^T$. \n",
    "What is the matrix-vector product $M*v$? $$\\begin{matrix}1 & 2 & 3\\\\ 1 & 2 & 1\\\\ 1 & 1 & 3\\end{matrix}*[10,5,10]^T = [50, 30, 45]^T$$"
   ]
  },
  {
   "cell_type": "code",
   "execution_count": 6,
   "metadata": {},
   "outputs": [
    {
     "name": "stdout",
     "output_type": "stream",
     "text": [
      "M:  [[1, 2, 3], [1, 2, 1], [1, 1, 3]]\n",
      "v:  [10, 5, 10]\n",
      "M*v:  [50, 30, 45]\n"
     ]
    }
   ],
   "source": [
    "M = [[1, 2, 3], [1, 2, 1], [1, 1, 3]]\n",
    "v = [10, 5, 10]\n",
    "prod = [0, 0 ,0] #at the beginning the product is the null vector\n",
    "\n",
    "prod[0]=M[0][0]*v[0] + M[0][1]*v[1] + M[0][2]*v[2]\n",
    "prod[1]=M[1][0]*v[0] + M[1][1]*v[1] + M[1][2]*v[2]\n",
    "prod[2]=M[2][0]*v[0] + M[2][1]*v[1] + M[2][2]*v[2]\n",
    "\n",
    "print(\"M: \", M)\n",
    "print(\"v: \", v)\n",
    "print(\"M*v: \", prod)\n",
    "\n"
   ]
  },
  {
   "cell_type": "markdown",
   "metadata": {},
   "source": [
    "### Methods of the class list\n",
    "\n",
    "The class list has some methods to operate on it. Recall from the lecture the following methods:\n",
    "\n",
    "![](img/pract3/list_methods.png)\n",
    "\n",
    "Note that lists are **mutable objects** and therefore virtually all the previous methods (except *count*) do not have an output value, but they **modify** the list. Some usage examples follow:"
   ]
  },
  {
   "cell_type": "code",
   "execution_count": 36,
   "metadata": {},
   "outputs": [
    {
     "name": "stdout",
     "output_type": "stream",
     "text": [
      "[1, 2, 3]\n",
      "[1, 2, 3, 72]\n",
      "[1, 2, 3, 72, 1, 5, 124, 99]\n",
      "[99, 124, 5, 1, 72, 3, 2, 1]\n",
      "[1, 1, 2, 3, 5, 72, 99, 124]\n",
      "Min value:  1\n",
      "Max value:  124\n",
      "Number 1 appears: 2  times\n",
      "While number 837:  0\n",
      "\n",
      "Done with numbers, let's go strings...\n",
      "\n",
      "['apple', 'banana', 'pineapple', 'cherry', 'pear', 'almond', 'orange']\n",
      "['pineapple', 'pear', 'orange', 'cherry', 'banana', 'apple', 'almond']\n",
      "['pineapple', 'pear', 'orange', 'cherry', 'apple', 'almond']\n",
      "['pineapple', 'pear', 'orange', 'cherry', 'apple', 'wild apple', 'almond']\n"
     ]
    }
   ],
   "source": [
    "#A numeric list\n",
    "A = [1, 2, 3]\n",
    "print(A)\n",
    "A.append(72) #appends one and only one object\n",
    "print(A)\n",
    "A.extend([1, 5, 124, 99]) #adds all these objects, one after the other.\n",
    "print(A)\n",
    "A.reverse()\n",
    "print(A)\n",
    "A.sort()\n",
    "print(A)\n",
    "print(\"Min value: \", A[0]) # In this simple case, could have used min(A)\n",
    "print(\"Max value: \", A[-1]) #In this simple case, could have used max(A)\n",
    "print(\"Number 1 appears:\", A.count(1), \" times\")\n",
    "print(\"While number 837: \", A.count(837))\n",
    "\n",
    "print(\"\\nDone with numbers, let's go strings...\\n\")\n",
    "#A string list\n",
    "fruits = [\"apple\", \"banana\", \"pineapple\", \"cherry\",\"pear\", \"almond\", \"orange\"]\n",
    "#Let's get a reverse lexicographic order:\n",
    "print(fruits)\n",
    "fruits.sort()\n",
    "fruits.reverse()\n",
    "print(fruits)\n",
    "fruits.remove(\"banana\")\n",
    "print(fruits)\n",
    "fruits.insert(5, \"wild apple\") #put wild apple after apple.\n",
    "print(fruits)"
   ]
  },
  {
   "cell_type": "markdown",
   "metadata": {},
   "source": [
    "<div class=\"alert alert-warning\">\n",
    "**Some things to remember** \n",
    "\n",
    "1. append and extend work quite differently:"
   ]
  },
  {
   "cell_type": "code",
   "execution_count": 38,
   "metadata": {},
   "outputs": [
    {
     "name": "stdout",
     "output_type": "stream",
     "text": [
      "[1, 2, 3, 4, 5]\n",
      "[1, 2, 3, [4, 5]]\n"
     ]
    }
   ],
   "source": [
    "A = [1, 2, 3]\n",
    "\n",
    "A.extend([4, 5])\n",
    "print(A)\n",
    "B = [1, 2, 3]\n",
    "B.append([4,5])\n",
    "print(B)"
   ]
  },
  {
   "cell_type": "markdown",
   "metadata": {},
   "source": [
    "2. To remove an object it must exist:"
   ]
  },
  {
   "cell_type": "code",
   "execution_count": 39,
   "metadata": {},
   "outputs": [
    {
     "name": "stdout",
     "output_type": "stream",
     "text": [
      "[1, 3]\n"
     ]
    },
    {
     "ename": "ValueError",
     "evalue": "list.remove(x): x not in list",
     "output_type": "error",
     "traceback": [
      "\u001b[0;31m---------------------------------------------------------------------------\u001b[0m",
      "\u001b[0;31mValueError\u001b[0m                                Traceback (most recent call last)",
      "\u001b[0;32m<ipython-input-39-bdf156ee14f6>\u001b[0m in \u001b[0;36m<module>\u001b[0;34m()\u001b[0m\n\u001b[1;32m      2\u001b[0m \u001b[0mA\u001b[0m\u001b[0;34m.\u001b[0m\u001b[0mremove\u001b[0m\u001b[0;34m(\u001b[0m\u001b[0;36m2\u001b[0m\u001b[0;34m)\u001b[0m\u001b[0;34m\u001b[0m\u001b[0m\n\u001b[1;32m      3\u001b[0m \u001b[0mprint\u001b[0m\u001b[0;34m(\u001b[0m\u001b[0mA\u001b[0m\u001b[0;34m)\u001b[0m\u001b[0;34m\u001b[0m\u001b[0m\n\u001b[0;32m----> 4\u001b[0;31m \u001b[0mA\u001b[0m\u001b[0;34m.\u001b[0m\u001b[0mremove\u001b[0m\u001b[0;34m(\u001b[0m\u001b[0;36m7\u001b[0m\u001b[0;34m)\u001b[0m\u001b[0;34m\u001b[0m\u001b[0m\n\u001b[0m",
      "\u001b[0;31mValueError\u001b[0m: list.remove(x): x not in list"
     ]
    }
   ],
   "source": [
    "A = [1,2,3]\n",
    "A.remove(2)\n",
    "print(A)\n",
    "A.remove(7)"
   ]
  },
  {
   "cell_type": "markdown",
   "metadata": {},
   "source": [
    "3. To sort a list, its elements must be sortable (i.e. homogeneous)!"
   ]
  },
  {
   "cell_type": "code",
   "execution_count": 42,
   "metadata": {},
   "outputs": [
    {
     "name": "stdout",
     "output_type": "stream",
     "text": [
      "[4, 3, 1, 7, 2]\n",
      "[1, 2, 3, 4, 7]\n"
     ]
    },
    {
     "ename": "TypeError",
     "evalue": "unorderable types: str() < int()",
     "output_type": "error",
     "traceback": [
      "\u001b[0;31m---------------------------------------------------------------------------\u001b[0m",
      "\u001b[0;31mTypeError\u001b[0m                                 Traceback (most recent call last)",
      "\u001b[0;32m<ipython-input-42-5ee3935792e2>\u001b[0m in \u001b[0;36m<module>\u001b[0;34m()\u001b[0m\n\u001b[1;32m      4\u001b[0m \u001b[0mprint\u001b[0m\u001b[0;34m(\u001b[0m\u001b[0mA\u001b[0m\u001b[0;34m)\u001b[0m\u001b[0;34m\u001b[0m\u001b[0m\n\u001b[1;32m      5\u001b[0m \u001b[0mA\u001b[0m\u001b[0;34m.\u001b[0m\u001b[0mappend\u001b[0m\u001b[0;34m(\u001b[0m\u001b[0;34m\"banana\"\u001b[0m\u001b[0;34m)\u001b[0m\u001b[0;34m\u001b[0m\u001b[0m\n\u001b[0;32m----> 6\u001b[0;31m \u001b[0mA\u001b[0m\u001b[0;34m.\u001b[0m\u001b[0msort\u001b[0m\u001b[0;34m(\u001b[0m\u001b[0;34m)\u001b[0m\u001b[0;34m\u001b[0m\u001b[0m\n\u001b[0m\u001b[1;32m      7\u001b[0m \u001b[0mprint\u001b[0m\u001b[0;34m(\u001b[0m\u001b[0mA\u001b[0m\u001b[0;34m)\u001b[0m\u001b[0;34m\u001b[0m\u001b[0m\n",
      "\u001b[0;31mTypeError\u001b[0m: unorderable types: str() < int()"
     ]
    }
   ],
   "source": [
    "A = [4,3, 1,7, 2]\n",
    "print(A)\n",
    "A.sort()\n",
    "print(A)\n",
    "A.append(\"banana\")\n",
    "A.sort()\n",
    "print(A)\n"
   ]
  },
  {
   "cell_type": "markdown",
   "metadata": {},
   "source": [
    "</div>"
   ]
  },
  {
   "cell_type": "markdown",
   "metadata": {},
   "source": [
    "<div class=\"alert alert-info\">\n",
    "\n",
    "**Important to remember:** \n",
    "\n",
    "Lists are **mutable objects** and this has some consequences!\n",
    "Since lists are mutable objects, they hold references to objects rather than objects.\n",
    "\n",
    "Take a look at the following examples:"
   ]
  },
  {
   "cell_type": "code",
   "execution_count": 61,
   "metadata": {},
   "outputs": [
    {
     "name": "stdout",
     "output_type": "stream",
     "text": [
      "LL: [[1, 2], [4, 3]]\n",
      "l1: [1, 2, 7]\n",
      "LL now:  [[1, 2, 7], [4, 3]]\n",
      "LL now: [[1, -1, 7], [4, 3]]\n",
      "l1 now [1, -1, 7]\n",
      "LL now: [100, [4, 3]]\n",
      "l1 now [1, -1, 7]\n"
     ]
    }
   ],
   "source": [
    "l1 = [1, 2]\n",
    "l2 = [4, 3]\n",
    "LL = [l1, l2]\n",
    "\n",
    "print(\"LL:\", LL)\n",
    "l1.append(7)\n",
    "\n",
    "print(\"l1:\", l1)\n",
    "print(\"LL now: \", LL)\n",
    "\n",
    "LL[0][1] = -1\n",
    "print(\"LL now:\" , LL)\n",
    "print(\"l1 now\", l1)\n",
    "#but the list can point also to a different object, without affecting the original list.\n",
    "LL[0] = 100\n",
    "print(\"LL now:\", LL)\n",
    "print(\"l1 now\", l1)\n"
   ]
  },
  {
   "cell_type": "markdown",
   "metadata": {},
   "source": [
    "**Important for making copies**:"
   ]
  },
  {
   "cell_type": "code",
   "execution_count": 66,
   "metadata": {},
   "outputs": [
    {
     "name": "stdout",
     "output_type": "stream",
     "text": [
      "A: ['hi', 'there']\n",
      "B: ['hi', 'there']\n",
      "A now:  ['hi', 'there', 'from', 'python']\n",
      "B now:  ['hi', 'there', 'from', 'python']\n",
      "\n",
      "---- copy example -------\n",
      "C: ['hi', 'there', 'from', 'python']\n",
      "A now: ['hi', 'there', 'from', 'java']\n",
      "C now: ['hi', 'there', 'from', 'python']\n",
      "\n",
      "---- be careful though -------\n",
      "D: [['hi', 'there', 'from', 'java'], ['hi', 'there', 'from', 'java']]\n",
      "E: [['hi', 'there', 'from', 'java'], ['hi', 'there', 'from', 'java']]\n",
      "D now: [['hello', 'there', 'from', 'java'], ['hello', 'there', 'from', 'java']]\n",
      "E now [['hello', 'there', 'from', 'java'], ['hello', 'there', 'from', 'java']]\n"
     ]
    }
   ],
   "source": [
    "A = [\"hi\", \"there\"]\n",
    "B = A \n",
    "print(\"A:\", A)\n",
    "print(\"B:\", B)\n",
    "A.extend([\"from\", \"python\"])\n",
    "print(\"A now: \", A)\n",
    "print(\"B now: \", B)\n",
    "\n",
    "print(\"\\n---- copy example -------\")\n",
    "#Let's make a distinct copy of A.\n",
    "C = A[:] #all the elements of A have been copied in C\n",
    "print(\"C:\", C)\n",
    "A[3] = \"java\"\n",
    "print(\"A now:\", A)\n",
    "print(\"C now:\", C)\n",
    "\n",
    "print(\"\\n---- be careful though -------\")\n",
    "#Watch out though that...\n",
    "D = [A, A]\n",
    "E = D[:]\n",
    "print(\"D:\", D)\n",
    "print(\"E:\", E)\n",
    "\n",
    "D[0][0] = \"hello\"\n",
    "print(\"D now:\", D)\n",
    "print(\"E now\", E)"
   ]
  },
  {
   "cell_type": "markdown",
   "metadata": {},
   "source": [
    "**Equality and identity**"
   ]
  },
  {
   "cell_type": "code",
   "execution_count": 69,
   "metadata": {},
   "outputs": [
    {
     "name": "stdout",
     "output_type": "stream",
     "text": [
      "Is A equal to B? True\n",
      "Is A actually B? True\n",
      "Is A equal to C? True\n",
      "Is A actually C? False\n",
      "A's id: 140380958998088\n",
      "B's id: 140380958998088\n",
      "C's id: 140380958970312\n"
     ]
    }
   ],
   "source": [
    "A = [1, 2, 3]\n",
    "B = A\n",
    "C = [1, 2, 3]\n",
    "print(\"Is A equal to B?\", A == B)\n",
    "print(\"Is A actually B?\", A is B)\n",
    "print(\"Is A equal to C?\", A == C)\n",
    "print(\"Is A actually C?\", A is C)\n",
    "#in fact:\n",
    "print(\"A's id:\", id(A))\n",
    "print(\"B's id:\", id(B))\n",
    "print(\"C's id:\", id(C))\n"
   ]
  },
  {
   "cell_type": "markdown",
   "metadata": {},
   "source": [
    "\n",
    "\n",
    "\n",
    "</div>\n",
    "\n",
    "### From strings to lists, the ```split``` method\n",
    "\n",
    "Strings have a method *split* that can literally split the string at specific characters. \n",
    "\n",
    "**Example** \n",
    "Recall the protein seen in the previous practical: \n",
    "\n",
    "chain_a = \"\"\"SSSVPSQKTYQGSYGFRLGFLHSGTAKSVTCTYSPALNKM\n",
    "FCQLAKTCPVQLWVDSTPPPGTRVRAMAIYKQSQHMTEVV\n",
    "RRCPHHERCSDSDGLAPPQHLIRVEGNLRVEYLDDRNTFR\n",
    "HSVVVPYEPPEVGSDCTTIHYNYMCNSSCMGGMNRRPILT\n",
    "IITLEDSSGNLLGRNSFEVRVCACPGRDRRTEEENLRKKG\n",
    "EPHHELPPGSTKRALPNNT\"\"\"\n",
    "\n",
    "how can we split it into several lines?"
   ]
  },
  {
   "cell_type": "code",
   "execution_count": 54,
   "metadata": {},
   "outputs": [
    {
     "name": "stdout",
     "output_type": "stream",
     "text": [
      "Original sequence:\n",
      "SSSVPSQKTYQGSYGFRLGFLHSGTAKSVTCTYSPALNKM\n",
      "FCQLAKTCPVQLWVDSTPPPGTRVRAMAIYKQSQHMTEVV\n",
      "RRCPHHERCSDSDGLAPPQHLIRVEGNLRVEYLDDRNTFR\n",
      "HSVVVPYEPPEVGSDCTTIHYNYMCNSSCMGGMNRRPILT\n",
      "IITLEDSSGNLLGRNSFEVRVCACPGRDRRTEEENLRKKG\n",
      "EPHHELPPGSTKRALPNNT \n",
      "\n",
      "line by line:\n",
      "1st line: SSSVPSQKTYQGSYGFRLGFLHSGTAKSVTCTYSPALNKM\n",
      "2nd line: FCQLAKTCPVQLWVDSTPPPGTRVRAMAIYKQSQHMTEVV\n",
      "3rd line: RRCPHHERCSDSDGLAPPQHLIRVEGNLRVEYLDDRNTFR\n",
      "4th line: HSVVVPYEPPEVGSDCTTIHYNYMCNSSCMGGMNRRPILT\n",
      "5th line: IITLEDSSGNLLGRNSFEVRVCACPGRDRRTEEENLRKKG\n",
      "6th line: EPHHELPPGSTKRALPNNT\n",
      "Split the 1st line in correspondence to FRL:\n",
      " ['SSSVPSQKTYQGSYG', 'GFLHSGTAKSVTCTYSPALNKM']\n"
     ]
    }
   ],
   "source": [
    "chain_a = \"\"\"SSSVPSQKTYQGSYGFRLGFLHSGTAKSVTCTYSPALNKM\n",
    "FCQLAKTCPVQLWVDSTPPPGTRVRAMAIYKQSQHMTEVV\n",
    "RRCPHHERCSDSDGLAPPQHLIRVEGNLRVEYLDDRNTFR\n",
    "HSVVVPYEPPEVGSDCTTIHYNYMCNSSCMGGMNRRPILT\n",
    "IITLEDSSGNLLGRNSFEVRVCACPGRDRRTEEENLRKKG\n",
    "EPHHELPPGSTKRALPNNT\"\"\"\n",
    "\n",
    "lines = chain_a.split('\\n')\n",
    "print(\"Original sequence:\")\n",
    "print( chain_a, \"\\n\") #some spacing to keep things clear\n",
    "print(\"line by line:\")\n",
    "print(\"1st line:\" ,lines[0])\n",
    "print(\"2nd line:\" ,lines[1])\n",
    "print(\"3rd line:\" ,lines[2])\n",
    "print(\"4th line:\" ,lines[3])\n",
    "print(\"5th line:\" ,lines[4])\n",
    "print(\"6th line:\" ,lines[5])\n",
    "\n",
    "print(\"Split the 1st line in correspondence to FRL:\\n\",lines[0].split(\"FRL\"))"
   ]
  },
  {
   "cell_type": "markdown",
   "metadata": {},
   "source": [
    "**Note that in the last instruction, the substring FRL is disappeared (as happened to the newline)**. \n",
    "\n",
    "## Tuples\n",
    "\n"
   ]
  },
  {
   "cell_type": "code",
   "execution_count": null,
   "metadata": {},
   "outputs": [],
   "source": []
  },
  {
   "cell_type": "markdown",
   "metadata": {},
   "source": [
    "## Exercises\n",
    "\n",
    "1. The variant calling format ([VCF](http://www.internationalgenome.org/wiki/Analysis/vcf4.0/)) is a format to represent structural variants of genomes. Every piece of information is separated by a tab (\\\\t in python). Each line of this format represents a variant. The first 5 fields of this format report the chromosome (chr), the position (pos), the name of the variant (name), the reference allele (REF) and the alternative allele (ALT). Assuming to have a variable VCF defined as: \n",
    "\n",
    "VCF = \"\"\"MDC000001.124\\\\t7112\\\\tFB_AFFY_0000024\\\\tG\\\\tA\n",
    "MDC000002.328\\\\t941\\\\tFB_AFFY_0000144\\\\tC\\\\tT\n",
    "MDC000004.272\\\\t2015\\\\tFB_AFFY_0000222\\\\tG\\\\tA\"\"\"\n",
    "\n",
    "Store these three variants in a list. Represent every variant as a list keeping the 5 fields separate. Finally, print each variant changing its format:  \"name|chr|pos|REF/ALT\".\n",
    "\n",
    "<div class=\"tggle\" onclick=\"toggleVisibility('ex1');\">Show/Hide Solution</div>\n",
    "<div id=\"ex1\" style=\"display:none;\">"
   ]
  },
  {
   "cell_type": "code",
   "execution_count": 77,
   "metadata": {},
   "outputs": [
    {
     "name": "stdout",
     "output_type": "stream",
     "text": [
      "[['MDC000001.124', '7112', 'FB_AFFY_0000024', 'G', 'A'], ['MDC000002.328', '941', 'FB_AFFY_0000144', 'C', 'T'], ['MDC000004.272', '2015', 'FB_AFFY_0000222', 'G', 'A']] \n",
      "\n",
      "FB_AFFY_0000024|MDC000001.124|7112|G/A\n",
      "FB_AFFY_0000144|MDC000002.328|941|C/T\n",
      "FB_AFFY_0000222|MDC000004.272|2015|G/A\n"
     ]
    }
   ],
   "source": [
    "VCF=\"\"\"MDC000001.124\\t7112\\tFB_AFFY_0000024\\tG\\tA\n",
    "MDC000002.328\\t941\\tFB_AFFY_0000144\\tC\\tT\n",
    "MDC000004.272\\t2015\\tFB_AFFY_0000222\\tG\\tA\"\"\"\n",
    "\n",
    "variants = VCF.split('\\n')\n",
    "\n",
    "variants[0] = variants[0].split('\\t')\n",
    "variants[1] = variants[1].split('\\t')\n",
    "variants[2] = variants[2].split('\\t')\n",
    "\n",
    "print(variants, \"\\n\")\n",
    "\n",
    "info = variants[0]\n",
    "print(info[2] + \"|\" + info[0] + \"|\" + info[1] + \"|\" + info[3] +\"/\" + info[4])\n",
    "info = variants[1]\n",
    "print(info[2] + \"|\" + info[0] + \"|\" + info[1] + \"|\" + info[3] +\"/\" + info[4])\n",
    "info = variants[2]\n",
    "print(info[2] + \"|\" + info[0] + \"|\" + info[1] + \"|\" + info[3] +\"/\" + info[4])"
   ]
  },
  {
   "cell_type": "markdown",
   "metadata": {},
   "source": [
    "</div>"
   ]
  }
 ],
 "metadata": {
  "kernelspec": {
   "display_name": "Python 3",
   "language": "python",
   "name": "python3"
  },
  "language_info": {
   "codemirror_mode": {
    "name": "ipython",
    "version": 3
   },
   "file_extension": ".py",
   "mimetype": "text/x-python",
   "name": "python",
   "nbconvert_exporter": "python",
   "pygments_lexer": "ipython3",
   "version": "3.5.2"
  }
 },
 "nbformat": 4,
 "nbformat_minor": 2
}
