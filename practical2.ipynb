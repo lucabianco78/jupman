{
 "cells": [
  {
   "cell_type": "markdown",
   "metadata": {},
   "source": [
    "# Practical 2\n",
    "\n",
    "In this practical we will start interacting more with Python, practicing on how to handle data, functions and methods. We will see several built-in data types and then dive deeper into strings.\n",
    "\n",
    "## Slides\n",
    "\n",
    "Slides of the introduction can be found here: [Intro](docs/Practical2.pdf)\n",
    "\n",
    "## Modules\n",
    "\n",
    "Python modules are simply text files having the extension **.py** (e.g. ```exercise.py```). When you were writing the code in the IDE in the previous practical, you were in fact implementing the corresponding module. \n",
    "\n",
    "As said in the previous practical, once you implemented and saved the code of the module, you can execute it by typing \n",
    "\n",
    "```python3 exercise1.py```\n",
    "\n",
    "or, in Visual Studio Code, by right clicking on the code panel and selecting **Run Python File in Terminal\".\n",
    "\n",
    "A Module A can be loaded from another module B so that B can use the functions defined in A. Remember when we used the ```sqrt``` function? It is defined in the module math. To import it and use it we indeed wrote something like:"
   ]
  },
  {
   "cell_type": "code",
   "execution_count": 1,
   "metadata": {},
   "outputs": [
    {
     "name": "stdout",
     "output_type": "stream",
     "text": [
      "2.0\n"
     ]
    }
   ],
   "source": [
    "import math\n",
    "\n",
    "A = math.sqrt(4)\n",
    "print(A)"
   ]
  },
  {
   "cell_type": "markdown",
   "metadata": {},
   "source": [
    "When importing modules we do not need to specify the \".py\" of the file. \n",
    "\n",
    "\n",
    "## Objects\n",
    "\n",
    "Python understands very well objects, and in fact everything is an object in Python. Objects have **properties** (characteristic featuers) and **methods** (things it can do). For example, an object *car* has the *properties* model, make, color, number of doors etc., and the *methods* steer right, steer left, accelerate, break, stop, change gear,... \n",
    "According to Python official documentation: \"Objects are Python's abstraction for data. All data in a Python program is represented by objects or by relations between objects.\"\n",
    "\n",
    "All you need to know for now is that in Python objects have an **identifier (ID)** (i.e. their name), a **type** (numbers, text, collections,...) and a **value** (the actual data represented by the objects). Once an object has been created the *identifier* and the *type* never changes, while its *value* can either change (**mutable objects**) or stay constant (**immutable objects**).\n",
    "\n",
    "Python provides these built-in data types:\n",
    "\n",
    "![](img/pract2/types.png)\n",
    "\n",
    "We will stick with the simplest ones for now, but later on we will dive deeper into the all of them.\n",
    "\n",
    "## Variables\n",
    "\n",
    "Variables are just references to objects, in other words they are the **name** given to an object. Variables can be **assigned** to objects by using the assignment operator ```=```.\n",
    "\n",
    "The instruction \n"
   ]
  },
  {
   "cell_type": "code",
   "execution_count": 2,
   "metadata": {},
   "outputs": [],
   "source": [
    "sides = 4"
   ]
  },
  {
   "cell_type": "markdown",
   "metadata": {},
   "source": [
    "might represent the number of sides of a square. What happens when we execute it in Python? An object is created, it is given an identifier, its type is set to \"int\" (an integer number), it value to 4 and a name *sides* is placed in the current namespace to point to that object, so that after that instruction we can access that object through its name. The type of an object can be accessed with the function **type** and the identifier with the function **id**: "
   ]
  },
  {
   "cell_type": "code",
   "execution_count": 3,
   "metadata": {},
   "outputs": [
    {
     "name": "stdout",
     "output_type": "stream",
     "text": [
      "<class 'int'>\n",
      "10915392\n"
     ]
    }
   ],
   "source": [
    "sides = 4\n",
    "print(type(sides))\n",
    "print(id(sides))"
   ]
  },
  {
   "cell_type": "code",
   "execution_count": null,
   "metadata": {},
   "outputs": [],
   "source": []
  }
 ],
 "metadata": {
  "kernelspec": {
   "display_name": "Python 3",
   "language": "python",
   "name": "python3"
  },
  "language_info": {
   "codemirror_mode": {
    "name": "ipython",
    "version": 3
   },
   "file_extension": ".py",
   "mimetype": "text/x-python",
   "name": "python",
   "nbconvert_exporter": "python",
   "pygments_lexer": "ipython3",
   "version": "3.5.2"
  }
 },
 "nbformat": 4,
 "nbformat_minor": 2
}
