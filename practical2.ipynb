{
 "cells": [
  {
   "cell_type": "code",
   "execution_count": 1,
   "metadata": {},
   "outputs": [
    {
     "data": {
      "text/html": [
       "<style>\n",
       "\n",
       "    #jupman-nav {\n",
       "        position: fixed;\n",
       "        top: 10px; \n",
       "        left: 5px; \n",
       "        background: white;\n",
       "        width: 200px; \n",
       "        padding: 10px; \n",
       "        z-index: 10;\n",
       "    }\n",
       "\n",
       "    /* style=\"background: rgba(255, 255, 255, 0);\" class=\"unstyled\" */\n",
       "  \n",
       "    #jupman-toc {\n",
       "        position: fixed;\n",
       "        top: 100px; \n",
       "        left: -55px; \n",
       "        background: rgba(255, 255, 255, 0);\n",
       "        \n",
       "        height: 80%;\n",
       "        width: 200px; \n",
       "        padding: 20px; \n",
       "        z-index: 10;\n",
       "        overflow-y: scroll;        \n",
       "            /* font-size: 50%; */\n",
       "    }\n",
       "\n",
       "    \n",
       "    \n",
       "    code {\n",
       "        background-color:rgb(245, 249, 249) !important;\n",
       "    }\n",
       "    \n",
       "    \n",
       "    .jupman-nav-item {\n",
       "        font-weight:bold;\n",
       "        font-size:120%  \n",
       "    }\n",
       "    \n",
       "    .jupman-chapter-link {\n",
       "        font-size:150%;\n",
       "        margin-right:15px;        \n",
       "    }\n",
       "    \n",
       "    .jupman-chapter-link a {\n",
       "        text-decoration: none;\n",
       "    }    \n",
       "    \n",
       "    .jupman-title {\n",
       "        font-size:250%; \n",
       "        font-weight:bold        \n",
       "    }    \n",
       "        \n",
       "    .jupman-warn {    \n",
       "        background-color: #fcf2f2;        \n",
       "        border-left: 5px solid #dfb5b4;\n",
       "        padding: 1.5em;\n",
       "        font-weight:bold;\n",
       "        margin-bottom:10px;\n",
       "    }\n",
       "\n",
       "    .jupman-question {    \n",
       "        background-color: rgb(251, 231, 250);\n",
       "        border-left: 5px solid rgb(189, 151, 184);\n",
       "        padding: 1.5em;\n",
       "        font-weight:bold;\n",
       "        margin-bottom:10px;\n",
       "    }\n",
       "        \n",
       "    \n",
       "    .jupman-important {\n",
       "        background-color: rgba(255, 238, 0, 0.31);\n",
       "        border-left: 5px solid rgba(205, 208, 0, 1.0);\n",
       "        color: #000;        \n",
       "        padding: 1.5em;\n",
       "        font-weight:bold;\n",
       "        margin-bottom:10px;\n",
       "    }\n",
       "    \n",
       "    \n",
       "    #jupman-toc ul {                                                                                                                                                                           \n",
       "        list-style-type: none;                                                                                                                                                                 \n",
       "        margin-left: 5px;\n",
       "    }\n",
       "    \n",
       "    #jupman-toc li {        \n",
       "         padding-left: 3px;\n",
       "    }    \n",
       "    \n",
       "    #jupman-toc .h1 {\n",
       "        font-size:110%; \n",
       "        \n",
       "    }\n",
       "    \n",
       "    #jupman-toc .h2 {\n",
       "        font-size:100%; \n",
       "        padding-left:15px;\n",
       "    }\n",
       "\n",
       "    #jupman-toc .h3 {\n",
       "        font-size:100%; \n",
       "        padding-left:25px;\n",
       "    }\n",
       "    \n",
       "    \n",
       "    \n",
       "    #notebook-container {\n",
       "        box-shadow : none;\n",
       "\t-web-kit-box-shadow: none;\n",
       "    }\n",
       "    \n",
       "\n",
       "    #jupman-toc .toc-active {\n",
       "        background: rgba(168, 254, 255, 0.32);\n",
       "    }\n",
       " </style>\n",
       "\n",
       "<script>\n",
       "\n",
       "/*!\n",
       " * toc - jQuery Table of Contents Plugin\n",
       " * v0.3.2\n",
       " * http://projects.jga.me/toc/\n",
       " * copyright Greg Allen 2014\n",
       " * MIT License\n",
       "*/\n",
       "!function(a){a.fn.smoothScroller=function(b){b=a.extend({},a.fn.smoothScroller.defaults,b);var c=a(this);return a(b.scrollEl).animate({scrollTop:c.offset().top-a(b.scrollEl).offset().top-b.offset},b.speed,b.ease,function(){var a=c.attr(\"id\");a.length&&(history.pushState?history.pushState(null,null,\"#\"+a):document.location.hash=a),c.trigger(\"smoothScrollerComplete\")}),this},a.fn.smoothScroller.defaults={speed:400,ease:\"swing\",scrollEl:\"body,html\",offset:0},a(\"body\").on(\"click\",\"[data-smoothscroller]\",function(b){b.preventDefault();var c=a(this).attr(\"href\");0===c.indexOf(\"#\")&&a(c).smoothScroller()})}(jQuery),function(a){var b={};a.fn.toc=function(b){var c,d=this,e=a.extend({},jQuery.fn.toc.defaults,b),f=a(e.container),g=a(e.selectors,f),h=[],i=e.activeClass,j=function(b,c){if(e.smoothScrolling&&\"function\"==typeof e.smoothScrolling){b.preventDefault();var f=a(b.target).attr(\"href\");e.smoothScrolling(f,e,c)}a(\"li\",d).removeClass(i),a(b.target).parent().addClass(i)},k=function(){c&&clearTimeout(c),c=setTimeout(function(){for(var b,c=a(window).scrollTop(),f=Number.MAX_VALUE,g=0,j=0,k=h.length;k>j;j++){var l=Math.abs(h[j]-c);f>l&&(g=j,f=l)}a(\"li\",d).removeClass(i),b=a(\"li:eq(\"+g+\")\",d).addClass(i),e.onHighlight(b)},50)};return e.highlightOnScroll&&(a(window).bind(\"scroll\",k),k()),this.each(function(){var b=a(this),c=a(e.listType);g.each(function(d,f){var g=a(f);h.push(g.offset().top-e.highlightOffset);var i=e.anchorName(d,f,e.prefix);if(f.id!==i){a(\"<span/>\").attr(\"id\",i).insertBefore(g)}var l=a(\"<a/>\").text(e.headerText(d,f,g)).attr(\"href\",\"#\"+i).bind(\"click\",function(c){a(window).unbind(\"scroll\",k),j(c,function(){a(window).bind(\"scroll\",k)}),b.trigger(\"selected\",a(this).attr(\"href\"))}),m=a(\"<li/>\").addClass(e.itemClass(d,f,g,e.prefix)).append(l);c.append(m)}),b.html(c)})},jQuery.fn.toc.defaults={container:\"body\",listType:\"<ul/>\",selectors:\"h1,h2,h3\",smoothScrolling:function(b,c,d){a(b).smoothScroller({offset:c.scrollToOffset}).on(\"smoothScrollerComplete\",function(){d()})},scrollToOffset:0,prefix:\"toc\",activeClass:\"toc-active\",onHighlight:function(){},highlightOnScroll:!0,highlightOffset:100,anchorName:function(c,d,e){if(d.id.length)return d.id;var f=a(d).text().replace(/[^a-z0-9]/gi,\" \").replace(/\\s+/g,\"-\").toLowerCase();if(b[f]){for(var g=2;b[f+g];)g++;f=f+\"-\"+g}return b[f]=!0,e+\"-\"+f},headerText:function(a,b,c){return c.text()},itemClass:function(a,b,c,d){return d+\"-\"+c[0].tagName.toLowerCase()}}}(jQuery);\n",
       "\n",
       "/*\n",
       " * JUPYTER MANAGER JavaScript https://github.com/DavidLeoni/jupman \n",
       " * \n",
       " */\n",
       "\n",
       " function toggleVisibility(what){\n",
       "    var e = document.getElementById(what);\n",
       "    if(e.style.display == 'block')\n",
       "      e.style.display = 'none';\n",
       "    else\n",
       "      e.style.display = 'block';\n",
       "  }\n",
       "    \n",
       " \n",
       "\n",
       "\n",
       "function showthis(url) {\n",
       "    window.open(url, \"pres\", \"toolbar=yes,scrollbars=yes,resizable=yes,top=10,left=400,width=500,height=500\");\n",
       "    return(false);\n",
       "}\n",
       "\n",
       "var jupman = {\n",
       "    \n",
       "    isReduced : function(){\n",
       "        return $(window).width() < 924;\n",
       "    },\n",
       "    hoverToc : function(){\n",
       "        return $('#jupman-toc:hover').length != 0;\n",
       "    },\n",
       "    resize : function(){\n",
       "        if (jupman.isReduced()){\n",
       "            $(\"#jupman-toc\").hide();\n",
       "        } else {\n",
       "            $(\"#jupman-toc\").show();\n",
       "            $(\"#jupman-toc\").css(\"background\",\"rgba(255, 255, 255, 0)\");\n",
       "            \n",
       "            tocParams = {\n",
       "                \n",
       "                'selectors': 'h1,h2,h3', //elements to use as headings\n",
       "                'container': 'body', //element to find all selectors in\n",
       "                'smoothScrolling': true, //enable or disable smooth scrolling on click\n",
       "                 //doesn't work  'prefix': 'jupman-toc', //prefix for anchor tags and class names\n",
       "                //'onHighlight': function(el) {}, //called when a new section is highlighted \n",
       "                'highlightOnScroll': true, //add class to heading that is currently in focus\n",
       "                'highlightOffset': 100, //offset to trigger the next headline\n",
       "                'anchorName': function(i, heading, prefix) { //custom function for anchor name\n",
       "                    return prefix+i;\n",
       "                },\n",
       "                'headerText': function(i, heading, $heading) { //custom function building the header-item text                  \n",
       "                    return $heading.text().replace(\"¶\",\"\");\n",
       "                },\n",
       "                'itemClass': function(i, heading, $heading, prefix) { // custom function for item class\n",
       "                    return $heading[0].tagName.toLowerCase();\n",
       "                }                \n",
       "            }\n",
       "            \n",
       "            $('#jupman-toc').toc(tocParams);\n",
       "        }\n",
       "    },\n",
       "    /**\n",
       "        Hides cell input\n",
       "        \n",
       "        Renamed in 0.19\n",
       "    */    \n",
       "    hideCell : function(prefixOrRegex){\n",
       "        \n",
       "        $('.border-box-sizing .code_cell pre').filter(function() { \n",
       "                var t = $(this).text();\n",
       "                if (typeof prefixOrRegex == \"string\"){\n",
       "                    return t.indexOf(prefixOrRegex) === 0;\n",
       "                } else if ( prefixOrRegex instanceof RegExp){\n",
       "                    return t.match(prefixOrRegex);\n",
       "                } else {\n",
       "                    console.error(\"Invalid argument:\", prefixOrRegex);\n",
       "                    throw new Error(\"Invalid argument!\");\n",
       "                }\n",
       "            }).parents('div .cell .input').hide();        \n",
       "    },\n",
       "    /**\n",
       "        Hides the cell input AND output.\n",
       "        \n",
       "        @since 0.19\n",
       "    */\n",
       "    hideCellAll : function(prefix){        \n",
       "        $('.border-box-sizing .code_cell pre').filter(function() { \n",
       "                return $(this).text().indexOf(prefix) === 0; \n",
       "            }).parents('div .cell ').hide();        \n",
       "    },\n",
       "    \n",
       "    init : function(){\n",
       "\n",
       "       var toc = $(\"<div>\").attr(\"id\", \"jupman-toc\");              \n",
       "       var indexLink = $(\"<a>\")\n",
       "                        .addClass(\"jupman-nav-item\")\n",
       "                        .attr(\"href\",\"index.html#Chapters\")\n",
       "                        .text(\"jupman\");\n",
       "       \n",
       "       \n",
       "       \n",
       "       var candidateTitleText = $(\".jupman-title\").text();              \n",
       "                                  \n",
       "                    \n",
       "       \n",
       "       var nav = $(\"<div>\")\n",
       "                     .attr(\"id\", \"jupman-nav\")\n",
       "                    .append(indexLink);       \n",
       "       \n",
       "       if (candidateTitleText.length !== 0){\n",
       "\n",
       "           var title = $(\"<span>\")\n",
       "                    .addClass(\"jupman-nav-item\")\n",
       "                    .css(\"padding-left\",\"8px\")\n",
       "                    .text(candidateTitleText);\n",
       "            nav.append(\"<br>\")\n",
       "                .append(\"<br>\")\n",
       "                .append(title);                                \n",
       "        }\n",
       "                     \n",
       "       // TODO THIS HIDE STUFF DOES NOT WORK ANYMORE AFTER PORTING TO NBSPHINX \n",
       "       // INSTEAD, YOU SHOULD EDIT \n",
       "       jupman.hideCell(\"%%HTML\");\n",
       "       jupman.hideCell(\"import jupman\");   \n",
       "       \n",
       "        // TODO this is a bit too hacky   \n",
       "       jupman.hideCell(/from exercise(.+)_solution import \\*/)\n",
       "       \n",
       "       jupman.hideCell(\"jupman.init()\"); \n",
       "       jupman.hideCell(\"jupman.show_run(\");\n",
       "       jupman.hideCell(\"nxpd.draw(\");\n",
       "       jupman.hideCellAll(\"jupman.run(\"); \n",
       "              \n",
       "       if ($(\"#jupman-toc\").length === 0){\n",
       "           $(\"body\").append(toc);       \n",
       "       } else {\n",
       "           $(\"#jupman-toc\").replaceWith(toc);\n",
       "       }\n",
       "       \n",
       "       if ($(\"#jupman-nav\").length === 0){\n",
       "           $(\"body\").append(nav);       \n",
       "       } else {\n",
       "           $(\"#jupman-nav\").replaceWith(nav);\n",
       "       }              \n",
       "       \n",
       "       jupman.resize();\n",
       "    }\n",
       "}\n",
       "\n",
       "$( window ).resize(function() {\n",
       "    jupman.resize();\n",
       "});\n",
       "\n",
       "\n",
       "$(\"body\").on(\"mousemove\",function(event) {\n",
       "    if (jupman.isReduced()){\n",
       "        if (event.pageX < 50) {            \n",
       "             $(\"#jupman-toc\").show(); \n",
       "            $(\"#jupman-toc\").css(\"background\",\"rgba(255, 255, 255, 1.0)\");\n",
       "        } else {\n",
       "            \n",
       "            if (jupman.hoverToc()) {                    \n",
       "            } else {\n",
       "                $(\"#jupman-toc\").hide();                        \n",
       "            }\n",
       "                     \n",
       "/*            if ($(\"#jupman-toc\").is(\":visible\")){\n",
       "                if (jupman.hoverToc()) {                    \n",
       "                } else {\n",
       "                    $(\"#jupman-toc\").hide();                        \n",
       "                }\n",
       "            } else {\n",
       "                if (jupman.hoverToc())\n",
       "                  show\n",
       "              } else {\n",
       "                $(\"#jupman-toc\").hide();                        \n",
       "               }                 \n",
       "            }\n",
       "  */     \n",
       "        }\n",
       "    }\n",
       "});\n",
       "\n",
       "$(document).ready(jupman.init);\n",
       "\n",
       "</script>\n"
      ],
      "text/plain": [
       "<IPython.core.display.HTML object>"
      ]
     },
     "execution_count": 1,
     "metadata": {},
     "output_type": "execute_result"
    }
   ],
   "source": [
    "import jupman\n",
    "jupman.init()"
   ]
  },
  {
   "cell_type": "markdown",
   "metadata": {},
   "source": [
    "# Practical 2\n",
    "\n",
    "In this practical we will start interacting more with Python, practicing on how to handle data, functions and methods. We will see several built-in data types and then dive deeper into strings.\n",
    "\n",
    "## Slides\n",
    "\n",
    "The slides of the introduction can be found here: [Intro](docs/Practical2.pdf)\n",
    "\n",
    "## Modules\n",
    "\n",
    "Python modules are simply text files having the extension **.py** (e.g. ```exercise.py```). When you were writing the code in the IDE in the previous practical, you were in fact implementing the corresponding module. \n",
    "\n",
    "As said in the previous practical, once you implemented and saved the code of the module, you can execute it by typing \n",
    "\n",
    "```python3 exercise1.py```\n",
    "\n",
    "or, in Visual Studio Code, by right clicking on the code panel and selecting **Run Python File in Terminal**.\n",
    "\n",
    "A Module A can be loaded from another module B so that B can use the functions defined in A. Remember when we used the ```sqrt``` function? It is defined in the module math. To import it and use it we indeed wrote something like:"
   ]
  },
  {
   "cell_type": "code",
   "execution_count": 2,
   "metadata": {},
   "outputs": [
    {
     "name": "stdout",
     "output_type": "stream",
     "text": [
      "2.0\n"
     ]
    }
   ],
   "source": [
    "import math\n",
    "\n",
    "A = math.sqrt(4)\n",
    "print(A)"
   ]
  },
  {
   "cell_type": "markdown",
   "metadata": {},
   "source": [
    "When importing modules we do not need to specify the extension \".py\" of the file. \n",
    "\n",
    "\n",
    "## Objects\n",
    "\n",
    "Python understands very well objects, and in fact everything is an object in Python. Objects have **properties** (characteristic features) and **methods** (things they can do). For example, an object *car* has the *properties* model, make, color, number of doors etc., and the *methods* steer right, steer left, accelerate, break, stop, change gear,... \n",
    "According to Python's official documentation: \n",
    "\n",
    "\"Objects are Python's abstraction for data. All data in a Python program is represented by objects or by relations between objects.\"\n",
    "\n",
    "All you need to know for now is that in Python objects have an **identifier (ID)** (i.e. their name), a **type** (numbers, text, collections,...) and a **value** (the actual data represented by the objects). Once an object has been created the *identifier* and the *type* never change, while its *value* can either change (**mutable objects**) or stay constant (**immutable objects**).\n",
    "\n",
    "Python provides these built-in data types:\n",
    "\n",
    "![](img/pract2/types.png)\n",
    "\n",
    "\n",
    "We will stick with the simplest ones for now, but later on we will dive deeper into the all of them.\n",
    "\n",
    "## Variables\n",
    "\n",
    "Variables are just references to objects, in other words they are the **name** given to an object. Variables can be **assigned** to objects by using the assignment operator ```=```.\n",
    "\n",
    "The instruction \n"
   ]
  },
  {
   "cell_type": "code",
   "execution_count": 3,
   "metadata": {},
   "outputs": [],
   "source": [
    "sides = 4"
   ]
  },
  {
   "cell_type": "markdown",
   "metadata": {},
   "source": [
    "might represent the number of sides of a square. What happens when we execute it in Python? An object is created, it is given an identifier, its type is set to \"int\" (an integer number), it value to 4 and a name *sides* is placed in the current namespace to point to that object, so that after that instruction we can access that object through its name. The type of an object can be accessed with the function **type()** and the identifier with the function **id()**: "
   ]
  },
  {
   "cell_type": "code",
   "execution_count": 4,
   "metadata": {},
   "outputs": [
    {
     "name": "stdout",
     "output_type": "stream",
     "text": [
      "<class 'int'>\n",
      "10915392\n"
     ]
    }
   ],
   "source": [
    "sides = 4\n",
    "print( type(sides) )\n",
    "print( id(sides) )"
   ]
  },
  {
   "cell_type": "markdown",
   "metadata": {},
   "source": [
    "Consider now the following code:"
   ]
  },
  {
   "cell_type": "code",
   "execution_count": 5,
   "metadata": {},
   "outputs": [
    {
     "name": "stdout",
     "output_type": "stream",
     "text": [
      "value: 4  type: <class 'int'>  id: 10915392\n",
      "value: 5  type: <class 'int'>  id: 10915424\n"
     ]
    }
   ],
   "source": [
    "sides = 4 #a square \n",
    "print (\"value:\", sides, \" type:\", type(sides), \" id:\", id(sides))\n",
    "sides = 5 #a pentagon\n",
    "print (\"value:\", sides, \" type:\", type(sides), \" id:\", id(sides))\n"
   ]
  },
  {
   "cell_type": "markdown",
   "metadata": {},
   "source": [
    "The value of the variable sides has been changed from 4 to 5, but as stated in the table above, the type ```int``` is **immutable**. Luckily, this did not prevent us to change the value of sides from 4 to 5. What happened behind the scenes when we executed the instruction sides = 5 is that a new object has been created of type int (5 is still an integer) and it has been made accessible with the same name *sides*, but since it is a different object (i.e. the integer 5) you can see that the identifier is actually different. Note: you do not have to really worry about what happens behind the scenes, as the Python interpreter will take care of these aspects for you, but it is nice to know what it does.\n",
    "\n",
    "You can even change the type of a variable during execution but that is normally a **bad idea** as it makes understanding the code more complicated.\n",
    "\n",
    "You can do (**but, please, refrain!**):"
   ]
  },
  {
   "cell_type": "code",
   "execution_count": 6,
   "metadata": {},
   "outputs": [
    {
     "name": "stdout",
     "output_type": "stream",
     "text": [
      "value: 4  type: <class 'int'>  id: 10915392\n",
      "value: four  type: <class 'str'>  id: 140606094871104\n"
     ]
    }
   ],
   "source": [
    "sides = 4 #a square\n",
    "print (\"value:\", sides, \" type:\", type(sides), \" id:\", id(sides))\n",
    "sides = \"four\" #the sides in text format\n",
    "print (\"value:\", sides, \" type:\", type(sides), \" id:\", id(sides))"
   ]
  },
  {
   "cell_type": "markdown",
   "metadata": {},
   "source": [
    "<div class=\"alert alert-warning\">\n",
    "\n",
    "**IMPORTANT NOTE:** \n",
    "You can chose the name that you like for your variables (I advise to pick something reminding their meaning), but you need to adhere to some simple rules.\n",
    "\n",
    "\n",
    "1. Names can only contain upper/lower case digits (```A-Z```, ```a-z```), numbers (```0-9```) or underscores ```_```;\n",
    "\n",
    "\n",
    "2. Names cannot start with a number;\n",
    "\n",
    "\n",
    "3. Names cannot be equal to reserved keywords:\n",
    "\n",
    "![](img/pract2/keywords.png)\n",
    "\n",
    "\n",
    "</div>\n"
   ]
  },
  {
   "cell_type": "markdown",
   "metadata": {},
   "source": [
    "## Numeric types\n",
    "\n",
    "We already mentioned that numbers are **immutable objects**. Python provides different numeric types: integers, booleans, reals (floats) and even complex numbers and fractions (but we will not get into those).\n",
    "\n",
    "### Integers \n",
    "\n",
    "Their range of values is limited only by the memory available. As we have already seen, python provides also a set of standard operators to work with numbers:\n",
    "\n"
   ]
  },
  {
   "cell_type": "code",
   "execution_count": 7,
   "metadata": {},
   "outputs": [
    {
     "data": {
      "text/plain": [
       "float"
      ]
     },
     "execution_count": 7,
     "metadata": {},
     "output_type": "execute_result"
    }
   ],
   "source": [
    "a = 7\n",
    "b = 4\n",
    "\n",
    "a + b # 11\n",
    "a - b # 3\n",
    "a // b # integer division: 1\n",
    "a * b # 28\n",
    "a ** b # power: 2401\n",
    "a / b # division 0.8333333333333334\n",
    "type(a / b)"
   ]
  },
  {
   "cell_type": "markdown",
   "metadata": {},
   "source": [
    "Note that in the latter case the result is no more an integer, but a float (we will get to that later).\n",
    "\n",
    "### Booleans \n",
    "\n",
    "These objects are used for the boolean algebra. Truth values are represented with the keywords ```True``` and ```False``` in Python. A boolean object can only have value ```True``` or ```False```. We can convert booleans into integers with the builtin function ```int```. Any integer can be converted into a boolean (and vice-versa) with: "
   ]
  },
  {
   "cell_type": "code",
   "execution_count": 8,
   "metadata": {},
   "outputs": [
    {
     "name": "stdout",
     "output_type": "stream",
     "text": [
      "a:  True  b:  False  c:  True  d:  True  t:  1  f:  0\n"
     ]
    }
   ],
   "source": [
    "a = bool(1)\n",
    "b = bool(0)\n",
    "c = bool(72)\n",
    "d = bool(-5)\n",
    "t = int(True)\n",
    "f = int(False)\n",
    "\n",
    "print(\"a: \", a, \" b: \", b, \" c: \", c, \" d: \", d , \" t: \", t, \" f: \", f)"
   ]
  },
  {
   "cell_type": "markdown",
   "metadata": {},
   "source": [
    "any integer is evaluated to true, except 0. Note that, the truth values ```True``` and ```False``` respectively behave like the integers 1 and 0.\n",
    "\n",
    "We can operate on boolean values with the boolean operators ```and```, ```or```, ```not```. Recall boolean algebra for their use: "
   ]
  },
  {
   "cell_type": "code",
   "execution_count": 9,
   "metadata": {},
   "outputs": [
    {
     "name": "stdout",
     "output_type": "stream",
     "text": [
      "T:  True  F: False\n",
      "T and F:  False\n",
      "T and T:  True\n",
      "F and F:  False\n",
      "not T:  False\n",
      "not F:  True\n",
      "T or F:  True\n",
      "T or T:  True\n",
      "F or F:  False\n"
     ]
    }
   ],
   "source": [
    "T = True\n",
    "F = False\n",
    "\n",
    "print (\"T: \", T, \" F:\", F)\n",
    "\n",
    "print (\"T and F: \", T and F) #False\n",
    "print (\"T and T: \", T and T) #True\n",
    "print (\"F and F: \", F and F) #False\n",
    "print (\"not T: \", not T) # False\n",
    "print (\"not F: \", not F) # True\n",
    "print (\"T or F: \", T or F) # True\n",
    "print (\"T or T: \", T or T) # True\n",
    "print (\"F or F: \", F or F) # False\n"
   ]
  },
  {
   "cell_type": "markdown",
   "metadata": {},
   "source": [
    "Numeric comparators are operators that return a boolean value. Here are some examples (from the lecture):\n",
    "\n",
    "![](img/pract2/comparators.png)\n",
    "\n",
    "\n"
   ]
  },
  {
   "cell_type": "markdown",
   "metadata": {},
   "source": [
    "**Example**: Given a variable a = 10 and a variable b = 77, let's swap their values (i.e. at the end a will be equal to 77 and b to 10). Let's also check the values at the beginning and at the end."
   ]
  },
  {
   "cell_type": "code",
   "execution_count": 10,
   "metadata": {},
   "outputs": [
    {
     "name": "stdout",
     "output_type": "stream",
     "text": [
      "a:  10  b: 77\n",
      "is a equal to 10? True\n",
      "is b equal to 77? True\n",
      "a:  77  b: 10\n",
      "is a equal to 10? False\n",
      "is a equal to 77? True\n",
      "is b equal to 10? True\n",
      "is b equal to 77? False\n"
     ]
    }
   ],
   "source": [
    "a = 10\n",
    "b =  77\n",
    "print(\"a: \", a, \" b:\", b)\n",
    "print(\"is a equal to 10?\", a == 10)\n",
    "print(\"is b equal to 77?\", b == 77)\n",
    "\n",
    "TMP = b  #we need to store the value of b safely\n",
    "b = a    #ok, the old value of b is gone... is it?\n",
    "a = TMP  #a gets the old value of b... :-)\n",
    "\n",
    "print(\"a: \", a, \" b:\", b)\n",
    "print(\"is a equal to 10?\", a == 10)\n",
    "print(\"is a equal to 77?\", a == 77)\n",
    "print(\"is b equal to 10?\", b == 10)\n",
    "print(\"is b equal to 77?\", b == 77)\n",
    "\n"
   ]
  },
  {
   "cell_type": "markdown",
   "metadata": {},
   "source": [
    "### Real numbers\n",
    "\n",
    "Python stores real numbers (floating point numbers) in 64 bits of information divided in sign, exponent and mantissa. \n",
    "\n",
    "**Example:**\n",
    "Let's calculate the area of the center circle of a football pitch (radius = 9.15m) recalling that $area= Pi*R^2$:"
   ]
  },
  {
   "cell_type": "code",
   "execution_count": 11,
   "metadata": {},
   "outputs": [
    {
     "name": "stdout",
     "output_type": "stream",
     "text": [
      "263.02199094102605\n"
     ]
    }
   ],
   "source": [
    "R = 9.15\n",
    "Pi = 3.1415926536\n",
    "Area = Pi*(R**2)\n",
    "print (Area)"
   ]
  },
  {
   "cell_type": "markdown",
   "metadata": {},
   "source": [
    "Note that the parenthesis around the ```R**2``` are not necessary as operator ```**``` has the precedence, but I personally think it helps readability. \n",
    "\n",
    "Here is a reminder of the precedence of operators: \n",
    "\n",
    "![](img/pract2/precedence.png)\n",
    "\n",
    "**Example:** Let's compute the GC content of a DNA sequence 33 base pairs long, having 12 As, 9 Ts, 5 Cs and 7Gs. The GC content can be expressed by the formula: $gc = \\frac{G+C}{A+T+C+G}$ where A,T,C,G represent the number of nucleotides of each kind. What is the AT content? Is the GC content higher than the AT content?"
   ]
  },
  {
   "cell_type": "code",
   "execution_count": 12,
   "metadata": {},
   "outputs": [
    {
     "name": "stdout",
     "output_type": "stream",
     "text": [
      "The GC content is:  0.36363636363636365\n",
      "False\n"
     ]
    }
   ],
   "source": [
    "A = 12\n",
    "T = 9\n",
    "C = 5\n",
    "G = 7\n",
    "\n",
    "gc = (G+C)/(A+T+C+G)\n",
    "\n",
    "print(\"The GC content is: \", gc)\n",
    "\n",
    "at = 1 - gc\n",
    "\n",
    "print (gc > at)"
   ]
  },
  {
   "cell_type": "markdown",
   "metadata": {},
   "source": [
    "## Strings \n",
    "\n",
    "Strings are **immutable objects** (note the actual type is **str**) used by python to handle text data. Strings are sequences of *unicode code points* that can represent characters, but also formatting information (e.g. '\\\\n' for new line). Unlike other programming languages, python does not have the data type character, which is represented as a string of length 1.\n",
    "\n",
    "There are several ways to define a string:\n"
   ]
  },
  {
   "cell_type": "code",
   "execution_count": 13,
   "metadata": {},
   "outputs": [
    {
     "name": "stdout",
     "output_type": "stream",
     "text": [
      "my first string, in double quotes \n",
      "\n",
      "my second string, in single quotes \n",
      "\n",
      "my third string is \n",
      "in triple quotes\n",
      "therefore it can span several lines \n",
      "\n",
      "my fourth string, in triple double-quotes\n",
      "can also span\n",
      "several lines \n",
      "\n"
     ]
    }
   ],
   "source": [
    "S = \"my first string, in double quotes\"\n",
    "\n",
    "S1 = 'my second string, in single quotes'\n",
    "\n",
    "S2 = '''my third string is \n",
    "in triple quotes\n",
    "therefore it can span several lines'''\n",
    "\n",
    "S3 = \"\"\"my fourth string, in triple double-quotes\n",
    "can also span\n",
    "several lines\"\"\"\n",
    "\n",
    "print(S, '\\n') #let's add a new line at the end of the string with \\n\n",
    "print(S1,'\\n')\n",
    "print(S2, '\\n')\n",
    "print(S3, '\\n')"
   ]
  },
  {
   "cell_type": "markdown",
   "metadata": {},
   "source": [
    "To put special characters like ',\" and so on you need to \"escape them\" (i.e. write them following a back-slash).\n",
    "\n",
    "![](img/pract2/escapes.png)\n",
    "\n",
    "**Example**:\n",
    "Let's print a string containing a quote and double quote (i.e. ' and \")."
   ]
  },
  {
   "cell_type": "code",
   "execution_count": 14,
   "metadata": {},
   "outputs": [
    {
     "name": "stdout",
     "output_type": "stream",
     "text": [
      "This is how I 'quote' and \"double quote\" things in strings\n"
     ]
    }
   ],
   "source": [
    "myString = \"This is how I \\'quote\\' and \\\"double quote\\\" things in strings\"\n",
    "print(myString)"
   ]
  },
  {
   "cell_type": "markdown",
   "metadata": {},
   "source": [
    "Strings can be converted to and from numbers with the functions ```str()```, ```int()``` or ```float()```.\n",
    "\n",
    "**Example**:\n",
    "Let's define a string *myString* with the value \"47001\" and convert it into an int. Try adding one and print the result."
   ]
  },
  {
   "cell_type": "code",
   "execution_count": 15,
   "metadata": {},
   "outputs": [
    {
     "name": "stdout",
     "output_type": "stream",
     "text": [
      "47001  has type  <class 'str'>\n",
      "47001  has type  <class 'int'>\n",
      "47002\n",
      "470011\n"
     ]
    }
   ],
   "source": [
    "myString = \"47001\"\n",
    "print(myString, \" has type \", type(myString))\n",
    "\n",
    "myInt = int(myString)\n",
    "\n",
    "print(myInt, \" has type \", type(myInt))\n",
    "\n",
    "myInt = myInt + 1   #adds one\n",
    "\n",
    "myString = myString + \"1\" #cannot add 1 (we need to use a string). \n",
    "                          #This will append 1 at the end of the string\n",
    "\n",
    "print(myInt)\n",
    "print(myString)"
   ]
  },
  {
   "cell_type": "markdown",
   "metadata": {},
   "source": [
    "Python defines some operators to work with strings. Recall the slides shown during the lecture:\n",
    "\n",
    "![](img/pract2/stringoperators.png)\n"
   ]
  },
  {
   "cell_type": "markdown",
   "metadata": {},
   "source": [
    "**Example** \n",
    "A tandem repeat is a short sequence of DNA that is repeated several times in a row. Let's create a string representing the tandem repeat of the motif \"ATTCG\" repeated 5 times. What is the length of the whole repetitive region? Is the motif \"TCGAT\" (m1) present in the region? The motif \"TCCT\" (m2)? Let's give an orientation to the tandem repeat by adding the string \"5'-\" (5' end) on the left and \"-3'\" (3' end) to the right."
   ]
  },
  {
   "cell_type": "code",
   "execution_count": 57,
   "metadata": {},
   "outputs": [
    {
     "name": "stdout",
     "output_type": "stream",
     "text": [
      "ATTCG\n",
      "ATTCGATTCGATTCGATTCGATTCG  has length 25\n",
      "Is  TCGAT  in  ATTCGATTCGATTCGATTCGATTCG  ?  True\n",
      "Is  TCCT  in  ATTCGATTCGATTCGATTCGATTCG  ?  False\n",
      "5'-ATTCGATTCGATTCGATTCGATTCG-3'\n"
     ]
    }
   ],
   "source": [
    "motif = \"ATTCG\"\n",
    "\n",
    "tandem_repeat = motif * 5\n",
    "\n",
    "print(motif)\n",
    "print(tandem_repeat, \" has length\", len(tandem_repeat))\n",
    "m1 = \"TCGAT\"\n",
    "m2 = \"TCCT\"\n",
    "\n",
    "print(\"Is \", m1, \" in \", tandem_repeat, \" ? \", m1 in tandem_repeat )\n",
    "print(\"Is \", m2, \" in \", tandem_repeat, \" ? \", m2 in tandem_repeat )\n",
    "oriented_tr = \"5\\'-\" + tandem_repeat + \"-3\\'\"\n",
    "print(oriented_tr)"
   ]
  },
  {
   "cell_type": "markdown",
   "metadata": {},
   "source": [
    "We can access strings at specific positions (indexing) or get a substring starting from a position S to a position E. The only thing to remember is that numbering starts from 0. The```i```-th character of a string can be accessed as ```str[i-1]```. Substrings can be accessed as ```str[S:E]```, optionally a third parameter can be specified to set the step (i.e. ```str[S:E:STEP]```). **Remember that when you do str[S:E], S is inclusive, while E is exclusive** (see S[0:6] below).\n",
    "\n",
    "![](img/pract2/slicingstring.png)"
   ]
  },
  {
   "cell_type": "code",
   "execution_count": 62,
   "metadata": {},
   "outputs": [
    {
     "name": "stdout",
     "output_type": "stream",
     "text": [
      "Luther College\n",
      "True\n",
      "L\n",
      "h\n",
      "e\n",
      "Luther\n",
      "College\n",
      "Lte olg\n",
      "uhrClee\n"
     ]
    }
   ],
   "source": [
    "S = \"Luther College\"\n",
    "\n",
    "print(S) #print the whole string\n",
    "print(S == S[:]) #a fancy way of making a copy of the original string\n",
    "print(S[0]) #first character\n",
    "print(S[3]) #fourth character\n",
    "print(S[-1]) #last character\n",
    "print(S[0:6]) #first six characters\n",
    "print(S[-7:]) #final seven characters\n",
    "print(S[0:len(S):2]) #every other character starting from the first\n",
    "print(S[1:len(S):2]) #every other character starting from the second"
   ]
  },
  {
   "cell_type": "markdown",
   "metadata": {},
   "source": [
    "### Methods for the str object\n",
    "\n",
    "The object ```str``` has some methods that can be applied to it (remember methods are things you can do on objects). Recall from the lecture that the main methods are:\n",
    "\n",
    "![](img/pract2/strmethods.png)"
   ]
  },
  {
   "cell_type": "markdown",
   "metadata": {},
   "source": [
    "<div class=\"alert alert-warning\">\n",
    "**IMPORTANT NOTE**:\n",
    "Since Strings are immutable, every operation that changes the string actually produces a new *str* object  having the modified string as value. \n",
    "</div>"
   ]
  },
  {
   "cell_type": "markdown",
   "metadata": {},
   "source": [
    "**Example**:\n",
    "Given the DNA sequence S = \"   aTATGCCCATatcgctAAATTGCTGCCATTACA    \". Print its length (removing any blank spaces at either sides), the number of adenines, cytosines, guanines and thymines present. Is the sequence \"ATCG\" present in S? Print how many times the substring \"TGCC\" appears in S and all the corresponding indexes."
   ]
  },
  {
   "cell_type": "code",
   "execution_count": 61,
   "metadata": {},
   "outputs": [
    {
     "name": "stdout",
     "output_type": "stream",
     "text": [
      "   aTATGCCCATatcgctAAATTGCTGCCATTACA    \n",
      "aTATGCCCATatcgctAAATTGCTGCCATTACA\n",
      "33\n",
      "A count:  10\n",
      "C count:  9\n",
      "T count:  10\n",
      "G count:  4\n",
      "Is ATCG in  ATATGCCCATATCGCTAAATTGCTGCCATTACA ?  True\n",
      "TGCC is present  2  times in  ATATGCCCATATCGCTAAATTGCTGCCATTACA\n",
      "TGCC is present at pos  3\n",
      "TGCC is present at pos  23\n"
     ]
    }
   ],
   "source": [
    "S = \"   aTATGCCCATatcgctAAATTGCTGCCATTACA    \"\n",
    "\n",
    "print(S)\n",
    "S = S.strip(\" \")\n",
    "print(S)\n",
    "\n",
    "print(len(S))\n",
    "tmpS = S.upper() #for simplicity to count only 4 different nucleotides\n",
    "print(\"A count: \", tmpS.count(\"A\"))\n",
    "print(\"C count: \", tmpS.count(\"C\"))\n",
    "print(\"T count: \", tmpS.count(\"T\"))\n",
    "print(\"G count: \", tmpS.count(\"G\"))\n",
    "print(\"Is ATCG in \", tmpS, \"? \", tmpS.find(\"ATCG\") != -1) #or tmpS.count(\"ATCG\") > 0\n",
    "print(\"TGCC is present \", tmpS.count(\"TGCC\"), \" times in \", tmpS)\n",
    "print(\"TGCC is present at pos \", tmpS.find(\"TGCC\"))\n",
    "print(\"TGCC is present at pos \", tmpS.rfind(\"TGCC\"))\n"
   ]
  },
  {
   "cell_type": "markdown",
   "metadata": {},
   "source": [
    "## Exercises\n",
    "\n",
    "1. An exon of a gene starts from position 12030 on a genome and ends at position 12174. Does an A/T SNP present at position 12111 affect this exon? And what about a SNP present at position 12188?\n",
    "\n",
    "<div class=\"tggle\" onclick=\"toggleVisibility('ex1');\">Show/Hide Solution</div>\n",
    "<div id=\"ex1\" style=\"display:none;\">"
   ]
  },
  {
   "cell_type": "code",
   "execution_count": 19,
   "metadata": {},
   "outputs": [
    {
     "name": "stdout",
     "output_type": "stream",
     "text": [
      "SNP1 ( 12111 ) in [ 12030 , 12174 ]? True\n",
      "SNP2 ( 12188 ) in [ 12030 , 12174 ]? False\n"
     ]
    }
   ],
   "source": [
    "E_start = 12030\n",
    "E_end = 12174\n",
    "SNP1_pos = 12111\n",
    "SNP2_pos = 12188\n",
    "\n",
    "Test1 = (SNP1_pos >= E_start and SNP1_pos <=E_end)\n",
    "Test2 = (SNP2_pos >= E_start and SNP2_pos <=E_end)\n",
    "print (\"SNP1 (\", SNP1_pos,\") in [\", E_start, \",\", E_end, \"]?\", Test1)\n",
    "print (\"SNP2 (\", SNP2_pos,\") in [\", E_start, \",\", E_end, \"]?\", Test2)"
   ]
  },
  {
   "cell_type": "markdown",
   "metadata": {},
   "source": [
    "</div>"
   ]
  },
  {
   "cell_type": "markdown",
   "metadata": {},
   "source": [
    "2. SNP FB_AFFY_0000024 of the Apple 480K SNP chip has 5' flanking region (i.e. the forward probe) CATTATTTTCACTTGGGTCGAGGCCAGATTCCATC and 3' flanking region (i.e. reverse probe) GGATTGCCCGAAATCAGAGAAAAGTCG. The SNP is a G/A transversion. Ansewr the following questions:\n",
    "\n",
    "    1. What is the length of the 5' flanking region? And that of the 3' flanking region? \n",
    "    2. The IUPAC code of the G/A transversion is R. What is the sequence of the whole region using the [G/A] notation for the SNP (hint: concatenate in a new string called *region*) and the iupac notation R (region_iupac)?\n",
    "    3. Retrive and print only the SNP from *region* and *iupac_region*\n",
    "\n",
    "<div class=\"tggle\" onclick=\"toggleVisibility('ex2');\">Show/Hide Solution</div>\n",
    "<div id=\"ex2\" style=\"display:none;\">"
   ]
  },
  {
   "cell_type": "code",
   "execution_count": 20,
   "metadata": {},
   "outputs": [
    {
     "name": "stdout",
     "output_type": "stream",
     "text": [
      "Length of 5' end:  35\n",
      "Length of 3' end:  27\n",
      "CATTATTTTCACTTGGGTCGAGGCCAGATTCCATC[G/A]GGATTGCCCGAAATCAGAGAAAAGTCG\n",
      "CATTATTTTCACTTGGGTCGAGGCCAGATTCCATCRGGATTGCCCGAAATCAGAGAAAAGTCG\n",
      "SNP from region:  G/A\n",
      "SNP from iupac region:  R\n"
     ]
    }
   ],
   "source": [
    "SNP_5prime =  \"CATTATTTTCACTTGGGTCGAGGCCAGATTCCATC\"\n",
    "SNP_3prime = \"GGATTGCCCGAAATCAGAGAAAAGTCG\"\n",
    "\n",
    "SNPseq = \"G/A\"\n",
    "SNPiupac = \"R\"\n",
    "\n",
    "print(\"Length of 5\\' end: \", len(SNP_5prime))\n",
    "print(\"Length of 3\\' end: \", len(SNP_3prime))\n",
    "region = SNP_5prime + \"[\" + SNPseq + \"]\" + SNP_3prime\n",
    "region_iupac = SNP_5prime + SNPiupac + SNP_3prime\n",
    "print(region)\n",
    "print(region_iupac)\n",
    "\n",
    "#string slicing and indexing!\n",
    "\n",
    "snp_from_region = region[ len(SNP_5prime) + 1 : len(SNP_5prime) + 4 ] \n",
    "snp_from_iupac = region_iupac[ len(SNP_5prime) ]\n",
    "\n",
    "print(\"SNP from region: \", snp_from_region)\n",
    "print(\"SNP from iupac region: \", snp_from_iupac)\n"
   ]
  },
  {
   "cell_type": "markdown",
   "metadata": {},
   "source": [
    "</div>"
   ]
  },
  {
   "cell_type": "markdown",
   "metadata": {},
   "source": [
    "3. Compute the melting temperature $T_m$ of the primer with sequence \"TTAGCACACGTGAGCCAATGGAGCAAACGGGTAATT\". The melting temperature $T_m$ (in degrees Celtius) can be computed as: $T_m = 64.9 + 0.41(GC - 16.4)/N$, where $GC$ is the total number of G and C in the primer and $N$ is its length.  \n",
    "\n",
    "<div class=\"tggle\" onclick=\"toggleVisibility('ex3');\">Show/Hide Solution</div>\n",
    "<div id=\"ex3\" style=\"display:none;\">"
   ]
  },
  {
   "cell_type": "code",
   "execution_count": 26,
   "metadata": {},
   "outputs": [
    {
     "name": "stdout",
     "output_type": "stream",
     "text": [
      "Melting T for primer  TTAGCACACGTGAGCCAATGGAGCAAACGGGTAATT  is:  65.58333333333334 °C\n"
     ]
    }
   ],
   "source": [
    "primer = \"TTAGCACACGTGAGCCAATGGAGCAAACGGGTAATT\"\n",
    "N = len(primer)\n",
    "\n",
    "gc = (primer.count(\"G\") + primer.count(\"C\"))\n",
    "\n",
    "Tm = 64.9 + 41 * (gc - 16.4)/N\n",
    "\n",
    "print(\"Melting T for primer \", primer, \" is: \", Tm, \"°C\")"
   ]
  },
  {
   "cell_type": "markdown",
   "metadata": {},
   "source": [
    "</div>"
   ]
  },
  {
   "cell_type": "markdown",
   "metadata": {},
   "source": [
    "4. Convert the following extract of the [PalB2](http://www.ensembl.org/Homo_sapiens/Gene/Summary?g=ENSG00000083093;r=16:23603160-23641310) gene into mRNA (i.e. replace thymine with uracile):\n",
    "CTGTCTCCCTCACTGTATGTAAATTGCATCTAGAATAGCA\n",
    "TCTGGAGCACTAATTGACACATAGTGGGTATCAATTATTA\n",
    "TTCCAGGTACTAGAGATACCTGGACCATTAACGGATAAAT\n",
    "AGAAGATTCATTTGTTGAGTGACTGAGGATGGCAGTTCCT\n",
    "GCTACCTTCAAGGATCTGGATGATGGGGAGAAACAGAGAA\n",
    "CATAGTGTGAGAATACTGTGGTAAGGAAAGTACAGAGGAC\n",
    "TGGTAGAGTGTCTAACCTAGATTTGGAGAAGGACCTAGAA\n",
    "GTCTATCCCAGGGAAATAAAAATCTAAGCTAAGGTTTGAG\n",
    "GAATCAGTAGGAATTGGCAAAGGAAGGACATGTTCCAGAT\n",
    "GATAGGAACAGGTTATGCAAAGATCCTGAAATGGTCAGAG\n",
    "CTTGGTGCTTTTTGAGAACCAAAAGTAGATTGTTATGGAC\n",
    "CAGTGCTACTCCCTGCCTCTTGCCAAGGGACCCCGCCAAG\n",
    "CACTGCATCCCTTCCCTCTGACTCCACCTTTCCACTTGCC\n",
    "CAGTATTGTTGGTGT\n",
    "\n",
    "and print the number of uracils present and the total length of the sequence (**remember to remove newlines**).\n",
    "\n",
    "Considering the genetic code and all the possible open reading frames, answer the following questions:\n",
    "\n",
    "![](img/pract2/genetic_code.png)\n",
    "    \n",
    "1. How many stop codons are present in the sequence?\n",
    "2. How many Glycines (Gly)?\n",
    "3. Is Tryptophane (Trp) present?\n",
    "4. What is the position of the leftmost Trp? Print the codon to double check correctness (hint: slicing).\n",
    "5. What is the position of the rightmost Trp? Print the codon to double check correctness (hint: slicing).\n",
    "    \n",
    "<div class=\"tggle\" onclick=\"toggleVisibility('ex4');\">Show/Hide Solution</div>\n",
    "<div id=\"ex4\" style=\"display:none;\">"
   ]
  },
  {
   "cell_type": "code",
   "execution_count": 63,
   "metadata": {},
   "outputs": [
    {
     "name": "stdout",
     "output_type": "stream",
     "text": [
      "Number of uracils:  140\n",
      "Total length of the sequence:  535\n",
      "Number of stop codons:  32\n",
      "Number of stop glycines:  34\n",
      "Is Trp present?  True\n",
      "Leftmost Trp at pos: 42  Codon:  UGG\n",
      "Rightmost Trp at pos: 529  Codon:  UGG\n"
     ]
    }
   ],
   "source": [
    "seq =\"\"\"CTGTCTCCCTCACTGTATGTAAATTGCATCTAGAATAGCA\n",
    "TCTGGAGCACTAATTGACACATAGTGGGTATCAATTATTA\n",
    "TTCCAGGTACTAGAGATACCTGGACCATTAACGGATAAAT\n",
    "AGAAGATTCATTTGTTGAGTGACTGAGGATGGCAGTTCCT\n",
    "GCTACCTTCAAGGATCTGGATGATGGGGAGAAACAGAGAA\n",
    "CATAGTGTGAGAATACTGTGGTAAGGAAAGTACAGAGGAC\n",
    "TGGTAGAGTGTCTAACCTAGATTTGGAGAAGGACCTAGAA\n",
    "GTCTATCCCAGGGAAATAAAAATCTAAGCTAAGGTTTGAG\n",
    "GAATCAGTAGGAATTGGCAAAGGAAGGACATGTTCCAGAT\n",
    "GATAGGAACAGGTTATGCAAAGATCCTGAAATGGTCAGAG\n",
    "CTTGGTGCTTTTTGAGAACCAAAAGTAGATTGTTATGGAC\n",
    "CAGTGCTACTCCCTGCCTCTTGCCAAGGGACCCCGCCAAG\n",
    "CACTGCATCCCTTCCCTCTGACTCCACCTTTCCACTTGCC\n",
    "CAGTATTGTTGGTGT\"\"\"\n",
    "\n",
    "seq = seq.replace(\"\\n\",\"\")\n",
    "mRNA = seq.replace(\"T\",\"U\")\n",
    "\n",
    "print(\"Number of uracils: \", mRNA.count(\"U\"))\n",
    "print(\"Total length of the sequence: \", len(seq))\n",
    "stopc = mRNA.count(\"UAA\") + mRNA.count(\"UGA\") + mRNA.count(\"UAG\")\n",
    "print(\"Number of stop codons: \", stopc)\n",
    "gly = mRNA.count(\"GGU\") + mRNA.count(\"GGC\") + mRNA.count(\"GGA\") + mRNA.count(\"GGG\")\n",
    "print(\"Number of glycines: \", gly)\n",
    "print(\"Is Trp present? \", mRNA.find(\"UGG\")> 0)\n",
    "rmTrp = mRNA.find(\"UGG\")\n",
    "print(\"Leftmost Trp at pos:\", rmTrp, \" Codon: \", mRNA[rmTrp : rmTrp + 3])\n",
    "lmTrp = mRNA.rfind(\"UGG\")\n",
    "print(\"Rightmost Trp at pos:\", mRNA.rfind(\"UGG\"), \" Codon: \", mRNA[lmTrp:lmTrp+3])\n"
   ]
  },
  {
   "cell_type": "markdown",
   "metadata": {},
   "source": [
    "</div>"
   ]
  },
  {
   "cell_type": "markdown",
   "metadata": {},
   "source": [
    "5. Consider the following Illumina HiSeq 4000 read: \n",
    "\"\"\"AATGATACGGCGACCACCGAGATCTACACGCCTCCCTCGCGC\n",
    "CATCAGAGAGTCTGGGTCTCAGGTACCGCAGTTGTATCTTGCGCGACTATA\n",
    "ATCCACGGCTCTTATTCTAGCGTGCGCGTACGGCGGTGGGCGTCGTTACGCTATATT\"\"\". \n",
    "\n",
    "Answer the following questions:\n",
    "\n",
    "    1. How long is the read (beware of newlines)?\n",
    "    2. What is the GC content of the read (remember $gc = \\frac{G+C}{A+T+C+G}$)?\n",
    "    3. A Nextera adapter is \"AATGATACGGCGACCACCGAGATCTACACGCCTCCCTCGCGCCATCAG\". \n",
    "    Is it present in the read? How long is it?\n",
    "    4. Remove the Nextera adapter from the read and recompute the GC content.\n",
    "    Has GC content increased after adapter trimmming?\n"
   ]
  },
  {
   "cell_type": "markdown",
   "metadata": {},
   "source": [
    "<div class=\"tggle\" onclick=\"toggleVisibility('ex5');\">Show/Hide Solution</div>\n",
    "<div id=\"ex5\" style=\"display:none;\">"
   ]
  },
  {
   "cell_type": "code",
   "execution_count": 64,
   "metadata": {},
   "outputs": [
    {
     "name": "stdout",
     "output_type": "stream",
     "text": [
      "Read length is:  150  base pairs\n",
      "GC content of read:  0.56\n",
      "Is the adapter present?  True\n",
      "Adapter length:  48\n",
      "The adapter starts at:  0\n",
      "GC content of trimmed read:  0.5392156862745098\n",
      "GC content has increased after trimming:  False\n"
     ]
    }
   ],
   "source": [
    "read = \"\"\"AATGATACGGCGACCACCGAGATCTACACGCCTCCCTCGCGC\n",
    "CATCAGAGAGTCTGGGTCTCAGGTACCGCAGTTGTATCTTGCGCGACTATA\n",
    "ATCCACGGCTCTTATTCTAGCGTGCGCGTACGGCGGTGGGCGTCGTTACGCTATATT\"\"\"\n",
    "\n",
    "read = read.replace(\"\\n\",\"\")\n",
    "print(\"Read length is: \", len(read), \" base pairs\")\n",
    "g = read.count(\"G\")\n",
    "c = read.count(\"C\")\n",
    "t = read.count(\"T\")\n",
    "a = read.count(\"A\")\n",
    "\n",
    "gc = (g + c) / (a + t + c + g)\n",
    "\n",
    "print(\"GC content of read: \", gc)\n",
    "\n",
    "adapter = \"AATGATACGGCGACCACCGAGATCTACACGCCTCCCTCGCGCCATCAG\"\n",
    "\n",
    "print(\"Is the adapter present? \", adapter in read)\n",
    "print(\"Adapter length: \", len(adapter))\n",
    "print(\"The adapter starts at: \", read.find(adapter))\n",
    "\n",
    "trimmed_read = read.replace(adapter,\"\")\n",
    "\n",
    "tr_g = trimmed_read.count(\"G\")\n",
    "tr_c = trimmed_read.count(\"C\")\n",
    "tr_t = trimmed_read.count(\"T\")\n",
    "tr_a = trimmed_read.count(\"A\")\n",
    "\n",
    "tr_gc = (tr_g + tr_c) / (tr_a + tr_t + tr_c + tr_g)\n",
    "print(\"GC content of trimmed read: \", tr_gc)\n",
    "print(\"GC content has increased after trimming: \", tr_gc > gc)"
   ]
  },
  {
   "cell_type": "markdown",
   "metadata": {},
   "source": [
    "</div>"
   ]
  },
  {
   "cell_type": "markdown",
   "metadata": {},
   "source": [
    "6. Given *geneA* starting at position 1000 and ending at position 3400, and *geneB* starting at position 3700 and ending at position 6000. Randomly select a position (*pos*) from 1 to 5202 and check the following:\n",
    "        a. is pos in geneA?\n",
    "        b. is pos in geneB?\n",
    "        c. is pos in between the two genes?\n",
    "        d. is pos within one of the two genes?\n",
    "        e. is pos outside both genes?\n",
    "        f. is pos within 100 bases before the start of geneA?\n",
    "    To pick a random number you can import the random module and use the random.randint(start,end) function:\n",
    "    \n",
    "    ```import random```\n",
    "    \n",
    "    ```pos = random.randint(1,6000)```\n",
    "    \n",
    "<div class=\"tggle\" onclick=\"toggleVisibility('ex6');\">Show/Hide Solution</div>\n",
    "<div id=\"ex6\" style=\"display:none;\">"
   ]
  },
  {
   "cell_type": "code",
   "execution_count": 44,
   "metadata": {},
   "outputs": [
    {
     "name": "stdout",
     "output_type": "stream",
     "text": [
      "Random position is:  4835\n",
      "Is  4835  in geneA [ 1000 , 3400 ]?  False\n",
      "Is  4835  in geneB [ 3700 , 5201 ]?  True\n",
      "Is  4835  between the two genes?  False\n",
      "Is  4835  in one of the two genes?  True\n",
      "Is  4835  outside of both genes?  False\n",
      "Is  4835  within 100 bases from the start of geneA?  False\n"
     ]
    }
   ],
   "source": [
    "import random\n",
    "\n",
    "geneA_start = 1000\n",
    "geneA_end = 3400\n",
    "geneB_start = 3700\n",
    "geneB_end = 5201\n",
    "\n",
    "pos = random.randint(1,6000)\n",
    "print(\"Random position is: \", pos)\n",
    "\n",
    "answerA = (pos >= geneA_start and pos <= geneA_end)\n",
    "answerB = (pos >= geneB_start and pos <= geneB_end)\n",
    "answerC = (pos >geneA_end and pos <geneB_start)\n",
    "answerD = (answerA or answerB)\n",
    "answerE = (pos < geneA_start or (pos > geneA_end and pos < geneB_start) or (pos > geneB_end))\n",
    "answerF = (pos >= geneA_start - 100 ) and (pos < geneA_start)\n",
    "print(\"Is \", pos, \" in geneA [\", geneA_start, \",\", geneA_end, \"]? \", answerA)\n",
    "print(\"Is \", pos, \" in geneB [\", geneB_start, \",\", geneB_end, \"]? \", answerB)\n",
    "print(\"Is \", pos, \" between the two genes? \", answerC)\n",
    "print(\"Is \", pos, \" in one of the two genes? \", answerD)\n",
    "print(\"Is \", pos, \" outside of both genes? \", answerE)\n",
    "print(\"Is \", pos, \" within 100 bases from the start of geneA? \", answerF)           "
   ]
  },
  {
   "cell_type": "markdown",
   "metadata": {},
   "source": [
    "</div>"
   ]
  },
  {
   "cell_type": "markdown",
   "metadata": {},
   "source": [
    "7. The DNA-binding domain of the Tumor Suppressor Protein TP53 can be represented by the string:\n",
    "\n",
    "chain_a = \"\"\"SSSVPSQKTYQGSYGFRLGFLHSGTAKSVTCTYSPALNKM\n",
    "FCQLAKTCPVQLWVDSTPPPGTRVRAMAIYKQSQHMTEVV\n",
    "RRCPHHERCSDSDGLAPPQHLIRVEGNLRVEYLDDRNTFR\n",
    "HSVVVPYEPPEVGSDCTTIHYNYMCNSSCMGGMNRRPILT\n",
    "IITLEDSSGNLLGRNSFEVRVCACPGRDRRTEEENLRKKG\n",
    "EPHHELPPGSTKRALPNNT\"\"\"\n",
    "\n",
    "Answer the following questions:\n",
    "\n",
    "    1. How many lines is the sequence written on?\n",
    "    2. How long is the sequence (remove newlines)?\n",
    "    3. Create a new sequence with all new lines removed\n",
    "    4. How many cysteines \"C\" and histidines \"H\" are there in the sequence?\n",
    "    5. Does the chain contain the sub-sequence \"NLRVEYLDDRN\"? Where?\n",
    "    6. Extract the first line of the sequence (Hint: use find and string slicing).\n",
    "\n",
    "<div class=\"tggle\" onclick=\"toggleVisibility('ex7');\">Show/Hide Solution</div>\n",
    "<div id=\"ex7\" style=\"display:none;\">"
   ]
  },
  {
   "cell_type": "code",
   "execution_count": 53,
   "metadata": {},
   "outputs": [
    {
     "name": "stdout",
     "output_type": "stream",
     "text": [
      "SSSVPSQKTYQGSYGFRLGFLHSGTAKSVTCTYSPALNKM\n",
      "FCQLAKTCPVQLWVDSTPPPGTRVRAMAIYKQSQHMTEVV\n",
      "RRCPHHERCSDSDGLAPPQHLIRVEGNLRVEYLDDRNTFR\n",
      "HSVVVPYEPPEVGSDCTTIHYNYMCNSSCMGGMNRRPILT\n",
      "IITLEDSSGNLLGRNSFEVRVCACPGRDRRTEEENLRKKG\n",
      "EPHHELPPGSTKRALPNNT\n",
      "The sequence is in  6  lines\n",
      "The sequence has  219  aminoacids\n",
      "The sequence counts  10  cysteins\n",
      "The sequence counts  9  histidines\n",
      "Does the sequence contain  NLRVEYLDDRN ? True\n",
      "NLRVEYLDDRN  is present at pos:  106 [check: NLRVEYLDDRN ]\n",
      "The first line is:  SSSVPSQKTYQGSYGFRLGFLHSGTAKSVTCTYSPALNKM\n"
     ]
    }
   ],
   "source": [
    "chain_a = \"\"\"SSSVPSQKTYQGSYGFRLGFLHSGTAKSVTCTYSPALNKM\n",
    "FCQLAKTCPVQLWVDSTPPPGTRVRAMAIYKQSQHMTEVV\n",
    "RRCPHHERCSDSDGLAPPQHLIRVEGNLRVEYLDDRNTFR\n",
    "HSVVVPYEPPEVGSDCTTIHYNYMCNSSCMGGMNRRPILT\n",
    "IITLEDSSGNLLGRNSFEVRVCACPGRDRRTEEENLRKKG\n",
    "EPHHELPPGSTKRALPNNT\"\"\"\n",
    "\n",
    "print(chain_a)\n",
    "lines = chain_a.count('\\n') + 1\n",
    "print(\"The sequence is in \", lines, \" lines\")\n",
    "\n",
    "sequence = chain_a.replace(\"\\n\",\"\")\n",
    "print(\"The sequence has \", len(sequence), \" aminoacids\")\n",
    "print(\"The sequence counts \", sequence.count('C'), \" cysteins\")\n",
    "print(\"The sequence counts \", sequence.count('H'), \" histidines\")\n",
    "subseq = \"NLRVEYLDDRN\"\n",
    "print(\"Does the sequence contain \", subseq, \"?\", subseq in sequence )\n",
    "pos = sequence.find(subseq)\n",
    "getS = sequence[pos:pos+len(subseq)]\n",
    "print(subseq, \" is present at pos: \", pos , \"[check:\", getS , \"]\")\n",
    "\n",
    "end_first_line = chain_a.find('\\n')\n",
    "print(\"The first line is: \", chain_a[0:end_first_line])"
   ]
  },
  {
   "cell_type": "markdown",
   "metadata": {},
   "source": [
    "</div>"
   ]
  },
  {
   "cell_type": "markdown",
   "metadata": {},
   "source": [
    "8. Calculate the zeros of the equation $ax^2-b = 0$ where a = 10 and b = 1. Hint: use math.sqrt or ** 0.5. Finally check that substituting the obtained value of x in the equation gives zero. \n",
    "\n",
    "<div class=\"tggle\" onclick=\"toggleVisibility('ex8');\">Show/Hide Solution</div>\n",
    "<div id=\"ex8\" style=\"display:none;\">"
   ]
  },
  {
   "cell_type": "code",
   "execution_count": 45,
   "metadata": {},
   "outputs": [
    {
     "name": "stdout",
     "output_type": "stream",
     "text": [
      "10X**2 - 1 = 0 for X: 0.31622776601683794\n",
      "True\n"
     ]
    }
   ],
   "source": [
    "import math\n",
    "\n",
    "A = 10\n",
    "B = 1\n",
    "\n",
    "X = math.sqrt(B/A)\n",
    "\n",
    "print(\"10X**2 - 1 = 0 for X:\", X)\n",
    "print(10*X**2 -1 == 0)"
   ]
  },
  {
   "cell_type": "markdown",
   "metadata": {},
   "source": [
    "</div>"
   ]
  }
 ],
 "metadata": {
  "celltoolbar": "Edit Metadata",
  "kernelspec": {
   "display_name": "Python 3",
   "language": "python",
   "name": "python3"
  },
  "language_info": {
   "codemirror_mode": {
    "name": "ipython",
    "version": 3
   },
   "file_extension": ".py",
   "mimetype": "text/x-python",
   "name": "python",
   "nbconvert_exporter": "python",
   "pygments_lexer": "ipython3",
   "version": "3.5.2"
  }
 },
 "nbformat": 4,
 "nbformat_minor": 2
}
